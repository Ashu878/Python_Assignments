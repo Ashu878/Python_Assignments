{
 "cells": [
  {
   "cell_type": "code",
   "execution_count": 7,
   "metadata": {},
   "outputs": [],
   "source": [
    "#1 Define a class with a generator which can iterate the numbers, which are divisible by 7, between a given range 0 and n.\n",
    "\n",
    "class Divi_7:\n",
    "    \"\"\"Class to generate numbers\"\"\"\n",
    "    def __init__(self,start,stop):\n",
    "        self.start = start\n",
    "        self.stop = stop\n",
    "        \n",
    "    def numbers(self):\n",
    "        \"\"\"Func to gen numbers div by 7\"\"\"\n",
    "        try:\n",
    "            for i in range(self.start,self.stop+1):\n",
    "                if (i % 7 == 0):\n",
    "                    yield i\n",
    "        except Exception as e:\n",
    "            print(e)\n",
    "            \n",
    "Main = Divi_7(0,7)"
   ]
  },
  {
   "cell_type": "code",
   "execution_count": 8,
   "metadata": {},
   "outputs": [
    {
     "data": {
      "text/plain": [
       "<generator object Divi_7.numbers at 0x0000027C3C12AEB0>"
      ]
     },
     "execution_count": 8,
     "metadata": {},
     "output_type": "execute_result"
    }
   ],
   "source": [
    "Main.numbers()"
   ]
  },
  {
   "cell_type": "code",
   "execution_count": 9,
   "metadata": {},
   "outputs": [],
   "source": [
    "Main.start = 0\n",
    "Main.stop = 100\n"
   ]
  },
  {
   "cell_type": "code",
   "execution_count": 11,
   "metadata": {},
   "outputs": [
    {
     "name": "stdout",
     "output_type": "stream",
     "text": [
      "0\n",
      "7\n",
      "14\n",
      "21\n",
      "28\n",
      "35\n",
      "42\n",
      "49\n",
      "56\n",
      "63\n",
      "70\n",
      "77\n",
      "84\n",
      "91\n",
      "98\n"
     ]
    }
   ],
   "source": [
    "for i in Main.numbers():\n",
    "    print(i)"
   ]
  },
  {
   "cell_type": "code",
   "execution_count": 35,
   "metadata": {},
   "outputs": [],
   "source": [
    "#2 Write a program to compute the frequency of the words from the input. The output should output after sorting the key alphanumerically.\n",
    "\n",
    "def counter(string):\n",
    "    \"\"\"Program to find  frequency\"\"\"\n",
    "    try:\n",
    "        newz = list(string.split(' '))\n",
    "        for i in newz:\n",
    "            counts = newz.count(i)\n",
    "            print(\"\\n{}:{}\".format(i,counts))\n",
    "    except Exception as e:\n",
    "        print(e)\n",
    "        \n",
    "    "
   ]
  },
  {
   "cell_type": "code",
   "execution_count": 36,
   "metadata": {},
   "outputs": [
    {
     "name": "stdout",
     "output_type": "stream",
     "text": [
      "\n",
      "New:1\n",
      "\n",
      "to:1\n",
      "\n",
      "Python:4\n",
      "\n",
      "or:1\n",
      "\n",
      "choosing:1\n",
      "\n",
      "between:1\n",
      "\n",
      "Python:4\n",
      "\n",
      "2:2\n",
      "\n",
      "and:1\n",
      "\n",
      "Python:4\n",
      "\n",
      "3?:1\n",
      "\n",
      "Read:1\n",
      "\n",
      "Python:4\n",
      "\n",
      "2:2\n",
      "\n",
      "or\n",
      "Python:1\n",
      "\n",
      "3.:1\n"
     ]
    }
   ],
   "source": [
    "counter(\"\"\"New to Python or choosing between Python 2 and Python 3? Read Python 2 or\n",
    "Python 3.\"\"\")"
   ]
  },
  {
   "cell_type": "code",
   "execution_count": 39,
   "metadata": {},
   "outputs": [],
   "source": [
    "#3 Define a class Person and its two child classes: Male and Female. All classes have a method &quot;getGender&quot; which can print &quot;Male&quot; for Male class and &quot;Female&quot; for Female class.\n",
    "\n",
    "class Person:\n",
    "    def getGender():\n",
    "        print(\"Person M or F\")\n",
    "        \n",
    "class Male(Person):\n",
    "    def getGender():\n",
    "        print(\"Male\")\n",
    "        \n",
    "class Female(Person):\n",
    "    def getGender():\n",
    "        print(\"Female\")"
   ]
  },
  {
   "cell_type": "code",
   "execution_count": 40,
   "metadata": {},
   "outputs": [
    {
     "name": "stdout",
     "output_type": "stream",
     "text": [
      "Male\n"
     ]
    }
   ],
   "source": [
    "Male.getGender()"
   ]
  },
  {
   "cell_type": "code",
   "execution_count": 41,
   "metadata": {},
   "outputs": [
    {
     "name": "stdout",
     "output_type": "stream",
     "text": [
      "Female\n"
     ]
    }
   ],
   "source": [
    "Female.getGender()"
   ]
  },
  {
   "cell_type": "code",
   "execution_count": 53,
   "metadata": {},
   "outputs": [],
   "source": [
    "#4 Please write a program to generate all sentences where subject is in [&quot;I&quot;, &quot;You&quot;] and verb is in [&quot;Play&quot;, &quot;Love&quot;] and the object is in [&quot;Hockey&quot;,&quot;Football&quot;].\n",
    "import random\n",
    "\n",
    "x = [\"I\" , \"You\"]\n",
    "y = ['Play', 'Love']\n",
    "z = ['Hockey', 'Football']\n",
    "\n",
    "\n",
    "def three(subject,verb,objects):\n",
    "    \"\"\"Func to create all possible sentences\"\"\"\n",
    "    try:\n",
    "        for i in subject:\n",
    "            for j in verb:\n",
    "                for k in objects:\n",
    "                    print(i,j,k)\n",
    "    except Exception as e:\n",
    "        print(e)"
   ]
  },
  {
   "cell_type": "code",
   "execution_count": 54,
   "metadata": {},
   "outputs": [
    {
     "name": "stdout",
     "output_type": "stream",
     "text": [
      "I Play Hockey\n",
      "I Play Football\n",
      "I Love Hockey\n",
      "I Love Football\n",
      "You Play Hockey\n",
      "You Play Football\n",
      "You Love Hockey\n",
      "You Love Football\n"
     ]
    }
   ],
   "source": [
    "three(x,y,z)"
   ]
  },
  {
   "cell_type": "code",
   "execution_count": 60,
   "metadata": {},
   "outputs": [],
   "source": [
    "#5 Please write a program to compress and decompress the string &quot;hello world!hello world!hello world!hello world!&quot;.\n",
    "\n",
    "import gzip\n",
    "\n",
    "def comp_dep(string):\n",
    "    \"\"\"Func to compress and decompress the string\"\"\"\n",
    "    try:\n",
    "        a = bytes(string,\"utf-8\")\n",
    "        comp = gzip.compress(a)\n",
    "        print(\"Compressed string: {}\".format(comp))\n",
    "        b = gzip.decompress(comp)\n",
    "        print(\"Decompressed string: {}\".format(b))\n",
    "    except Exception as e:\n",
    "        print(e)\n",
    "        \n"
   ]
  },
  {
   "cell_type": "code",
   "execution_count": 61,
   "metadata": {
    "scrolled": true
   },
   "outputs": [
    {
     "name": "stdout",
     "output_type": "stream",
     "text": [
      "Compressed string: b'\\x1f\\x8b\\x08\\x00\\xec\\xef\\xf7a\\x02\\xff\\xcbH\\xcd\\xc9\\xc9W(\\xcf/\\xcaIQ\\xcc \\x82\\xad\\x07\\x00\\xca\\xae\\xa0\\x111\\x00\\x00\\x00'\n",
      "Decompressed string: b'hello world!hello world!hello world!hello world!.'\n"
     ]
    }
   ],
   "source": [
    "comp_dep(\"hello world!hello world!hello world!hello world!.\")"
   ]
  },
  {
   "cell_type": "code",
   "execution_count": 64,
   "metadata": {},
   "outputs": [
    {
     "data": {
      "text/plain": [
       "[5, 6, 41]"
      ]
     },
     "execution_count": 64,
     "metadata": {},
     "output_type": "execute_result"
    }
   ],
   "source": [
    "x = [41,5,6]\n",
    "x.sort()\n",
    "x"
   ]
  },
  {
   "cell_type": "code",
   "execution_count": 31,
   "metadata": {},
   "outputs": [
    {
     "name": "stdout",
     "output_type": "stream",
     "text": [
      "3\n"
     ]
    }
   ],
   "source": [
    "# Please write a binary search function which searches an item in a sorted list. The function should return the index of element to be searched in the list.\n",
    "\n",
    "def binary_search(li, low, high, x):\n",
    "    \"\"\"Func to binary search a list\"\"\"\n",
    "    if low <= high:\n",
    "        mid = (low+high)//2\n",
    "        \n",
    "        if li[mid] == x:\n",
    "            print(mid)\n",
    "        \n",
    "        elif li[mid]<x:\n",
    "            binary_search(li,mid+1,high,x)\n",
    "        else: #li[mid]>x\n",
    "            binary_search(li,low,mid-1,x)\n",
    "            \n",
    "    else:\n",
    "        return \"Element not in the list\"\n",
    "    \n",
    "kk = [1,2,3,4,5,6]\n",
    "binary_search(kk,0,len(kk),4)\n",
    "            \n",
    "    \n",
    " \n"
   ]
  },
  {
   "cell_type": "code",
   "execution_count": 32,
   "metadata": {},
   "outputs": [
    {
     "data": {
      "text/plain": [
       "[3, 4, 4, 5, 6, 12, 13]"
      ]
     },
     "execution_count": 32,
     "metadata": {},
     "output_type": "execute_result"
    }
   ],
   "source": [
    "x = [3,4,5,6,13,12,4]\n",
    "x.sort()\n",
    "x\n"
   ]
  },
  {
   "cell_type": "code",
   "execution_count": 35,
   "metadata": {},
   "outputs": [
    {
     "name": "stdout",
     "output_type": "stream",
     "text": [
      "0\n"
     ]
    }
   ],
   "source": [
    "binary_search(x,0,len(x),3)"
   ]
  },
  {
   "cell_type": "code",
   "execution_count": 36,
   "metadata": {},
   "outputs": [
    {
     "name": "stdout",
     "output_type": "stream",
     "text": [
      "4\n"
     ]
    }
   ],
   "source": [
    "binary_search(x,0,len(x),6)"
   ]
  },
  {
   "cell_type": "code",
   "execution_count": null,
   "metadata": {},
   "outputs": [],
   "source": []
  }
 ],
 "metadata": {
  "kernelspec": {
   "display_name": "Python 3",
   "language": "python",
   "name": "python3"
  },
  "language_info": {
   "codemirror_mode": {
    "name": "ipython",
    "version": 3
   },
   "file_extension": ".py",
   "mimetype": "text/x-python",
   "name": "python",
   "nbconvert_exporter": "python",
   "pygments_lexer": "ipython3",
   "version": "3.8.3"
  }
 },
 "nbformat": 4,
 "nbformat_minor": 4
}
