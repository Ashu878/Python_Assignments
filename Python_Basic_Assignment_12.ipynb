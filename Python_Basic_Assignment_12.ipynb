{
 "cells": [
  {
   "cell_type": "code",
   "execution_count": 1,
   "metadata": {},
   "outputs": [],
   "source": [
    "#1. Write a Python program to Extract Unique values dictionary values?\n",
    "import logging\n",
    "logging.basicConfig(filename = \"test2.log\", level = logging.DEBUG, format = \"%(asctime)s %(levelname)s %(message)s\")\n",
    "\n",
    "\n",
    "def uni_dic(x):\n",
    "    \"\"\"To extract unique values in a dic\"\"\"\n",
    "    try:\n",
    "        if type(x) == dict:\n",
    "            main = []\n",
    "            for i in x.values():\n",
    "                main.append(i)\n",
    "            return set(main)\n",
    "        else:\n",
    "            raise Exception(\"Not a dict\")\n",
    "    except Exception as e:\n",
    "        logging.error(\"error occured {}\".format(e))"
   ]
  },
  {
   "cell_type": "code",
   "execution_count": 2,
   "metadata": {
    "scrolled": true
   },
   "outputs": [
    {
     "data": {
      "text/plain": [
       "{'a', 'b', 'c'}"
      ]
     },
     "execution_count": 2,
     "metadata": {},
     "output_type": "execute_result"
    }
   ],
   "source": [
    "uni_dic({1:'a',2:'b',3:'c',4:'c',5:'a',6:'b'})"
   ]
  },
  {
   "cell_type": "code",
   "execution_count": 3,
   "metadata": {},
   "outputs": [],
   "source": [
    "#2. Write a Python program to find the sum of all items in a dictionary?\n",
    "\n",
    "dic_1 = {1:'a',2:'b',3:'c',4:'c',5:'a',6:'b'}\n",
    "\n",
    "def summer(x):\n",
    "    \"\"\"Python program to sum all items in a dict\"\"\"\n",
    "    logging.info(\"Python program to sum all items in a dict\")\n",
    "    try:\n",
    "        total_keys = 0\n",
    "        total_values = 0\n",
    "        for i,j in zip(x.keys(),x.values()):\n",
    "            if type(i) == (int or float or bool):\n",
    "                total_keys += i\n",
    "            if type(j) == (int or float or bool):\n",
    "                total_values += j\n",
    "        total = total_keys + total_values\n",
    "        return \"Sum of keys: {}, Sum of values: {}, Total Sum: {}\".format(total_keys,total_values,total)\n",
    "    except Exception as e:\n",
    "        print(e)\n",
    "        logging.error(\"Error {}\".format(e))\n",
    "        \n",
    "    "
   ]
  },
  {
   "cell_type": "code",
   "execution_count": 4,
   "metadata": {},
   "outputs": [
    {
     "data": {
      "text/plain": [
       "'Sum of keys: 21, Sum of values: 0, Total Sum: 21'"
      ]
     },
     "execution_count": 4,
     "metadata": {},
     "output_type": "execute_result"
    }
   ],
   "source": [
    "summer(dic_1)"
   ]
  },
  {
   "cell_type": "code",
   "execution_count": 5,
   "metadata": {},
   "outputs": [
    {
     "data": {
      "text/plain": [
       "'Sum of keys: 6, Sum of values: 6, Total Sum: 12'"
      ]
     },
     "execution_count": 5,
     "metadata": {},
     "output_type": "execute_result"
    }
   ],
   "source": [
    "dic_2 = {1:1,2:2,3:3}\n",
    "summer(dic_2)"
   ]
  },
  {
   "cell_type": "code",
   "execution_count": 6,
   "metadata": {},
   "outputs": [],
   "source": [
    "#3. Write a Python program to Merging two Dictionaries?\n",
    "\n",
    "def add_dicts(a,b):\n",
    "    \"\"\"Adding two dictionaries\"\"\"\n",
    "    logging.info(\"Merging two dictionaries %s and %s\")\n",
    "    try:\n",
    "        a.update(b)\n",
    "        return a\n",
    "    except Exception as e:\n",
    "        print(e)\n",
    "        logging.error(\"Error {}\".format(e))"
   ]
  },
  {
   "cell_type": "code",
   "execution_count": 7,
   "metadata": {},
   "outputs": [
    {
     "data": {
      "text/plain": [
       "{1: 1, 2: 2, 3: 3, 4: 'c', 5: 'a', 6: 'b'}"
      ]
     },
     "execution_count": 7,
     "metadata": {},
     "output_type": "execute_result"
    }
   ],
   "source": [
    "add_dicts(dic_1,dic_2)"
   ]
  },
  {
   "cell_type": "code",
   "execution_count": 8,
   "metadata": {},
   "outputs": [
    {
     "name": "stdout",
     "output_type": "stream",
     "text": [
      "{1: 'a', 2: 'b', 3: 'c'}\n"
     ]
    }
   ],
   "source": [
    "#4. Write a Python program to convert key-values list to flat dictionary? #just an attempt not sure of the answer\n",
    "dic_3 = {'a': [1,2,3], 1:['a','b','c']}\n",
    "out = {}\n",
    "for i,j in zip(dic_3['a'],dic_3[1]):\n",
    "    out[i] = j\n",
    "print(out)\n",
    "    "
   ]
  },
  {
   "cell_type": "code",
   "execution_count": 9,
   "metadata": {},
   "outputs": [
    {
     "data": {
      "text/plain": [
       "OrderedDict([(0, 'a'), (1, 'b'), (2, 'c')])"
      ]
     },
     "execution_count": 9,
     "metadata": {},
     "output_type": "execute_result"
    }
   ],
   "source": [
    "#5. Write a Python program to insertion at the beginning in OrderedDict?\n",
    "from collections import OrderedDict\n",
    "\n",
    "dic_1 = OrderedDict()\n",
    "\n",
    "dic_1[0] = 'a'\n",
    "dic_1[1] = 'b'\n",
    "dic_1[2] = 'c'\n",
    "\n",
    "dic_1"
   ]
  },
  {
   "cell_type": "code",
   "execution_count": 10,
   "metadata": {},
   "outputs": [],
   "source": [
    "def sort_1(key,value):\n",
    "    \"\"\"Program to add value to first position\"\"\"\n",
    "    logging.info(\"%s %s adding these two as key value pair\")\n",
    "    try:\n",
    "        dic_1.update({key:value})\n",
    "        dic_1.move_to_end(key,last = False)\n",
    "        return dic_1\n",
    "    except Exception as e:\n",
    "        print(e)\n",
    "        logging.error(\"Error {}\".format(e))\n",
    "        "
   ]
  },
  {
   "cell_type": "code",
   "execution_count": 11,
   "metadata": {},
   "outputs": [
    {
     "data": {
      "text/plain": [
       "OrderedDict([(12, 12), (0, 'a'), (1, 'b'), (2, 'c')])"
      ]
     },
     "execution_count": 11,
     "metadata": {},
     "output_type": "execute_result"
    }
   ],
   "source": [
    "sort_1(12,12)"
   ]
  },
  {
   "cell_type": "code",
   "execution_count": 62,
   "metadata": {},
   "outputs": [],
   "source": [
    "#6. Write a Python program to check order of character in string using OrderedDict()?\n",
    "\n",
    "def ch_or(string,pattern):\n",
    "    \"\"\"Function to check if string follows the sequence of pattern\"\"\"\n",
    "    try:\n",
    "        main = OrderedDict.fromkeys(string)\n",
    "        \n",
    "        n = 0\n",
    "        for i,j in main.items():\n",
    "            if (i == pattern[n]):\n",
    "                n += 1\n",
    "            if n == len(pattern):\n",
    "                return \"Yes\",n,len(pattern)        \n",
    "        return \"No\"\n",
    "    except Exception as e:\n",
    "        print(e)\n",
    "        logging.error(\"Error occured {}\".format(e))"
   ]
  },
  {
   "cell_type": "code",
   "execution_count": 63,
   "metadata": {
    "scrolled": true
   },
   "outputs": [
    {
     "data": {
      "text/plain": [
       "('Yes', 3, 3)"
      ]
     },
     "execution_count": 63,
     "metadata": {},
     "output_type": "execute_result"
    }
   ],
   "source": [
    "ch_or('study','stu')"
   ]
  },
  {
   "cell_type": "code",
   "execution_count": 64,
   "metadata": {},
   "outputs": [
    {
     "data": {
      "text/plain": [
       "('Yes', 2, 2)"
      ]
     },
     "execution_count": 64,
     "metadata": {},
     "output_type": "execute_result"
    }
   ],
   "source": [
    "ch_or(\"eng\",\"en\")"
   ]
  },
  {
   "cell_type": "code",
   "execution_count": 65,
   "metadata": {},
   "outputs": [
    {
     "data": {
      "text/plain": [
       "'No'"
      ]
     },
     "execution_count": 65,
     "metadata": {},
     "output_type": "execute_result"
    }
   ],
   "source": [
    "ch_or(\"xyz\",\"ab\")"
   ]
  },
  {
   "cell_type": "code",
   "execution_count": 69,
   "metadata": {},
   "outputs": [
    {
     "name": "stdout",
     "output_type": "stream",
     "text": [
      "Sorting by keys\n",
      "a\n",
      "b\n",
      "c\n",
      "Sorting by values\n",
      "1\n",
      "2\n",
      "3\n"
     ]
    }
   ],
   "source": [
    "#7. Write a Python program to sort Python Dictionaries by Key or Value?\n",
    "\n",
    "dic_4 = {'a':1, 'c':3, 'b':2}\n",
    "\n",
    "print(\"Sorting by keys\")\n",
    "for i in sorted(dic_4.keys()):\n",
    "    print(i)\n",
    "\n",
    "print(\"Sorting by values\")\n",
    "for j in sorted(dic_4.values()):\n",
    "    print(j)"
   ]
  },
  {
   "cell_type": "code",
   "execution_count": null,
   "metadata": {},
   "outputs": [],
   "source": [
    "sorter(dic_4)"
   ]
  },
  {
   "cell_type": "code",
   "execution_count": null,
   "metadata": {},
   "outputs": [],
   "source": []
  }
 ],
 "metadata": {
  "kernelspec": {
   "display_name": "Python 3",
   "language": "python",
   "name": "python3"
  },
  "language_info": {
   "codemirror_mode": {
    "name": "ipython",
    "version": 3
   },
   "file_extension": ".py",
   "mimetype": "text/x-python",
   "name": "python",
   "nbconvert_exporter": "python",
   "pygments_lexer": "ipython3",
   "version": "3.8.3"
  }
 },
 "nbformat": 4,
 "nbformat_minor": 4
}
