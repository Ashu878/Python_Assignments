{
 "cells": [
  {
   "cell_type": "code",
   "execution_count": 59,
   "metadata": {},
   "outputs": [],
   "source": [
    "#Q1. Write a function that takes a list of lists and returns the value of all of the\n",
    "#symbols in it, where each symbol adds or takes something from the total\n",
    "#score. Symbol values:\n",
    "\n",
    "\n",
    "class check_score:\n",
    "    \"\"\"Class of unique values\"\"\"\n",
    "    def __init__(self,*args):\n",
    "        try:\n",
    "            self.args = args\n",
    "            for i in self.args:\n",
    "                for j in i:\n",
    "                    if type(j) != str:\n",
    "                        raise Exception(\"Invalid Input {}\".format(j))\n",
    "        except Exception as e:\n",
    "            print(e)\n",
    "            \n",
    "    def calulator(self):\n",
    "        \"\"\"Calculate expression\"\"\"\n",
    "        try:\n",
    "            total = 0\n",
    "            for i in self.args:\n",
    "                for j in range(len(i)):\n",
    "                    if i[j] == '#':\n",
    "                        i[j] = 5\n",
    "                    if i[j] == 'O':\n",
    "                        i[j] = 3\n",
    "                    if i[j] == 'X':\n",
    "                        i[j] = 1\n",
    "                    if i[j] == '!':\n",
    "                        i[j] = -1\n",
    "                    if i[j] == '!!':\n",
    "                        i[j] = -3\n",
    "                    if i[j] == '!!!':\n",
    "                        i[j] = -5\n",
    "            for i in self.args:\n",
    "                total += sum(i)\n",
    "            if total < 0:\n",
    "                total = 0\n",
    "            print(total)\n",
    "        except Exception as e:\n",
    "            print(e)\n",
    "    \n",
    "    "
   ]
  },
  {
   "cell_type": "code",
   "execution_count": 60,
   "metadata": {},
   "outputs": [],
   "source": [
    "a = check_score(['#','!'],['!!','X'])"
   ]
  },
  {
   "cell_type": "code",
   "execution_count": 61,
   "metadata": {},
   "outputs": [
    {
     "name": "stdout",
     "output_type": "stream",
     "text": [
      "2\n"
     ]
    }
   ],
   "source": [
    "a.calulator()"
   ]
  },
  {
   "cell_type": "code",
   "execution_count": 62,
   "metadata": {},
   "outputs": [],
   "source": [
    "b = check_score(['!!!','O','!'],['X','#','!!!'],['!!','X','O'])"
   ]
  },
  {
   "cell_type": "code",
   "execution_count": 63,
   "metadata": {},
   "outputs": [
    {
     "name": "stdout",
     "output_type": "stream",
     "text": [
      "0\n"
     ]
    }
   ],
   "source": [
    "b.calulator()"
   ]
  },
  {
   "cell_type": "code",
   "execution_count": 64,
   "metadata": {},
   "outputs": [
    {
     "name": "stdout",
     "output_type": "stream",
     "text": [
      "Invalid Input 1\n"
     ]
    }
   ],
   "source": [
    "b = check_score(['!!!','O','!'],[1,'#','!!!'],['!!','X','O'])"
   ]
  },
  {
   "cell_type": "code",
   "execution_count": 141,
   "metadata": {},
   "outputs": [
    {
     "data": {
      "text/plain": [
       "6"
      ]
     },
     "execution_count": 141,
     "metadata": {},
     "output_type": "execute_result"
    }
   ],
   "source": [
    "#Q2\n",
    "def combination(*args):\n",
    "    \"\"\"To find combination\"\"\"\n",
    "    out = 1\n",
    "    for i in args:\n",
    "        out *= i\n",
    "    return out\n",
    "combination(2,3)"
   ]
  },
  {
   "cell_type": "code",
   "execution_count": 142,
   "metadata": {},
   "outputs": [
    {
     "data": {
      "text/plain": [
       "84"
      ]
     },
     "execution_count": 142,
     "metadata": {},
     "output_type": "execute_result"
    }
   ],
   "source": [
    "combination(3,7,4)"
   ]
  },
  {
   "cell_type": "code",
   "execution_count": 143,
   "metadata": {},
   "outputs": [
    {
     "data": {
      "text/plain": [
       "120"
      ]
     },
     "execution_count": 143,
     "metadata": {},
     "output_type": "execute_result"
    }
   ],
   "source": [
    "combination(2,3,4,5)"
   ]
  },
  {
   "cell_type": "code",
   "execution_count": 69,
   "metadata": {},
   "outputs": [],
   "source": [
    "#Q3. Create a function that takes a string as an argument and returns the Morse\n",
    "#code equivalent.\n",
    "\n",
    "MORSE_CODE_DICT = { 'A':'.-', 'B':'-...',\n",
    "                    'C':'-.-.', 'D':'-..', 'E':'.',\n",
    "                    'F':'..-.', 'G':'--.', 'H':'....',\n",
    "                    'I':'..', 'J':'.---', 'K':'-.-',\n",
    "                    'L':'.-..', 'M':'--', 'N':'-.',\n",
    "                    'O':'---', 'P':'.--.', 'Q':'--.-',\n",
    "                    'R':'.-.', 'S':'...', 'T':'-',\n",
    "                    'U':'..-', 'V':'...-', 'W':'.--',\n",
    "                    'X':'-..-', 'Y':'-.--', 'Z':'--..',\n",
    "                    '1':'.----', '2':'..---', '3':'...--',\n",
    "                    '4':'....-', '5':'.....', '6':'-....',\n",
    "                    '7':'--...', '8':'---..', '9':'----.',\n",
    "                    '0':'-----', ', ':'--..--', '.':'.-.-.-',\n",
    "                    '?':'..--..', '/':'-..-.', '-':'-....-',\n",
    "                    '(':'-.--.', ')':'-.--.-'}"
   ]
  },
  {
   "cell_type": "code",
   "execution_count": 104,
   "metadata": {},
   "outputs": [],
   "source": [
    "class morse_convertor:\n",
    "    \"\"\"Class to convert to morse code\"\"\"\n",
    "    def __init__(self,string):\n",
    "        try:\n",
    "            self.string = string.upper()\n",
    "            if type(self.string) != str:\n",
    "                raise Exception(\"Invalid input\")\n",
    "        except Exception as e:\n",
    "            print(e)\n",
    "    \n",
    "    def str_to_moarse(self):\n",
    "        \"\"\"Function to convert from str to moarse\"\"\"\n",
    "        MORSE_CODE_DICT = { 'A':'.-', 'B':'-...',\n",
    "                    'C':'-.-.', 'D':'-..', 'E':'.',\n",
    "                    'F':'..-.', 'G':'--.', 'H':'....',\n",
    "                    'I':'..', 'J':'.---', 'K':'-.-',\n",
    "                    'L':'.-..', 'M':'--', 'N':'-.',\n",
    "                    'O':'---', 'P':'.--.', 'Q':'--.-',\n",
    "                    'R':'.-.', 'S':'...', 'T':'-',\n",
    "                    'U':'..-', 'V':'...-', 'W':'.--',\n",
    "                    'X':'-..-', 'Y':'-.--', 'Z':'--..',\n",
    "                    '1':'.----', '2':'..---', '3':'...--',\n",
    "                    '4':'....-', '5':'.....', '6':'-....',\n",
    "                    '7':'--...', '8':'---..', '9':'----.',\n",
    "                    '0':'-----', ', ':'--..--', '.':'.-.-.-',\n",
    "                    '?':'..--..', '/':'-..-.', '-':'-....-',\n",
    "                    '(':'-.--.', ')':'-.--.-'}\n",
    "        try:\n",
    "            out = \"\"\n",
    "            for i in self.string:\n",
    "                if i == \" \":\n",
    "                    continue\n",
    "                out += MORSE_CODE_DICT.get(i)\n",
    "            print(out)\n",
    "        except Exception as e:\n",
    "            print(e)\n",
    "            \n",
    "                \n",
    "            \n",
    "        \n",
    "        "
   ]
  },
  {
   "cell_type": "code",
   "execution_count": 105,
   "metadata": {},
   "outputs": [],
   "source": [
    "ob1 = morse_convertor(\"HELP ME\")"
   ]
  },
  {
   "cell_type": "code",
   "execution_count": 106,
   "metadata": {},
   "outputs": [
    {
     "name": "stdout",
     "output_type": "stream",
     "text": [
      "......-...--.--.\n"
     ]
    }
   ],
   "source": [
    "ob1.str_to_moarse()"
   ]
  },
  {
   "cell_type": "code",
   "execution_count": 107,
   "metadata": {},
   "outputs": [],
   "source": [
    "ob2 = morse_convertor(\"EDABBIT CHALLENGE\")"
   ]
  },
  {
   "cell_type": "code",
   "execution_count": 108,
   "metadata": {},
   "outputs": [
    {
     "name": "stdout",
     "output_type": "stream",
     "text": [
      ".-...--...-.....--.-......-.-...-...-.--..\n"
     ]
    }
   ],
   "source": [
    "ob2.str_to_moarse()"
   ]
  },
  {
   "cell_type": "code",
   "execution_count": 116,
   "metadata": {},
   "outputs": [],
   "source": [
    "#Q4. Write a function that takes a number and returns True if it&#39;s a prime; False\n",
    "#otherwise. The number can be 2^64-1 (2 to the power of 63, not XOR). With\n",
    "#the standard technique it would be O(2^64-1), which is much too large for the\n",
    "#10 second time limit.\n",
    "\n",
    "def primer(n):\n",
    "    if n == 2:\n",
    "        return True\n",
    "    for i in range(2,n):\n",
    "        if n%i == 0:\n",
    "            return False\n",
    "    else:\n",
    "        return True"
   ]
  },
  {
   "cell_type": "code",
   "execution_count": 117,
   "metadata": {},
   "outputs": [
    {
     "data": {
      "text/plain": [
       "True"
      ]
     },
     "execution_count": 117,
     "metadata": {},
     "output_type": "execute_result"
    }
   ],
   "source": [
    "primer(7)"
   ]
  },
  {
   "cell_type": "code",
   "execution_count": 118,
   "metadata": {},
   "outputs": [
    {
     "data": {
      "text/plain": [
       "True"
      ]
     },
     "execution_count": 118,
     "metadata": {},
     "output_type": "execute_result"
    }
   ],
   "source": [
    "primer(56963)"
   ]
  },
  {
   "cell_type": "code",
   "execution_count": 119,
   "metadata": {},
   "outputs": [
    {
     "data": {
      "text/plain": [
       "False"
      ]
     },
     "execution_count": 119,
     "metadata": {},
     "output_type": "execute_result"
    }
   ],
   "source": [
    "primer(5151512515524)"
   ]
  },
  {
   "cell_type": "code",
   "execution_count": 137,
   "metadata": {},
   "outputs": [],
   "source": [
    "#Q5 Create a function that converts a word to a bitstring and then to a boolean list based on the following criteria:\n",
    "\n",
    "def w_bit(string):\n",
    "    \"\"\"To convert str to boolean \"\"\"\n",
    "    try:\n",
    "        if type(string) != str:\n",
    "            raise Exception(\"False value\")\n",
    "            \n",
    "            \n",
    "        a = 'abcdefghijklmnopqrstuvwxyz'\n",
    "        main = list(\"\".join(a))\n",
    "        out = []\n",
    "        \n",
    "        \n",
    "        for i in string.lower():\n",
    "            if main.index(i) % 2 == 0:\n",
    "                out.append(True)\n",
    "            else:\n",
    "                out.append(False)\n",
    "        return out\n",
    "                \n",
    "    except Exception as e:\n",
    "        print(e)\n",
    "        "
   ]
  },
  {
   "cell_type": "code",
   "execution_count": 138,
   "metadata": {},
   "outputs": [
    {
     "data": {
      "text/plain": [
       "[False, True, True, False]"
      ]
     },
     "execution_count": 138,
     "metadata": {},
     "output_type": "execute_result"
    }
   ],
   "source": [
    "w_bit('deep')"
   ]
  },
  {
   "cell_type": "code",
   "execution_count": 139,
   "metadata": {},
   "outputs": [
    {
     "data": {
      "text/plain": [
       "[False, True, False, True, True]"
      ]
     },
     "execution_count": 139,
     "metadata": {},
     "output_type": "execute_result"
    }
   ],
   "source": [
    "w_bit(\"loves\")"
   ]
  },
  {
   "cell_type": "code",
   "execution_count": 140,
   "metadata": {},
   "outputs": [
    {
     "data": {
      "text/plain": [
       "[False, True, True, False]"
      ]
     },
     "execution_count": 140,
     "metadata": {},
     "output_type": "execute_result"
    }
   ],
   "source": [
    "w_bit(\"tesh\")"
   ]
  },
  {
   "cell_type": "code",
   "execution_count": null,
   "metadata": {},
   "outputs": [],
   "source": []
  }
 ],
 "metadata": {
  "kernelspec": {
   "display_name": "Python 3",
   "language": "python",
   "name": "python3"
  },
  "language_info": {
   "codemirror_mode": {
    "name": "ipython",
    "version": 3
   },
   "file_extension": ".py",
   "mimetype": "text/x-python",
   "name": "python",
   "nbconvert_exporter": "python",
   "pygments_lexer": "ipython3",
   "version": "3.8.3"
  }
 },
 "nbformat": 4,
 "nbformat_minor": 4
}
