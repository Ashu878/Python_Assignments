{
 "cells": [
  {
   "cell_type": "code",
   "execution_count": 47,
   "metadata": {
    "scrolled": false
   },
   "outputs": [
    {
     "data": {
      "text/plain": [
       "6"
      ]
     },
     "execution_count": 47,
     "metadata": {},
     "output_type": "execute_result"
    }
   ],
   "source": [
    "#1. Write a Python Program to find sum of array?\n",
    "\n",
    "from array import *\n",
    "vals = array('i',[1,2,3])\n",
    "\n",
    "def sum_arr(x):\n",
    "    \"\"\"Function to give sum of an array\"\"\"\n",
    "    main = 0\n",
    "    for i in x:\n",
    "        main += i\n",
    "    return main\n",
    "\n",
    "sum_arr(vals)\n",
    "        \n",
    "\n",
    "        "
   ]
  },
  {
   "cell_type": "code",
   "execution_count": 48,
   "metadata": {},
   "outputs": [
    {
     "data": {
      "text/plain": [
       "3"
      ]
     },
     "execution_count": 48,
     "metadata": {},
     "output_type": "execute_result"
    }
   ],
   "source": [
    "#2. Write a Python Program to find largest element in an array?\n",
    "\n",
    "def largest(l):\n",
    "    \"\"\"Function to return largest value in an array\"\"\"\n",
    "    return max(l)\n",
    "\n",
    "largest(vals)"
   ]
  },
  {
   "cell_type": "code",
   "execution_count": 168,
   "metadata": {},
   "outputs": [
    {
     "data": {
      "text/plain": [
       "array('i', [3, 4, 5, 6, 7, 8, 9, 0, 1, 2])"
      ]
     },
     "execution_count": 168,
     "metadata": {},
     "output_type": "execute_result"
    }
   ],
   "source": [
    "#3. Write a Python Program for array rotation?\n",
    "fr = array('i',[i for i in range(10)])\n",
    "def rotate_r(Array_user,rotate_r):\n",
    "    \"\"\"rotating array towards right for specefied steps\"\"\"\n",
    "    \n",
    "    add = []\n",
    "    for i in range(rotate_r):\n",
    "        add.append(Array_user[i])\n",
    "    for j in add:\n",
    "        Array_user.remove(j)\n",
    "    for k in add:\n",
    "        Array_user.append(k)\n",
    "    \n",
    "        \n",
    "    return Array_user\n",
    "\n",
    "rotate_r(fr,3)\n"
   ]
  },
  {
   "cell_type": "code",
   "execution_count": 160,
   "metadata": {},
   "outputs": [],
   "source": [
    "#4. Write a Python Program to Split the array and add the first part to the end?\n",
    "vals1 = array('i', [1, 2, 3, 4, 5, 6])\n",
    "\n",
    "def splitter(x):\n",
    "    \"\"\"Splitting and adding\"\"\"\n",
    "    add = []\n",
    "    for i in range(len(x)//2):\n",
    "        add.append(x[i])\n",
    "    for j in add:\n",
    "        x.remove(j)\n",
    "    for k in add:\n",
    "        x.append(k)\n",
    "    \n",
    "        \n",
    "    return x\n",
    "        \n",
    "        \n",
    "        \n",
    "    \n",
    "        \n",
    "        \n",
    "    "
   ]
  },
  {
   "cell_type": "code",
   "execution_count": 161,
   "metadata": {},
   "outputs": [
    {
     "data": {
      "text/plain": [
       "array('i', [4, 5, 6, 1, 2, 3])"
      ]
     },
     "execution_count": 161,
     "metadata": {},
     "output_type": "execute_result"
    }
   ],
   "source": [
    "splitter(vals1)"
   ]
  },
  {
   "cell_type": "code",
   "execution_count": 147,
   "metadata": {},
   "outputs": [],
   "source": [
    "#5. Write a Python Program to check if given array is Monotonic?\n",
    "\n",
    "vals = array('i', [1, 2, 3, 4, 5, 6])\n",
    "bl1 = array(\"i\",[4,3,2,1,0])\n",
    "\n",
    "def mono_check(x):\n",
    "    \"\"\"To check wether array is monotonic or not\"\"\"\n",
    "    k = 0\n",
    "    j = 0\n",
    "    for i in range(len(x)-1):\n",
    "        if x[i] <= x[i+1]:\n",
    "            k += 1\n",
    "        if x[i] >= x[i+1]:\n",
    "            j += 1\n",
    "    if k == len(x)-1 or j == len(x)-1:\n",
    "        return \"Monotonic\"\n",
    "    else:\n",
    "        return \"Not Monotonic\"\n",
    "        \n"
   ]
  },
  {
   "cell_type": "code",
   "execution_count": 153,
   "metadata": {},
   "outputs": [
    {
     "data": {
      "text/plain": [
       "'Monotonic'"
      ]
     },
     "execution_count": 153,
     "metadata": {},
     "output_type": "execute_result"
    }
   ],
   "source": [
    "mono_check(bl1)"
   ]
  },
  {
   "cell_type": "code",
   "execution_count": 156,
   "metadata": {},
   "outputs": [
    {
     "data": {
      "text/plain": [
       "'Not Monotonic'"
      ]
     },
     "execution_count": 156,
     "metadata": {},
     "output_type": "execute_result"
    }
   ],
   "source": [
    "mono_check(vals)"
   ]
  },
  {
   "cell_type": "code",
   "execution_count": null,
   "metadata": {},
   "outputs": [],
   "source": []
  }
 ],
 "metadata": {
  "kernelspec": {
   "display_name": "Python 3",
   "language": "python",
   "name": "python3"
  },
  "language_info": {
   "codemirror_mode": {
    "name": "ipython",
    "version": 3
   },
   "file_extension": ".py",
   "mimetype": "text/x-python",
   "name": "python",
   "nbconvert_exporter": "python",
   "pygments_lexer": "ipython3",
   "version": "3.8.3"
  }
 },
 "nbformat": 4,
 "nbformat_minor": 4
}
