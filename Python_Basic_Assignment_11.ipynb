{
 "cells": [
  {
   "cell_type": "code",
   "execution_count": 1,
   "metadata": {
    "scrolled": true
   },
   "outputs": [],
   "source": [
    "#1. Write a Python program to find words which are greater than given length k?\n",
    "\n",
    "from random_word import *\n",
    "import logging \n",
    "logging.basicConfig(filename = \"test2.log\",level = logging.DEBUG, format = \"%(asctime)s %(levelname)s %(message)s\")"
   ]
  },
  {
   "cell_type": "code",
   "execution_count": 2,
   "metadata": {
    "scrolled": true
   },
   "outputs": [],
   "source": [
    "\n",
    "def generator():\n",
    "    \"\"\"This function generates random words of specefic length\"\"\"\n",
    "    a = RandomWords()\n",
    "    words = a.get_random_words()\n",
    "    try:\n",
    "        size = int(input(\"Enter size of alphabet upto 15 words in length \"))\n",
    "        numbers = int(input(\"Enter number of alphabets only can generate upto 50 words\"))\n",
    "        \n",
    "        if size >= 15 or numbers >=50:\n",
    "            raise Exception()\n",
    "            \n",
    "        stop = 0\n",
    "        for i in words:\n",
    "            if len(i) > size:\n",
    "                print(i)\n",
    "                stop += 1\n",
    "            if numbers == stop:\n",
    "                break\n",
    "        \n",
    "        \n",
    "\n",
    "    except Exception as e:\n",
    "        return \"Incorrect inputs\", print(e)\n",
    "            \n",
    "\n",
    "\n",
    "        \n",
    "\n"
   ]
  },
  {
   "cell_type": "code",
   "execution_count": 3,
   "metadata": {
    "scrolled": true
   },
   "outputs": [
    {
     "name": "stdout",
     "output_type": "stream",
     "text": [
      "Enter size of alphabet upto 15 words in length 7\n",
      "Enter number of alphabets only can generate upto 50 words12\n",
      "realisation\n",
      "lightvessel\n",
      "Edward V\n",
      "Papal States\n",
      "misquotes\n",
      "saponifiable\n",
      "roborate\n",
      "wood-block\n",
      "overofficious\n",
      "trimillennial\n",
      "Feldenkrais\n",
      "lapidification\n"
     ]
    }
   ],
   "source": [
    "generator()"
   ]
  },
  {
   "cell_type": "code",
   "execution_count": 4,
   "metadata": {},
   "outputs": [
    {
     "name": "stdout",
     "output_type": "stream",
     "text": [
      "Enter size of alphabet upto 15 words in length 6\n",
      "Enter number of alphabets only can generate upto 50 words49\n",
      "diagramma\n",
      "happifying\n",
      "fadging\n",
      "limnanthemum\n",
      "consensus\n",
      "scratchy\n",
      "ultrametric\n",
      "pubbish\n",
      "Salique\n",
      "tolerablish\n",
      "ungnarled\n",
      "inoperable\n",
      "axeblades\n",
      "dulcorate\n",
      "long-resolved\n",
      "water-hen\n",
      "reissued\n",
      "tetherin\n",
      "plundering\n",
      "Savanna\n",
      "recapitalizing\n",
      "lifeforms\n",
      "beading\n",
      "blaxploitation\n",
      "stuffier\n",
      "capaciousness\n",
      "methyldopa\n",
      "Norman French\n",
      "tuberculi\n",
      "constituted\n",
      "schmatte\n",
      "bilaminar\n",
      "fluoresces\n",
      "gadgets\n",
      "raftman\n",
      "Jodrell Bank\n",
      "keepest\n",
      "lawrencium\n",
      "scallies\n",
      "beboppers\n",
      "scrimshanker\n",
      "negligible\n",
      "glucinum\n",
      "theologically\n",
      "unknitted\n",
      "waesucks\n"
     ]
    }
   ],
   "source": [
    "generator()"
   ]
  },
  {
   "cell_type": "code",
   "execution_count": 34,
   "metadata": {},
   "outputs": [],
   "source": [
    "#2. Write a Python program for removing i-th character from a string?\n",
    "\n",
    "def remover(x):\n",
    "    \"\"\"Function to remove character from a string\"\"\"\n",
    "    try:\n",
    "        user_input = int(input(\"Please select position of character to remove: \")) - 1\n",
    "        y = x.replace(x[user_input],\"\")\n",
    "        return y\n",
    "    except Exception as e:\n",
    "        logging.error(\"Error Occured\")\n",
    "        logging.exception(\"Type of error\" + str(e))\n",
    "        \n",
    "        "
   ]
  },
  {
   "cell_type": "code",
   "execution_count": 35,
   "metadata": {},
   "outputs": [
    {
     "name": "stdout",
     "output_type": "stream",
     "text": [
      "Please select position of character to remove: 1\n"
     ]
    },
    {
     "data": {
      "text/plain": [
       "'shu'"
      ]
     },
     "execution_count": 35,
     "metadata": {},
     "output_type": "execute_result"
    }
   ],
   "source": [
    "remover(\"Ashu\")"
   ]
  },
  {
   "cell_type": "code",
   "execution_count": 36,
   "metadata": {},
   "outputs": [
    {
     "name": "stdout",
     "output_type": "stream",
     "text": [
      "Please select position of character to remove: 8\n"
     ]
    },
    {
     "data": {
      "text/plain": [
       "'Ashu Chndr Singh'"
      ]
     },
     "execution_count": 36,
     "metadata": {},
     "output_type": "execute_result"
    }
   ],
   "source": [
    "remover(\"Ashu Chandra Singh\")"
   ]
  },
  {
   "cell_type": "code",
   "execution_count": 20,
   "metadata": {},
   "outputs": [],
   "source": [
    "#3. Write a Python program to split and join a string?\n",
    "a = \"Marcus Aurilies\"\n",
    "\n",
    "def split_join(x):\n",
    "    \"Function to split and join\"\n",
    "    try:\n",
    "        if type(x) == str:\n",
    "            return x.split()\n",
    "        elif type(x) == list:\n",
    "            return \"\".join(x)\n",
    "    except Exception as e:\n",
    "        return \"Incorrect Inputs\"\n",
    "        logging.error(\"Type of error generated: {}\".format(e))"
   ]
  },
  {
   "cell_type": "code",
   "execution_count": 21,
   "metadata": {},
   "outputs": [
    {
     "data": {
      "text/plain": [
       "'Ashu'"
      ]
     },
     "execution_count": 21,
     "metadata": {},
     "output_type": "execute_result"
    }
   ],
   "source": [
    "split_join([\"Ashu\"])"
   ]
  },
  {
   "cell_type": "code",
   "execution_count": 22,
   "metadata": {},
   "outputs": [
    {
     "data": {
      "text/plain": [
       "['Ashu']"
      ]
     },
     "execution_count": 22,
     "metadata": {},
     "output_type": "execute_result"
    }
   ],
   "source": [
    "split_join(\"Ashu\")"
   ]
  },
  {
   "cell_type": "code",
   "execution_count": 23,
   "metadata": {},
   "outputs": [
    {
     "data": {
      "text/plain": [
       "['Marcus', 'Aurilies']"
      ]
     },
     "execution_count": 23,
     "metadata": {},
     "output_type": "execute_result"
    }
   ],
   "source": [
    "split_join(a)"
   ]
  },
  {
   "cell_type": "code",
   "execution_count": 29,
   "metadata": {},
   "outputs": [],
   "source": [
    "#4. Write a Python to check if a given string is binary string or not?\n",
    "a = \"11010101\"\n",
    "\n",
    "def bin_check(x):\n",
    "    \"\"\"Fun to check wether it is binary or not\"\"\"\n",
    "    try:\n",
    "        main = set(x)\n",
    "        if main == {'0','1'} or main == {'0'} or main == {'1'}:\n",
    "            return \"Binary\"\n",
    "        else:\n",
    "            return \"Not Binary\"\n",
    "    except Exception as e:\n",
    "        return 'Incorrect Input'\n",
    "        logging.error(\"Error generated {}\".format(e))"
   ]
  },
  {
   "cell_type": "code",
   "execution_count": 30,
   "metadata": {},
   "outputs": [
    {
     "data": {
      "text/plain": [
       "'Binary'"
      ]
     },
     "execution_count": 30,
     "metadata": {},
     "output_type": "execute_result"
    }
   ],
   "source": [
    "bin_check(a)"
   ]
  },
  {
   "cell_type": "code",
   "execution_count": 32,
   "metadata": {},
   "outputs": [
    {
     "data": {
      "text/plain": [
       "'Not Binary'"
      ]
     },
     "execution_count": 32,
     "metadata": {},
     "output_type": "execute_result"
    }
   ],
   "source": [
    "bin_check(\"01as\")"
   ]
  },
  {
   "cell_type": "code",
   "execution_count": 33,
   "metadata": {},
   "outputs": [
    {
     "data": {
      "text/plain": [
       "'Binary'"
      ]
     },
     "execution_count": 33,
     "metadata": {},
     "output_type": "execute_result"
    }
   ],
   "source": [
    "bin_check(\"0101\")"
   ]
  },
  {
   "cell_type": "code",
   "execution_count": 54,
   "metadata": {},
   "outputs": [],
   "source": [
    "#5. Write a Python program to find uncommon words from two Strings?\n",
    "a = \"Abcdef\"\n",
    "b = \"Avbhaf\"\n",
    "\n",
    "\n",
    "def uncommon(str_1,str_2):\n",
    "    \"\"\"To find uncommon words from two strings\"\"\"\n",
    "    z = []\n",
    "    try:\n",
    "        for i,j in zip(str_1,str_2):\n",
    "            if i != j:\n",
    "                z.append((i,j))\n",
    "        return \"Uncommon words: {}\".format(z)\n",
    "    except Exception as e:\n",
    "        print(\"Error Occured\")\n",
    "        logging.error(\"Error occured: {}\".format(e))\n"
   ]
  },
  {
   "cell_type": "code",
   "execution_count": 55,
   "metadata": {},
   "outputs": [
    {
     "data": {
      "text/plain": [
       "\"Uncommon words: [('b', 'v'), ('c', 'b'), ('d', 'h'), ('e', 'a')]\""
      ]
     },
     "execution_count": 55,
     "metadata": {},
     "output_type": "execute_result"
    }
   ],
   "source": [
    "uncommon(a,b)"
   ]
  },
  {
   "cell_type": "code",
   "execution_count": 56,
   "metadata": {},
   "outputs": [
    {
     "data": {
      "text/plain": [
       "\"Uncommon words: [('s', 'x')]\""
      ]
     },
     "execution_count": 56,
     "metadata": {},
     "output_type": "execute_result"
    }
   ],
   "source": [
    "uncommon(\"Ashu\",\"Axhu\")"
   ]
  },
  {
   "cell_type": "code",
   "execution_count": 70,
   "metadata": {},
   "outputs": [],
   "source": [
    "#6. Write a Python to find all duplicate characters in string?\n",
    "def common(x):\n",
    "    \"\"\"To find common words in string\"\"\"\n",
    "    try:\n",
    "        l1 = list(x)\n",
    "        uniq = set(x)\n",
    "        for i in uniq:\n",
    "            l1.remove(i)\n",
    "        return \"\".join(l1)\n",
    "    except Exception as e:\n",
    "        logging.error(\"Error {}\".format(e))\n",
    "\n",
    "        \n",
    "        \n",
    "            "
   ]
  },
  {
   "cell_type": "code",
   "execution_count": 71,
   "metadata": {},
   "outputs": [
    {
     "data": {
      "text/plain": [
       "'s'"
      ]
     },
     "execution_count": 71,
     "metadata": {},
     "output_type": "execute_result"
    }
   ],
   "source": [
    "common(\"Assu\")"
   ]
  },
  {
   "cell_type": "code",
   "execution_count": 72,
   "metadata": {},
   "outputs": [
    {
     "data": {
      "text/plain": [
       "'ABab'"
      ]
     },
     "execution_count": 72,
     "metadata": {},
     "output_type": "execute_result"
    }
   ],
   "source": [
    "common(\"AABBaabb\")"
   ]
  },
  {
   "cell_type": "code",
   "execution_count": 74,
   "metadata": {},
   "outputs": [],
   "source": [
    "#7. Write a Python Program to check if a string contains any special character?\n",
    "\n",
    "def spe_checker(x):\n",
    "    \"\"\"To find unique values\"\"\"\n",
    "\n",
    "    spec = '[@_!#$%^&*()<>?/\\|}{~:]'\n",
    "    \n",
    "    try:\n",
    "        for i in x:\n",
    "            if i in spec:\n",
    "                return \"Unique Element exists in string\"\n",
    "        return \"No special Character\"\n",
    "    except Exception as e:\n",
    "        logging.error(\"Error Occured {}\".format(e))\n",
    "\n",
    "\n",
    "    "
   ]
  },
  {
   "cell_type": "code",
   "execution_count": 75,
   "metadata": {},
   "outputs": [
    {
     "data": {
      "text/plain": [
       "'No special Character'"
      ]
     },
     "execution_count": 75,
     "metadata": {},
     "output_type": "execute_result"
    }
   ],
   "source": [
    "spe_checker(\"Ashu\")"
   ]
  },
  {
   "cell_type": "code",
   "execution_count": 76,
   "metadata": {},
   "outputs": [
    {
     "data": {
      "text/plain": [
       "'Unique Element exists in string'"
      ]
     },
     "execution_count": 76,
     "metadata": {},
     "output_type": "execute_result"
    }
   ],
   "source": [
    "spe_checker(\"A&%@\")"
   ]
  },
  {
   "cell_type": "code",
   "execution_count": null,
   "metadata": {},
   "outputs": [],
   "source": []
  }
 ],
 "metadata": {
  "kernelspec": {
   "display_name": "Python 3",
   "language": "python",
   "name": "python3"
  },
  "language_info": {
   "codemirror_mode": {
    "name": "ipython",
    "version": 3
   },
   "file_extension": ".py",
   "mimetype": "text/x-python",
   "name": "python",
   "nbconvert_exporter": "python",
   "pygments_lexer": "ipython3",
   "version": "3.8.3"
  }
 },
 "nbformat": 4,
 "nbformat_minor": 4
}
