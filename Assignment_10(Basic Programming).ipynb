{
 "cells": [
  {
   "cell_type": "code",
   "execution_count": 70,
   "metadata": {},
   "outputs": [],
   "source": [
    "#1. Write a Python program to find sum of elements in list?\n",
    "a = [1,2,3,4]\n",
    "\n",
    "def summer(x):\n",
    "    \"\"\"Summing a list\"\"\"\n",
    "    try:\n",
    "        return sum(x)\n",
    "    except:\n",
    "        return \"Incorrect input\"\n",
    "    "
   ]
  },
  {
   "cell_type": "code",
   "execution_count": 71,
   "metadata": {},
   "outputs": [
    {
     "data": {
      "text/plain": [
       "10"
      ]
     },
     "execution_count": 71,
     "metadata": {},
     "output_type": "execute_result"
    }
   ],
   "source": [
    "summer(a)"
   ]
  },
  {
   "cell_type": "code",
   "execution_count": 73,
   "metadata": {},
   "outputs": [],
   "source": [
    "#2. Write a Python program to Multiply all numbers in the list?\n",
    "def mul(x):\n",
    "    \"\"\"Multiplying a list\"\"\"\n",
    "    try:\n",
    "        out = 1\n",
    "        for i in x:\n",
    "            out *= i\n",
    "        return out\n",
    "    except:\n",
    "        return \"Incorrect input\"\n",
    "\n",
    "\n",
    "    "
   ]
  },
  {
   "cell_type": "code",
   "execution_count": 74,
   "metadata": {},
   "outputs": [
    {
     "data": {
      "text/plain": [
       "24"
      ]
     },
     "execution_count": 74,
     "metadata": {},
     "output_type": "execute_result"
    }
   ],
   "source": [
    "mul(a)"
   ]
  },
  {
   "cell_type": "code",
   "execution_count": 89,
   "metadata": {},
   "outputs": [],
   "source": [
    "#3. Write a Python program to find smallest number in a list?\n",
    "\n",
    "def smallest(x):\n",
    "    \"\"\"Function to find the smallest\"\"\"\n",
    "    return min(x)"
   ]
  },
  {
   "cell_type": "code",
   "execution_count": 90,
   "metadata": {},
   "outputs": [
    {
     "data": {
      "text/plain": [
       "2"
      ]
     },
     "execution_count": 90,
     "metadata": {},
     "output_type": "execute_result"
    }
   ],
   "source": [
    "smallest([12,14,2])"
   ]
  },
  {
   "cell_type": "code",
   "execution_count": 91,
   "metadata": {},
   "outputs": [],
   "source": [
    "#4. Write a Python program to find largest number in a list?\n",
    "\n",
    "def largest(x):\n",
    "    \"\"\"Largest item in a list\"\"\"\n",
    "    return max(x)"
   ]
  },
  {
   "cell_type": "code",
   "execution_count": 92,
   "metadata": {},
   "outputs": [
    {
     "data": {
      "text/plain": [
       "44"
      ]
     },
     "execution_count": 92,
     "metadata": {},
     "output_type": "execute_result"
    }
   ],
   "source": [
    "largest([12,44])"
   ]
  },
  {
   "cell_type": "code",
   "execution_count": 93,
   "metadata": {},
   "outputs": [],
   "source": [
    "#5. Write a Python program to find second largest number in a list?\n",
    "def second_largest(x):\n",
    "    \"\"\"Second largest\"\"\"\n",
    "    x.sort()\n",
    "    return x[1]"
   ]
  },
  {
   "cell_type": "code",
   "execution_count": 94,
   "metadata": {},
   "outputs": [
    {
     "data": {
      "text/plain": [
       "2"
      ]
     },
     "execution_count": 94,
     "metadata": {},
     "output_type": "execute_result"
    }
   ],
   "source": [
    "second_largest([1,2,3])"
   ]
  },
  {
   "cell_type": "code",
   "execution_count": 104,
   "metadata": {},
   "outputs": [],
   "source": [
    "#6. Write a Python program to find N largest elements from a list?\n",
    "def n_largest(n_size,li_list):\n",
    "    \"\"\"N largest elements from a list\"\"\"\n",
    "    li_list.sort(reverse = True)\n",
    "    for i in range(n_size):\n",
    "        print(li_list[i])"
   ]
  },
  {
   "cell_type": "code",
   "execution_count": 105,
   "metadata": {},
   "outputs": [
    {
     "name": "stdout",
     "output_type": "stream",
     "text": [
      "99\n",
      "77\n"
     ]
    }
   ],
   "source": [
    "n_largest(2,[12,66,77,99])"
   ]
  },
  {
   "cell_type": "code",
   "execution_count": 107,
   "metadata": {},
   "outputs": [],
   "source": [
    "#7. Write a Python program to print even numbers in a list?\n",
    "def evener(x):\n",
    "    \"\"\"Python prog for even numbers\"\"\"\n",
    "    for i in x:\n",
    "        if i%2==0:\n",
    "            print(i)\n"
   ]
  },
  {
   "cell_type": "code",
   "execution_count": 108,
   "metadata": {},
   "outputs": [
    {
     "name": "stdout",
     "output_type": "stream",
     "text": [
      "2\n",
      "4\n",
      "6\n",
      "8\n"
     ]
    }
   ],
   "source": [
    "evener([1,2,3,4,5,6,7,8,9])"
   ]
  },
  {
   "cell_type": "code",
   "execution_count": 109,
   "metadata": {},
   "outputs": [],
   "source": [
    "#8. Write a Python program to print odd numbers in a List?\n",
    "def odder(x):\n",
    "    \"\"\"Python prog for oder numbers\"\"\"\n",
    "    for i in x:\n",
    "        if i%2==0:\n",
    "            continue\n",
    "        else:\n",
    "            print(i)"
   ]
  },
  {
   "cell_type": "code",
   "execution_count": 110,
   "metadata": {},
   "outputs": [
    {
     "name": "stdout",
     "output_type": "stream",
     "text": [
      "1\n",
      "3\n",
      "5\n",
      "7\n",
      "9\n"
     ]
    }
   ],
   "source": [
    "odder(list(range(10)))"
   ]
  },
  {
   "cell_type": "code",
   "execution_count": 129,
   "metadata": {},
   "outputs": [],
   "source": [
    "#9. Write a Python program to Remove empty List from List?\n",
    "def remover(x):\n",
    "    \"\"\"Python prog to remove empty list from a list\"\"\"\n",
    "    main = []\n",
    "    for i in x:\n",
    "        if i: #if value of i is true\n",
    "            main.append(i)\n",
    "    return main\n",
    "\n",
    "            \n",
    "    "
   ]
  },
  {
   "cell_type": "code",
   "execution_count": 130,
   "metadata": {},
   "outputs": [
    {
     "data": {
      "text/plain": [
       "[1, 2, 3, [1, 2]]"
      ]
     },
     "execution_count": 130,
     "metadata": {},
     "output_type": "execute_result"
    }
   ],
   "source": [
    "remover([1,2,3,[1,2],[]])"
   ]
  },
  {
   "cell_type": "code",
   "execution_count": 131,
   "metadata": {
    "scrolled": true
   },
   "outputs": [
    {
     "data": {
      "text/plain": [
       "[12, 12, [1, 2]]"
      ]
     },
     "execution_count": 131,
     "metadata": {},
     "output_type": "execute_result"
    }
   ],
   "source": [
    "remover([12,12,[],[],[1,2]])"
   ]
  },
  {
   "cell_type": "code",
   "execution_count": 140,
   "metadata": {},
   "outputs": [],
   "source": [
    "#10. Write a Python program to Cloning or Copying a list?\n",
    "import copy\n",
    "\n",
    "a = [1, 2, 3, [1, 2],[1,2]]\n",
    "\n",
    "def copier(x):\n",
    "    \"\"\"Return deep copy of variable\"\"\"\n",
    "    return copy.deepcopy(a)\n",
    "new = copier(a)"
   ]
  },
  {
   "cell_type": "code",
   "execution_count": 141,
   "metadata": {},
   "outputs": [
    {
     "data": {
      "text/plain": [
       "[1, 2, 3, [1, 2], [1, 2]]"
      ]
     },
     "execution_count": 141,
     "metadata": {},
     "output_type": "execute_result"
    }
   ],
   "source": [
    "new"
   ]
  },
  {
   "cell_type": "code",
   "execution_count": 143,
   "metadata": {},
   "outputs": [
    {
     "data": {
      "text/plain": [
       "7"
      ]
     },
     "execution_count": 143,
     "metadata": {},
     "output_type": "execute_result"
    }
   ],
   "source": [
    "#11. Write a Python program to Count occurrences of an element in a list?\n",
    "\n",
    "a = [1, 2, 3, [1, 2],[1,2]]\n",
    "def counter(x):\n",
    "    main = 0\n",
    "    for i in x:\n",
    "        main += 1\n",
    "        if type(i) == list:\n",
    "            main = main - 1 \n",
    "            for j in i:\n",
    "                main += 1\n",
    "    return main\n",
    "\n",
    "counter(a)"
   ]
  },
  {
   "cell_type": "code",
   "execution_count": null,
   "metadata": {},
   "outputs": [],
   "source": []
  }
 ],
 "metadata": {
  "kernelspec": {
   "display_name": "Python 3",
   "language": "python",
   "name": "python3"
  },
  "language_info": {
   "codemirror_mode": {
    "name": "ipython",
    "version": 3
   },
   "file_extension": ".py",
   "mimetype": "text/x-python",
   "name": "python",
   "nbconvert_exporter": "python",
   "pygments_lexer": "ipython3",
   "version": "3.8.3"
  }
 },
 "nbformat": 4,
 "nbformat_minor": 4
}
