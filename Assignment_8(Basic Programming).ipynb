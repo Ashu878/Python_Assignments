{
 "cells": [
  {
   "cell_type": "code",
   "execution_count": 17,
   "metadata": {},
   "outputs": [],
   "source": [
    "#1. Write a Python Program to Add Two Matrices?\n",
    "\n",
    "import numpy as np\n",
    "\n",
    "mat1 = np.array([[1,1,1],[1,1,1],[1,1,1]])\n",
    "mat2 = np.array([[2,2,2],[2,2,2],[2,2,2]])\n",
    "mat3 = np.array([[3,3,3],[3,3,3],[3,3,3]])\n",
    "mat4 = np.array([[12,5,3],[15,2,9],[4,33,98]])"
   ]
  },
  {
   "cell_type": "code",
   "execution_count": 18,
   "metadata": {},
   "outputs": [
    {
     "data": {
      "text/plain": [
       "array([[3, 3, 3],\n",
       "       [3, 3, 3],\n",
       "       [3, 3, 3]])"
      ]
     },
     "execution_count": 18,
     "metadata": {},
     "output_type": "execute_result"
    }
   ],
   "source": [
    "def added(x,y):\n",
    "    \"\"\"Python program to add two matrices\"\"\"\n",
    "    return x+y\n",
    "\n",
    "added(mat1,mat2)"
   ]
  },
  {
   "cell_type": "code",
   "execution_count": 35,
   "metadata": {},
   "outputs": [
    {
     "data": {
      "text/plain": [
       "array([[6, 6, 6],\n",
       "       [6, 6, 6],\n",
       "       [6, 6, 6]])"
      ]
     },
     "execution_count": 35,
     "metadata": {},
     "output_type": "execute_result"
    }
   ],
   "source": [
    "#2. Write a Python Program to Multiply Two Matrices?\n",
    "def mul(x,y):\n",
    "    \"\"\"Multiplying two matrices\"\"\"\n",
    "    try:\n",
    "        return x*y\n",
    "    except:\n",
    "        return \"False info by user\"\n",
    "\n",
    "mul(mat3,mat2)"
   ]
  },
  {
   "cell_type": "code",
   "execution_count": 21,
   "metadata": {},
   "outputs": [
    {
     "data": {
      "text/plain": [
       "array([[12, 15,  4],\n",
       "       [ 5,  2, 33],\n",
       "       [ 3,  9, 98]])"
      ]
     },
     "execution_count": 21,
     "metadata": {},
     "output_type": "execute_result"
    }
   ],
   "source": [
    "#3. Write a Python Program to Transpose a Matrix?\n",
    "\n",
    "def transposer(x):\n",
    "    \"\"\"Returning transpose\"\"\"\n",
    "    return x.transpose()\n",
    "\n",
    "transposer(mat4)"
   ]
  },
  {
   "cell_type": "code",
   "execution_count": 42,
   "metadata": {},
   "outputs": [],
   "source": [
    "#4. Write a Python Program to Sort Words in Alphabetic Order?\n",
    "\n",
    "def sorter(x):\n",
    "    \"\"\"Sorting words\"\"\"\n",
    "    try:\n",
    "        vals = list(x)\n",
    "        vals.sort()\n",
    "        main = \"\"\n",
    "        for i in vals:\n",
    "            main += i\n",
    "        return main\n",
    "    except:\n",
    "        return \"Provide string\"\n",
    "    "
   ]
  },
  {
   "cell_type": "code",
   "execution_count": 44,
   "metadata": {},
   "outputs": [
    {
     "data": {
      "text/plain": [
       "'abc'"
      ]
     },
     "execution_count": 44,
     "metadata": {},
     "output_type": "execute_result"
    }
   ],
   "source": [
    "sorter(\"cba\")"
   ]
  },
  {
   "cell_type": "code",
   "execution_count": 45,
   "metadata": {},
   "outputs": [
    {
     "data": {
      "text/plain": [
       "'Provide string'"
      ]
     },
     "execution_count": 45,
     "metadata": {},
     "output_type": "execute_result"
    }
   ],
   "source": [
    "sorter(123)"
   ]
  },
  {
   "cell_type": "code",
   "execution_count": 66,
   "metadata": {},
   "outputs": [],
   "source": [
    "#5. Write a Python Program to Remove Punctuation From a String?\n",
    "def remover(x):\n",
    "    \"\"\"Removing punctuation\"\"\"\n",
    "    punctuations = '''!()-[]{};:'\"\\,<>./?@#$%^&*_~'''\n",
    "    try:\n",
    "        out = '' \n",
    "        for i in x:\n",
    "            if i in punctuations:\n",
    "                x = x.replace(i, \"\")\n",
    "        return x\n",
    "            \n",
    "    except Exception as e:\n",
    "        return \"Provide string\",e\n",
    "        "
   ]
  },
  {
   "cell_type": "code",
   "execution_count": 67,
   "metadata": {},
   "outputs": [
    {
     "data": {
      "text/plain": [
       "'Ashu'"
      ]
     },
     "execution_count": 67,
     "metadata": {},
     "output_type": "execute_result"
    }
   ],
   "source": [
    "remover(\"\"\"Ashu!()-[]{};:'\"\\,<>./?@#$%^&*_~\"\"\")"
   ]
  },
  {
   "cell_type": "code",
   "execution_count": null,
   "metadata": {},
   "outputs": [],
   "source": []
  }
 ],
 "metadata": {
  "kernelspec": {
   "display_name": "Python 3",
   "language": "python",
   "name": "python3"
  },
  "language_info": {
   "codemirror_mode": {
    "name": "ipython",
    "version": 3
   },
   "file_extension": ".py",
   "mimetype": "text/x-python",
   "name": "python",
   "nbconvert_exporter": "python",
   "pygments_lexer": "ipython3",
   "version": "3.8.3"
  }
 },
 "nbformat": 4,
 "nbformat_minor": 4
}
