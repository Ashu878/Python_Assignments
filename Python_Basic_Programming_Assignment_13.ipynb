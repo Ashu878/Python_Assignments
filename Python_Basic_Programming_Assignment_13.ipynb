{
 "cells": [
  {
   "cell_type": "code",
   "execution_count": 75,
   "metadata": {},
   "outputs": [],
   "source": [
    "#1. Write a program that calculates and prints the value according to the given formula:\n",
    "#Q = Square root of [(2 * C * D)/H]\n",
    "\n",
    "\n",
    "import logging \n",
    "logging.basicConfig(filename = \"test2.log\", level = logging.DEBUG, format = \"%(asctime)s %(levelname)s %(message)s\")\n",
    "    "
   ]
  },
  {
   "cell_type": "code",
   "execution_count": 76,
   "metadata": {},
   "outputs": [],
   "source": [
    "         \n",
    "         \n",
    "def formul(*x):\n",
    "    \"\"\"Function to calculate a value with a given formula\"\"\"\n",
    "    try:\n",
    "        C = 50\n",
    "        H = 30\n",
    "        total = []\n",
    "        for i in x:\n",
    "            Q = int(((2*C*i)/H)**0.5)\n",
    "            total.append(str(Q))\n",
    "        return \",\".join(total)\n",
    "    except Exception as e:\n",
    "        logging.error(\"Error occured {}\".format(e))\n",
    "        return e\n",
    "        \n",
    "        \n",
    "        \n",
    "    "
   ]
  },
  {
   "cell_type": "code",
   "execution_count": 78,
   "metadata": {
    "scrolled": true
   },
   "outputs": [
    {
     "data": {
      "text/plain": [
       "'6,7,7'"
      ]
     },
     "execution_count": 78,
     "metadata": {},
     "output_type": "execute_result"
    }
   ],
   "source": [
    "formul(14,15,16)"
   ]
  },
  {
   "cell_type": "code",
   "execution_count": 86,
   "metadata": {},
   "outputs": [
    {
     "data": {
      "text/plain": [
       "'18,22,24'"
      ]
     },
     "execution_count": 86,
     "metadata": {},
     "output_type": "execute_result"
    }
   ],
   "source": [
    "formul(100,150,180)"
   ]
  },
  {
   "cell_type": "code",
   "execution_count": 79,
   "metadata": {},
   "outputs": [],
   "source": [
    "#2 Write a program which takes 2 digits, X,Y as input and generates a 2-dimensional array. The\n",
    "#element value in the i-th row and j-th column of the array should be i*j.\n",
    "#Note: i=0,1.., X-1; j=0,1,¡Y-1.\n",
    "\n",
    "import numpy as np\n"
   ]
  },
  {
   "cell_type": "code",
   "execution_count": 82,
   "metadata": {},
   "outputs": [
    {
     "name": "stdout",
     "output_type": "stream",
     "text": [
      "Enter rows: 3\n",
      "Enter columns: 5\n"
     ]
    },
    {
     "data": {
      "text/plain": [
       "array([[0, 0, 0, 0, 0],\n",
       "       [0, 1, 2, 3, 4],\n",
       "       [0, 2, 4, 6, 8]])"
      ]
     },
     "execution_count": 82,
     "metadata": {},
     "output_type": "execute_result"
    }
   ],
   "source": [
    "def ar_creator(x,y):\n",
    "    \"\"\"Function to create an array of two arguements\"\"\"\n",
    "    logging.info(\"Creating a 2D matrix of %s x %s size\")\n",
    "    total = []\n",
    "    try:\n",
    "        for i in range(x):\n",
    "            part = []\n",
    "            for j in range(y):\n",
    "                part.append(i*j)\n",
    "            total.append(part)\n",
    "        return np.array(total)\n",
    "    except Exception as e:\n",
    "        print(e)\n",
    "        logging.error(\"Error occured {}\".format(e))\n",
    "    \n",
    "row = int(input(\"Enter rows: \"))\n",
    "col = int(input(\"Enter columns: \"))\n",
    "\n",
    "ar_creator(row,col)\n",
    "        "
   ]
  },
  {
   "cell_type": "code",
   "execution_count": 84,
   "metadata": {},
   "outputs": [
    {
     "name": "stdout",
     "output_type": "stream",
     "text": [
      "Enter rows: 4\n",
      "Enter columns: 10\n"
     ]
    }
   ],
   "source": [
    "row1 = int(input(\"Enter rows: \"))\n",
    "col1 = int(input(\"Enter columns: \"))"
   ]
  },
  {
   "cell_type": "code",
   "execution_count": 85,
   "metadata": {},
   "outputs": [
    {
     "data": {
      "text/plain": [
       "array([[ 0,  0,  0,  0,  0,  0,  0,  0,  0,  0],\n",
       "       [ 0,  1,  2,  3,  4,  5,  6,  7,  8,  9],\n",
       "       [ 0,  2,  4,  6,  8, 10, 12, 14, 16, 18],\n",
       "       [ 0,  3,  6,  9, 12, 15, 18, 21, 24, 27]])"
      ]
     },
     "execution_count": 85,
     "metadata": {},
     "output_type": "execute_result"
    }
   ],
   "source": [
    "ar_creator(row1,col1)"
   ]
  },
  {
   "cell_type": "code",
   "execution_count": 104,
   "metadata": {},
   "outputs": [],
   "source": [
    "#3. Write a program that accepts a comma separated sequence of words as input and prints the\n",
    "#words in a comma-separated sequence after sorting them alphabetically.\n",
    "\n",
    "def csv():\n",
    "    \"\"\"Function to sort csv\"\"\"\n",
    "    try:\n",
    "        x = list(map(str,input(\"Enter comma seperated words: \").split(\",\")))\n",
    "        x.sort()\n",
    "        return r\",\".join(x)\n",
    "    except Exception as e:\n",
    "        print(e)\n",
    "        logging.error(\"{}\".format(e))\n"
   ]
  },
  {
   "cell_type": "code",
   "execution_count": 105,
   "metadata": {},
   "outputs": [
    {
     "name": "stdout",
     "output_type": "stream",
     "text": [
      "Enter comma seperated words: xyz,lkj,abc\n"
     ]
    },
    {
     "data": {
      "text/plain": [
       "'abc,lkj,xyz'"
      ]
     },
     "execution_count": 105,
     "metadata": {},
     "output_type": "execute_result"
    }
   ],
   "source": [
    "csv()"
   ]
  },
  {
   "cell_type": "code",
   "execution_count": 106,
   "metadata": {},
   "outputs": [
    {
     "name": "stdout",
     "output_type": "stream",
     "text": [
      "Enter comma seperated words: without,hello,bag,world\n"
     ]
    },
    {
     "data": {
      "text/plain": [
       "'bag,hello,without,world'"
      ]
     },
     "execution_count": 106,
     "metadata": {},
     "output_type": "execute_result"
    }
   ],
   "source": [
    "csv()"
   ]
  },
  {
   "cell_type": "code",
   "execution_count": 112,
   "metadata": {},
   "outputs": [],
   "source": [
    "#4. Write a program that accepts a sequence of whitespace separated words as input and prints\n",
    "#the words after removing all duplicate words and sorting them alphanumerically.\n",
    "\n",
    "def sor_dup():\n",
    "    \"\"\"Function to sep and dup\"\"\"\n",
    "    try:\n",
    "        x = list(map(str,input().split(\" \")))\n",
    "        main = set(x)\n",
    "        return \" \".join(main)\n",
    "    except Exception as e:\n",
    "        print(e)\n",
    "        logging.error(\"Error occured {}\".format(e))"
   ]
  },
  {
   "cell_type": "code",
   "execution_count": 113,
   "metadata": {},
   "outputs": [
    {
     "name": "stdout",
     "output_type": "stream",
     "text": [
      "ashu chandra singh xcv bvc ninin\n"
     ]
    },
    {
     "data": {
      "text/plain": [
       "'singh ashu ninin bvc chandra xcv'"
      ]
     },
     "execution_count": 113,
     "metadata": {},
     "output_type": "execute_result"
    }
   ],
   "source": [
    "sor_dup()"
   ]
  },
  {
   "cell_type": "code",
   "execution_count": 115,
   "metadata": {},
   "outputs": [
    {
     "name": "stdout",
     "output_type": "stream",
     "text": [
      "again and hello makes perfect practice world\n"
     ]
    },
    {
     "data": {
      "text/plain": [
       "'hello again and perfect practice world makes'"
      ]
     },
     "execution_count": 115,
     "metadata": {},
     "output_type": "execute_result"
    }
   ],
   "source": [
    "sor_dup()"
   ]
  },
  {
   "cell_type": "code",
   "execution_count": 128,
   "metadata": {},
   "outputs": [],
   "source": [
    "#5 Write a program that accepts a sentence and calculate the number of letters and digits.\n",
    "\n",
    "def let_dig():\n",
    "    \"\"\"To calculate letters and digits\"\"\"\n",
    "    try:\n",
    "        x = input(\"Enter string of letters and digits: \")\n",
    "        letters = 0\n",
    "        digits = 0\n",
    "        for i in x:\n",
    "            if i.isalpha():\n",
    "                letters += 1\n",
    "            if i.isdigit():\n",
    "                digits += 1\n",
    "        return \"\"\"LETTERS {}  DIGITS {}\"\"\".format(letters,digits)\n",
    "    except Exception as e:\n",
    "        print(e)\n",
    "        logging.error(\"Error occured {}\".format(e))\n",
    "        \n",
    "        \n",
    "        "
   ]
  },
  {
   "cell_type": "code",
   "execution_count": 129,
   "metadata": {},
   "outputs": [
    {
     "name": "stdout",
     "output_type": "stream",
     "text": [
      "Enter string of letters and digits: Write a program that accepts a sentence and calculate the number of letters and digits.\n"
     ]
    },
    {
     "data": {
      "text/plain": [
       "'LETTERS 72  DIGITS 0'"
      ]
     },
     "execution_count": 129,
     "metadata": {},
     "output_type": "execute_result"
    }
   ],
   "source": [
    "let_dig()"
   ]
  },
  {
   "cell_type": "code",
   "execution_count": 130,
   "metadata": {},
   "outputs": [
    {
     "name": "stdout",
     "output_type": "stream",
     "text": [
      "Enter string of letters and digits: hello world! 123\n"
     ]
    },
    {
     "data": {
      "text/plain": [
       "'LETTERS 10  DIGITS 3'"
      ]
     },
     "execution_count": 130,
     "metadata": {},
     "output_type": "execute_result"
    }
   ],
   "source": [
    "let_dig()"
   ]
  },
  {
   "cell_type": "code",
   "execution_count": null,
   "metadata": {},
   "outputs": [],
   "source": [
    "#6. A website requires the users to input username and password to register. Write a program to\n",
    "#check the validity of password input by users.\n",
    "#Following are the criteria for checking the password:\n",
    "#1. At least 1 letter between [a-z]\n",
    "# At least 1 character from [$#@]\n",
    "#. Minimum length of transaction password: 6\n",
    "#. Maximum length of transaction password: 12\n",
    "#Your program should accept a sequence of comma separated passwords and will check them\n",
    "#according to the above criteria. Passwords that match the criteria are to be printed, each\n",
    "#separated by a comma."
   ]
  },
  {
   "cell_type": "code",
   "execution_count": 218,
   "metadata": {},
   "outputs": [],
   "source": [
    "import string\n",
    "letters_cap = string.ascii_uppercase\n",
    "letters_sm = string.ascii_lowercase\n",
    "digits = string.digits\n",
    "special = '$#@'\n",
    "not_include = '!\"%&\\'()*+,-./:;<=>?[\\\\]^_`{|}~'\n",
    "\n",
    "def password():\n",
    "    \"\"\"Password to check wether given word is password or not\"\"\"\n",
    "    try:\n",
    "        final = []\n",
    "        user = list(map(str,input().split(\",\")))\n",
    "        for inputs in user:\n",
    "            length = 0\n",
    "            for letters in inputs:\n",
    "                length += 1\n",
    "            if length >= 6 and length <= 12:\n",
    "                l,sm,d,s,no = 0,0,0,0,0\n",
    "                for main in inputs:\n",
    "                    if main in letters_cap:\n",
    "                        l += 1\n",
    "                    if main in letters_sm:\n",
    "                        sm += 1\n",
    "                    if main in digits:\n",
    "                         d += 1\n",
    "                    if main in special:\n",
    "                         s += 1\n",
    "                    if main in not_include:\n",
    "                        no += 1\n",
    "                        \n",
    "\n",
    "                if (l > 0) and (sm > 0) and (d > 0) and (s > 0) and (no == 0):\n",
    "                    final.append(inputs)\n",
    "        print(\",\".join(final))\n",
    "        \n",
    "                \n",
    "        \n",
    "\n",
    "                    \n",
    "                    \n",
    "    except Exception as e:\n",
    "        print(e)\n",
    "        logging.error(\"Error {}\".format(e))\n"
   ]
  },
  {
   "cell_type": "code",
   "execution_count": 219,
   "metadata": {},
   "outputs": [
    {
     "name": "stdout",
     "output_type": "stream",
     "text": [
      "ABd1234@1,a F1#,2w3E*,2We3345\n",
      "ABd1234@1\n"
     ]
    }
   ],
   "source": [
    "password()"
   ]
  },
  {
   "cell_type": "code",
   "execution_count": 220,
   "metadata": {},
   "outputs": [
    {
     "name": "stdout",
     "output_type": "stream",
     "text": [
      "Ashu@1234,ashu,Dbviwb12@#$\n",
      "Ashu@1234,Dbviwb12@#$\n"
     ]
    }
   ],
   "source": [
    "password()"
   ]
  },
  {
   "cell_type": "code",
   "execution_count": 223,
   "metadata": {
    "scrolled": true
   },
   "outputs": [
    {
     "name": "stdout",
     "output_type": "stream",
     "text": [
      "Ashu@1234,Dbviwb12@#$,Ashu@1234&,Dbviwb12@#$&\n",
      "Ashu@1234,Dbviwb12@#$\n"
     ]
    }
   ],
   "source": [
    "password()"
   ]
  },
  {
   "cell_type": "code",
   "execution_count": null,
   "metadata": {},
   "outputs": [],
   "source": []
  }
 ],
 "metadata": {
  "kernelspec": {
   "display_name": "Python 3",
   "language": "python",
   "name": "python3"
  },
  "language_info": {
   "codemirror_mode": {
    "name": "ipython",
    "version": 3
   },
   "file_extension": ".py",
   "mimetype": "text/x-python",
   "name": "python",
   "nbconvert_exporter": "python",
   "pygments_lexer": "ipython3",
   "version": "3.8.3"
  }
 },
 "nbformat": 4,
 "nbformat_minor": 4
}
