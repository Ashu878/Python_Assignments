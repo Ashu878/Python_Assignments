{
 "cells": [
  {
   "cell_type": "code",
   "execution_count": 78,
   "metadata": {},
   "outputs": [
    {
     "data": {
      "text/plain": [
       "'No numbers'"
      ]
     },
     "execution_count": 78,
     "metadata": {},
     "output_type": "execute_result"
    }
   ],
   "source": [
    "#Question1. Create a function that takes three arguments a, b, c and returns the sum of the\n",
    "#numbers that are evenly divided by c from the range a, b inclusive.\n",
    "\n",
    "def evenly_divided(a,b,c):\n",
    "    \"\"\"Func to evenly divi\"\"\"\n",
    "    try: \n",
    "        total = 0\n",
    "        for i in range(a,b+1):\n",
    "            if (i % c == 0):\n",
    "                total += i\n",
    "        if total > 0:\n",
    "            return total\n",
    "        else:\n",
    "            return \"No numbers\"\n",
    "    except Exception as e:\n",
    "        print(e)\n",
    "        \n",
    "evenly_divided(1,10,20)"
   ]
  },
  {
   "cell_type": "code",
   "execution_count": 79,
   "metadata": {},
   "outputs": [
    {
     "data": {
      "text/plain": [
       "30"
      ]
     },
     "execution_count": 79,
     "metadata": {},
     "output_type": "execute_result"
    }
   ],
   "source": [
    "evenly_divided(1,10,2)"
   ]
  },
  {
   "cell_type": "code",
   "execution_count": 80,
   "metadata": {},
   "outputs": [
    {
     "data": {
      "text/plain": [
       "18"
      ]
     },
     "execution_count": 80,
     "metadata": {},
     "output_type": "execute_result"
    }
   ],
   "source": [
    "evenly_divided(1,10,3)"
   ]
  },
  {
   "cell_type": "code",
   "execution_count": 92,
   "metadata": {},
   "outputs": [],
   "source": [
    "#Question2. Create a function that returns True if a given inequality expression is correct and False otherwise.\n",
    "import parser\n",
    "\n",
    "def correct_signs(string):\n",
    "    \"\"\"Python function to evaluate string\"\"\"\n",
    "    try:\n",
    "        a = parser.expr(string).compile()\n",
    "        result = eval(a)\n",
    "        return result\n",
    "    except Exception as e:\n",
    "        print(e)"
   ]
  },
  {
   "cell_type": "code",
   "execution_count": 93,
   "metadata": {},
   "outputs": [
    {
     "data": {
      "text/plain": [
       "True"
      ]
     },
     "execution_count": 93,
     "metadata": {},
     "output_type": "execute_result"
    }
   ],
   "source": [
    "correct_signs(\"3<7<11\")"
   ]
  },
  {
   "cell_type": "code",
   "execution_count": 94,
   "metadata": {},
   "outputs": [
    {
     "data": {
      "text/plain": [
       "False"
      ]
     },
     "execution_count": 94,
     "metadata": {},
     "output_type": "execute_result"
    }
   ],
   "source": [
    "correct_signs(\"13>44>33>1\")"
   ]
  },
  {
   "cell_type": "code",
   "execution_count": 95,
   "metadata": {},
   "outputs": [
    {
     "data": {
      "text/plain": [
       "True"
      ]
     },
     "execution_count": 95,
     "metadata": {},
     "output_type": "execute_result"
    }
   ],
   "source": [
    "correct_signs(\"5>4>3\")"
   ]
  },
  {
   "cell_type": "code",
   "execution_count": 171,
   "metadata": {},
   "outputs": [],
   "source": [
    "#Question3. Create a function that replaces all the vowels in a string with a specified character.\n",
    "\n",
    "def replace_vowels(string,value):\n",
    "    \"\"\"Func to replace all vowels in a string with special characters\"\"\"\n",
    "    try:\n",
    "        sh = string.lower()\n",
    "        main = list(\"\".join(sh))\n",
    "        for i in range(len(main)):\n",
    "            \n",
    "            if main[i] ==  'a' or main[i] == 'e' or main[i] == 'i' or main[i] == 'o' or main[i] == 'u':\n",
    "                main[i] = value\n",
    "        print(\"\".join(main))\n",
    "    except Exception as e:\n",
    "        print(e)\n"
   ]
  },
  {
   "cell_type": "code",
   "execution_count": 172,
   "metadata": {},
   "outputs": [
    {
     "name": "stdout",
     "output_type": "stream",
     "text": [
      "*sh*\n"
     ]
    }
   ],
   "source": [
    "replace_vowels(\"Ashu\",\"*\")"
   ]
  },
  {
   "cell_type": "code",
   "execution_count": 179,
   "metadata": {},
   "outputs": [],
   "source": [
    "#Question 4. \n",
    "def fact(a):\n",
    "    \"\"\"Function factorial\"\"\"\n",
    "    try:\n",
    "        if a == 1 or a== 0:\n",
    "            return 1\n",
    "        return a*fact(a-1)\n",
    "    except Exception as e:\n",
    "        print(e)"
   ]
  },
  {
   "cell_type": "code",
   "execution_count": 180,
   "metadata": {},
   "outputs": [
    {
     "data": {
      "text/plain": [
       "24"
      ]
     },
     "execution_count": 180,
     "metadata": {},
     "output_type": "execute_result"
    }
   ],
   "source": [
    "fact(4)"
   ]
  },
  {
   "cell_type": "code",
   "execution_count": 181,
   "metadata": {},
   "outputs": [
    {
     "data": {
      "text/plain": [
       "6"
      ]
     },
     "execution_count": 181,
     "metadata": {},
     "output_type": "execute_result"
    }
   ],
   "source": [
    "fact(3)"
   ]
  },
  {
   "cell_type": "code",
   "execution_count": 182,
   "metadata": {},
   "outputs": [
    {
     "data": {
      "text/plain": [
       "120"
      ]
     },
     "execution_count": 182,
     "metadata": {},
     "output_type": "execute_result"
    }
   ],
   "source": [
    "fact(5)"
   ]
  },
  {
   "cell_type": "code",
   "execution_count": 183,
   "metadata": {},
   "outputs": [
    {
     "data": {
      "text/plain": [
       "1"
      ]
     },
     "execution_count": 183,
     "metadata": {},
     "output_type": "execute_result"
    }
   ],
   "source": [
    "fact(0)"
   ]
  },
  {
   "cell_type": "code",
   "execution_count": 184,
   "metadata": {},
   "outputs": [],
   "source": [
    "#5 Create a function that computes the hamming distance between two strings.\n",
    "\n",
    "def hamming_distantce(str1,str2):\n",
    "    \"\"\"Func to cal hamming dis\"\"\"\n",
    "    try:\n",
    "        dis = 0\n",
    "        for i,j in zip(str1,str2):\n",
    "            if i != j:\n",
    "                dis += 1\n",
    "        return dis\n",
    "    except Exception as e:\n",
    "        print(e)\n",
    "        "
   ]
  },
  {
   "cell_type": "code",
   "execution_count": 185,
   "metadata": {},
   "outputs": [
    {
     "data": {
      "text/plain": [
       "1"
      ]
     },
     "execution_count": 185,
     "metadata": {},
     "output_type": "execute_result"
    }
   ],
   "source": [
    "hamming_distantce(\"strong\",\"strung\")"
   ]
  },
  {
   "cell_type": "code",
   "execution_count": 186,
   "metadata": {},
   "outputs": [
    {
     "data": {
      "text/plain": [
       "5"
      ]
     },
     "execution_count": 186,
     "metadata": {},
     "output_type": "execute_result"
    }
   ],
   "source": [
    "hamming_distantce(\"abcdef\",\"bcdef\")"
   ]
  },
  {
   "cell_type": "code",
   "execution_count": null,
   "metadata": {},
   "outputs": [],
   "source": []
  }
 ],
 "metadata": {
  "kernelspec": {
   "display_name": "Python 3",
   "language": "python",
   "name": "python3"
  },
  "language_info": {
   "codemirror_mode": {
    "name": "ipython",
    "version": 3
   },
   "file_extension": ".py",
   "mimetype": "text/x-python",
   "name": "python",
   "nbconvert_exporter": "python",
   "pygments_lexer": "ipython3",
   "version": "3.8.3"
  }
 },
 "nbformat": 4,
 "nbformat_minor": 4
}
