{
 "cells": [
  {
   "cell_type": "markdown",
   "id": "09fe64d3",
   "metadata": {},
   "source": [
    "1. Write a function that counts how many concentric layers a rug."
   ]
  },
  {
   "cell_type": "code",
   "execution_count": 1,
   "id": "48d04163",
   "metadata": {},
   "outputs": [],
   "source": [
    "class concentric:\n",
    "    def __init__ (self,name):\n",
    "        try:\n",
    "            self.name = name\n",
    "            if type(self.name) != list:\n",
    "                raise Exception('Invalid')\n",
    "        except Exception as a:\n",
    "            print(a)\n",
    "            \n",
    "        \n",
    "    def classifier(self):\n",
    "        try:\n",
    "            different = []\n",
    "            for i in self.name:\n",
    "                if i not in different:\n",
    "                    different.append(i)\n",
    "            return len(different)\n",
    "        except Exception as a:\n",
    "            print(a)\n",
    "                              \n",
    "                "
   ]
  },
  {
   "cell_type": "code",
   "execution_count": 2,
   "id": "545fdaf3",
   "metadata": {},
   "outputs": [],
   "source": [
    "a = concentric([\"AAAA\",\n",
    "\"ABBA\",\n",
    "\"AAAA\"])"
   ]
  },
  {
   "cell_type": "code",
   "execution_count": 3,
   "id": "a94752ea",
   "metadata": {},
   "outputs": [
    {
     "data": {
      "text/plain": [
       "2"
      ]
     },
     "execution_count": 3,
     "metadata": {},
     "output_type": "execute_result"
    }
   ],
   "source": [
    "a.classifier()"
   ]
  },
  {
   "cell_type": "code",
   "execution_count": 4,
   "id": "ad1dc2e5",
   "metadata": {},
   "outputs": [],
   "source": [
    "a = concentric([\"AAAAAAAAA\",\n",
    "\"ABBBBBBBA\",\n",
    "\"ABBAAABBA\",\n",
    "\"ABBBBBBBA\",\n",
    "\"AAAAAAAAA\"])"
   ]
  },
  {
   "cell_type": "code",
   "execution_count": 5,
   "id": "6c834c06",
   "metadata": {},
   "outputs": [
    {
     "data": {
      "text/plain": [
       "3"
      ]
     },
     "execution_count": 5,
     "metadata": {},
     "output_type": "execute_result"
    }
   ],
   "source": [
    "a.classifier()"
   ]
  },
  {
   "cell_type": "code",
   "execution_count": 6,
   "id": "f85b2006",
   "metadata": {},
   "outputs": [],
   "source": [
    "b = concentric([\"AAAAAAAAAAA\",\n",
    "\"AABBBBBBBAA\",\n",
    "\"AABCCCCCBAA\",\n",
    "\"AABCAAACBAA\",\n",
    "\"AABCADACBAA\",\n",
    "\"AABCAAACBAA\",\n",
    "\"AABCCCCCBAA\",\n",
    "\"AABBBBBBBAA\",\n",
    "\"AAAAAAAAAAA\"])\n",
    "    "
   ]
  },
  {
   "cell_type": "code",
   "execution_count": 7,
   "id": "6189aa7a",
   "metadata": {},
   "outputs": [
    {
     "data": {
      "text/plain": [
       "5"
      ]
     },
     "execution_count": 7,
     "metadata": {},
     "output_type": "execute_result"
    }
   ],
   "source": [
    "b.classifier()"
   ]
  },
  {
   "cell_type": "markdown",
   "id": "93afd4b5",
   "metadata": {},
   "source": [
    "2. There are many different styles of music and many albums exhibit multiple\n",
    "styles. Create a function that takes a list of musical styles from albums and\n",
    "returns how many styles are unique."
   ]
  },
  {
   "cell_type": "code",
   "execution_count": 8,
   "id": "35cd6f3a",
   "metadata": {},
   "outputs": [],
   "source": [
    "class unique_styles:\n",
    "    \"\"\"Class to filter out unique\"\"\"\n",
    "    try:\n",
    "        def __init__(self,unique):\n",
    "            self.unique = unique\n",
    "            if type(self.unique) != list:\n",
    "                raise Exception('Need list')\n",
    "    except Exception as e:\n",
    "        print(e)\n",
    "    \n",
    "    def uniquer(self):\n",
    "        \"\"\"Class object to filter out unique values\"\"\"\n",
    "        try:\n",
    "            uni = []\n",
    "            for i in self.unique:\n",
    "                if i not in uni:\n",
    "                    uni.append(i)\n",
    "            return len(uni)\n",
    "        except Exception as e:\n",
    "            print(e)"
   ]
  },
  {
   "cell_type": "code",
   "execution_count": 9,
   "id": "4172a7e3",
   "metadata": {},
   "outputs": [],
   "source": [
    "x = unique_styles([\"Dub\",\"Dancehall\",\n",
    "  \"Industrial\",\"Heavy Metal\",\n",
    "  \"Techno\",\"Dubstep\",\n",
    "  \"Synth-pop\",\"Euro-Disco\",\n",
    "  \"Industrial\",\"Techno\",\"Minimal\"\n",
    "])"
   ]
  },
  {
   "cell_type": "code",
   "execution_count": 10,
   "id": "cdbee57f",
   "metadata": {},
   "outputs": [
    {
     "data": {
      "text/plain": [
       "9"
      ]
     },
     "execution_count": 10,
     "metadata": {},
     "output_type": "execute_result"
    }
   ],
   "source": [
    "x.uniquer()"
   ]
  },
  {
   "cell_type": "code",
   "execution_count": 11,
   "id": "ac5a3893",
   "metadata": {},
   "outputs": [],
   "source": [
    "y = unique_styles([\"Soul\",\n",
    "  \"House\",\"Folk\",\n",
    "  \"Trance\",\"Downtempo\",\"Big Beat\",\"House\",\n",
    "  \"Deep House\",\n",
    "  \"Soul\"\n",
    "])\n"
   ]
  },
  {
   "cell_type": "code",
   "execution_count": 12,
   "id": "27551022",
   "metadata": {},
   "outputs": [
    {
     "data": {
      "text/plain": [
       "7"
      ]
     },
     "execution_count": 12,
     "metadata": {},
     "output_type": "execute_result"
    }
   ],
   "source": [
    "y.uniquer()"
   ]
  },
  {
   "cell_type": "markdown",
   "id": "5ef63f2b",
   "metadata": {},
   "source": [
    "3. Create a function that finds a target number in a list of prime numbers. Implement a binary search algorithm in your function. The target number will be from 2 through 97. If the target is prime then return \"yes\" else return \"no\"."
   ]
  },
  {
   "cell_type": "code",
   "execution_count": 64,
   "id": "61830339",
   "metadata": {},
   "outputs": [],
   "source": [
    "prime = [2, 3, 5, 7, 11, 13, 17, 19, 23, 29, 31, 37, 41, 43, 47, 53, 59, 61, 67, 71, 73, 79, 83, 89, 97]"
   ]
  },
  {
   "cell_type": "code",
   "execution_count": 88,
   "id": "3be613a5",
   "metadata": {},
   "outputs": [],
   "source": [
    "def primes(primer,number):\n",
    "    \"\"\"Function to binary search list of primes\"\"\"\n",
    "\n",
    "    begin = 0\n",
    "    end = len(primer) - 1\n",
    "    while begin <= end:\n",
    "        midpoint = begin + (end-begin)//2\n",
    "        \n",
    "        midpoint_value = primer[midpoint]\n",
    "\n",
    "        if number == midpoint_value:\n",
    "            return 'yes'\n",
    "        elif number > midpoint_value:\n",
    "            begin = midpoint + 1\n",
    "        else:\n",
    "            end = midpoint -1\n",
    "    return \"no\"\n",
    "    \n",
    "    \n",
    "    "
   ]
  },
  {
   "cell_type": "code",
   "execution_count": 89,
   "id": "f6d2dce2",
   "metadata": {},
   "outputs": [
    {
     "data": {
      "text/plain": [
       "'yes'"
      ]
     },
     "execution_count": 89,
     "metadata": {},
     "output_type": "execute_result"
    }
   ],
   "source": [
    "primes(prime,3)"
   ]
  },
  {
   "cell_type": "code",
   "execution_count": 90,
   "id": "3faedd0a",
   "metadata": {},
   "outputs": [
    {
     "data": {
      "text/plain": [
       "'no'"
      ]
     },
     "execution_count": 90,
     "metadata": {},
     "output_type": "execute_result"
    }
   ],
   "source": [
    "primes(prime,4)"
   ]
  },
  {
   "cell_type": "code",
   "execution_count": 91,
   "id": "4c0270d9",
   "metadata": {},
   "outputs": [
    {
     "data": {
      "text/plain": [
       "'yes'"
      ]
     },
     "execution_count": 91,
     "metadata": {},
     "output_type": "execute_result"
    }
   ],
   "source": [
    "primes(prime,67)"
   ]
  },
  {
   "cell_type": "code",
   "execution_count": 92,
   "id": "4e21894b",
   "metadata": {},
   "outputs": [
    {
     "data": {
      "text/plain": [
       "'no'"
      ]
     },
     "execution_count": 92,
     "metadata": {},
     "output_type": "execute_result"
    }
   ],
   "source": [
    "primes(prime,36)"
   ]
  },
  {
   "cell_type": "markdown",
   "id": "436dc80f",
   "metadata": {},
   "source": [
    "4. Create a function that takes in n, a, b and returns the number of positive values raised to the nth power that lie in the range [a, b], inclusive.\n"
   ]
  },
  {
   "cell_type": "code",
   "execution_count": 109,
   "id": "5ee9bc87",
   "metadata": {},
   "outputs": [],
   "source": [
    "import math"
   ]
  },
  {
   "cell_type": "code",
   "execution_count": 139,
   "id": "10818394",
   "metadata": {},
   "outputs": [],
   "source": [
    "class powah:\n",
    "    def __init__(self,to_raise,begin,end):\n",
    "        try:\n",
    "            self.to_raise = to_raise\n",
    "            self.begin = begin\n",
    "            self.end = end\n",
    "            if type(self.to_raise) != int:\n",
    "                raise Exception('Incorrect values')\n",
    "        except Exception as e:\n",
    "            print(e)\n",
    "    def power_ranger(self):\n",
    "        \"\"\"Class object to check wether the mentioned range has square roots of mentioned number\"\"\"\n",
    "        try:\n",
    "            roots = []\n",
    "            for i in range(self.begin,self.end+1):\n",
    "                if (i**(1/self.to_raise)).is_integer():\n",
    "                    roots.append((i,i**(1/self.to_raise)))\n",
    "            return roots, \"Number of roots {}\".format(len(roots))\n",
    "        except Exception as e:\n",
    "            print(e)\n",
    "            \n",
    "            "
   ]
  },
  {
   "cell_type": "code",
   "execution_count": 140,
   "id": "4a9966aa",
   "metadata": {},
   "outputs": [],
   "source": [
    "a = powah(2,49,65)"
   ]
  },
  {
   "cell_type": "code",
   "execution_count": 141,
   "id": "c3a3d688",
   "metadata": {},
   "outputs": [
    {
     "data": {
      "text/plain": [
       "([(49, 7.0), (64, 8.0)], 'Number of roots 2')"
      ]
     },
     "execution_count": 141,
     "metadata": {},
     "output_type": "execute_result"
    }
   ],
   "source": [
    "a.power_ranger()"
   ]
  },
  {
   "cell_type": "code",
   "execution_count": 142,
   "id": "d8fa0e71",
   "metadata": {},
   "outputs": [],
   "source": [
    "a = powah(10,1,5)"
   ]
  },
  {
   "cell_type": "code",
   "execution_count": 143,
   "id": "0abeae6a",
   "metadata": {},
   "outputs": [
    {
     "data": {
      "text/plain": [
       "([(1, 1.0)], 'Number of roots 1')"
      ]
     },
     "execution_count": 143,
     "metadata": {},
     "output_type": "execute_result"
    }
   ],
   "source": [
    "a.power_ranger()"
   ]
  },
  {
   "cell_type": "markdown",
   "id": "75b6bab2",
   "metadata": {},
   "source": [
    "5. Given a number, return the difference between the maximum and minimum numbers that can be formed when the digits are rearranged."
   ]
  },
  {
   "cell_type": "code",
   "execution_count": 214,
   "id": "6178bbb1",
   "metadata": {},
   "outputs": [],
   "source": [
    "def rearranged_diff(x):\n",
    "    \"\"\"Function to max - min\"\"\"\n",
    "    try:\n",
    "        y = str(x)\n",
    "        \n",
    "        max_1 = [int(i) for i in y]\n",
    "        max_1.sort(reverse = True)\n",
    "        max_1 = [str(i) for i in max_1]\n",
    "        \n",
    "        low_1 = [int(i) for i in y]\n",
    "        low_1.sort(reverse = False)\n",
    "        low_1 = [str(i) for i in low_1]\n",
    "        return int(\"\".join(max_1)) - int(\"\".join(low_1))\n",
    "    except Exception as e:\n",
    "        print(e)\n",
    "    "
   ]
  },
  {
   "cell_type": "code",
   "execution_count": 216,
   "id": "356029db",
   "metadata": {},
   "outputs": [
    {
     "data": {
      "text/plain": [
       "760833"
      ]
     },
     "execution_count": 216,
     "metadata": {},
     "output_type": "execute_result"
    }
   ],
   "source": [
    "rearranged_diff(972882)"
   ]
  },
  {
   "cell_type": "code",
   "execution_count": 217,
   "id": "5a52864f",
   "metadata": {},
   "outputs": [
    {
     "data": {
      "text/plain": [
       "7709823"
      ]
     },
     "execution_count": 217,
     "metadata": {},
     "output_type": "execute_result"
    }
   ],
   "source": [
    "rearranged_diff(3320707)"
   ]
  },
  {
   "cell_type": "code",
   "execution_count": null,
   "id": "7a8d7317",
   "metadata": {},
   "outputs": [],
   "source": []
  }
 ],
 "metadata": {
  "kernelspec": {
   "display_name": "Python 3 (ipykernel)",
   "language": "python",
   "name": "python3"
  },
  "language_info": {
   "codemirror_mode": {
    "name": "ipython",
    "version": 3
   },
   "file_extension": ".py",
   "mimetype": "text/x-python",
   "name": "python",
   "nbconvert_exporter": "python",
   "pygments_lexer": "ipython3",
   "version": "3.9.7"
  }
 },
 "nbformat": 4,
 "nbformat_minor": 5
}
