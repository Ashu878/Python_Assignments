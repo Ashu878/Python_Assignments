{
 "cells": [
  {
   "cell_type": "code",
   "execution_count": 48,
   "metadata": {
    "scrolled": true
   },
   "outputs": [
    {
     "name": "stdout",
     "output_type": "stream",
     "text": [
      "Enter Number: 4\n",
      "Fibonacci Sequence:\n",
      "1\n",
      "1\n",
      "2\n",
      "3\n",
      "5\n",
      "2\n"
     ]
    }
   ],
   "source": [
    "#1. Write a Python Program to Display Fibonacci Sequence Using Recursion?\n",
    "\n",
    "def fibo_seq(n):\n",
    "    if n <= 1:\n",
    "        return 1 #defining base case\n",
    "        \n",
    "    return (fibo_seq(n-1) + fibo_seq(n-2)) \n",
    "\n",
    "a = int(input(\"Enter Number: \"))\n",
    "print(\"Fibonacci Sequence:\")\n",
    "for i in range(a+1):\n",
    "    print(fibo_seq(i))\n",
    "    \n"
   ]
  },
  {
   "cell_type": "code",
   "execution_count": 42,
   "metadata": {},
   "outputs": [
    {
     "name": "stdout",
     "output_type": "stream",
     "text": [
      "Enter number: 4\n",
      "Result 24\n"
     ]
    }
   ],
   "source": [
    "#2. Write a Python Program to Find Factorial of Number Using Recursion?\n",
    "def facto(n):\n",
    "    if n == 1:\n",
    "        return 1\n",
    "    return n*facto(n-1)\n",
    "\n",
    "a = int(input(\"Enter number: \"))\n",
    "print(\"Result\",facto(a))"
   ]
  },
  {
   "cell_type": "code",
   "execution_count": 25,
   "metadata": {},
   "outputs": [
    {
     "name": "stdout",
     "output_type": "stream",
     "text": [
      "Height in m: 1.77\n",
      "Weight in kg: 75\n",
      "23.93948099205209\n"
     ]
    }
   ],
   "source": [
    "#3. Write a Python Program to calculate your Body Mass Index?\n",
    "def BMI(weight,height):\n",
    "    BMI = weight/(height)**2\n",
    "    return BMI\n",
    "\n",
    "h = float(input(\"Height in m: \"))\n",
    "w = float(input(\"Weight in kg: \"))\n",
    "print(BMI(w,h))"
   ]
  },
  {
   "cell_type": "code",
   "execution_count": 30,
   "metadata": {},
   "outputs": [
    {
     "name": "stdout",
     "output_type": "stream",
     "text": [
      "2\n",
      "0.6931471805599453\n"
     ]
    }
   ],
   "source": [
    "#4. Write a Python Program to calculate the natural logarithm of any number?\n",
    "import math \n",
    "\n",
    "a = int(input())\n",
    "print(math.log(a))"
   ]
  },
  {
   "cell_type": "code",
   "execution_count": 29,
   "metadata": {},
   "outputs": [
    {
     "name": "stdout",
     "output_type": "stream",
     "text": [
      "Enter number3\n",
      "36\n"
     ]
    }
   ],
   "source": [
    "#5. Write a Python Program for cube sum of first n natural numbers?\n",
    "def cuber(n):\n",
    "    if n == 1:\n",
    "        return 1\n",
    "    return n**3 + cuber(n-1)\n",
    "a = int(input(\"Enter number\"))\n",
    "print(cuber(a))"
   ]
  },
  {
   "cell_type": "code",
   "execution_count": null,
   "metadata": {},
   "outputs": [],
   "source": []
  }
 ],
 "metadata": {
  "kernelspec": {
   "display_name": "Python 3",
   "language": "python",
   "name": "python3"
  },
  "language_info": {
   "codemirror_mode": {
    "name": "ipython",
    "version": 3
   },
   "file_extension": ".py",
   "mimetype": "text/x-python",
   "name": "python",
   "nbconvert_exporter": "python",
   "pygments_lexer": "ipython3",
   "version": "3.8.3"
  }
 },
 "nbformat": 4,
 "nbformat_minor": 4
}
