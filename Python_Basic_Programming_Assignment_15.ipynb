{
 "cells": [
  {
   "cell_type": "code",
   "execution_count": 1,
   "metadata": {},
   "outputs": [],
   "source": [
    "#1 Please write a program using generator to print the numbers which can be divisible by 5 and\n",
    "#7 between 0 and n in comma separated form while n is input by console.\n",
    "\n",
    "import logging\n",
    "logging.basicConfig(filename = \"test2.log\", level = logging.DEBUG, format = \"%(asctime)s %(levelname)s %(message)s\")"
   ]
  },
  {
   "cell_type": "code",
   "execution_count": 4,
   "metadata": {},
   "outputs": [],
   "source": [
    "def gene(n):\n",
    "    \"\"\"Function to showcase numbers div by 5 and 7\"\"\"\n",
    "    try:\n",
    "        for i in range(n):\n",
    "            if (i%5 == 0) and (i%7 == 0):\n",
    "                yield i\n",
    "    except Exception as e:\n",
    "        logging.error(\"Error occured {}\".format(e))\n",
    "        print(e)"
   ]
  },
  {
   "cell_type": "code",
   "execution_count": 40,
   "metadata": {},
   "outputs": [
    {
     "name": "stdout",
     "output_type": "stream",
     "text": [
      "0,35,70\n"
     ]
    }
   ],
   "source": [
    "k = [str(i) for i in gene(100)]\n",
    "print(\",\".join(k))"
   ]
  },
  {
   "cell_type": "code",
   "execution_count": 10,
   "metadata": {},
   "outputs": [
    {
     "name": "stdout",
     "output_type": "stream",
     "text": [
      "<class 'generator'>\n"
     ]
    }
   ],
   "source": [
    "print(type(gene(100)))"
   ]
  },
  {
   "cell_type": "code",
   "execution_count": 39,
   "metadata": {},
   "outputs": [
    {
     "name": "stdout",
     "output_type": "stream",
     "text": [
      "Enter Range:10\n",
      "0,2,4,6,8\n"
     ]
    }
   ],
   "source": [
    "#2 Please write a program using generator to print the even numbers between 0 and n in comma\n",
    "#separated form while n is input by console.\n",
    "class Even():\n",
    "    def __init__(self,n):\n",
    "        self.n = n\n",
    "        \n",
    "    def evener(self):\n",
    "        \"\"\"Even number program\"\"\"\n",
    "        try:\n",
    "            for i in range(self.n):\n",
    "                if i%2 == 0:\n",
    "                    yield i\n",
    "        except Exception as e:\n",
    "            print(e)\n",
    "            logging.info(\"Error occured {}\".format(e))\n",
    "user = int(input(\"Enter Range:\"))\n",
    "\n",
    "a = Even(user)\n",
    "out = []\n",
    "for i in a.evener():\n",
    "    out.append(str(i))\n",
    "print(\",\".join(out))\n",
    "    "
   ]
  },
  {
   "cell_type": "code",
   "execution_count": 44,
   "metadata": {},
   "outputs": [],
   "source": [
    "#3 Please write a program using list comprehension to print the Fibonacci Sequence in comma\n",
    "#separated form with a given n input by console.\n",
    "\n",
    "#Method 1\n",
    "def fibo(n):\n",
    "    \"\"\"Generator to return values\"\"\"\n",
    "    try:\n",
    "        a,b = 0,1\n",
    "        for i in range(n):\n",
    "            yield a\n",
    "            a,b = b,a+b\n",
    "    except Exception as e:\n",
    "        print(e)\n",
    "        logging.error(\"error occured {}\".format(e))"
   ]
  },
  {
   "cell_type": "code",
   "execution_count": 45,
   "metadata": {},
   "outputs": [
    {
     "name": "stdout",
     "output_type": "stream",
     "text": [
      "Enter range: 10\n",
      "0,1,1,2,3,5,8,13,21,34\n"
     ]
    }
   ],
   "source": [
    "user = int(input(\"Enter range: \"))\n",
    "a = [str(i) for i in fibo(user)]\n",
    "print(\",\".join(a))"
   ]
  },
  {
   "cell_type": "code",
   "execution_count": 55,
   "metadata": {},
   "outputs": [
    {
     "name": "stdout",
     "output_type": "stream",
     "text": [
      "Enter Range: 10\n",
      "0,1,1,2,3,5,8,13,21,34,55,89\n"
     ]
    }
   ],
   "source": [
    "#Method 2\n",
    "l = [0,1]\n",
    "user1 = int(input(\"Enter Range: \"))\n",
    "out = [l.append(l[-1]+l[-2]) for i in range(user1)]\n",
    "a = [str(i) for i in l]\n",
    "print(\",\".join(a))"
   ]
  },
  {
   "cell_type": "code",
   "execution_count": 61,
   "metadata": {},
   "outputs": [
    {
     "name": "stdout",
     "output_type": "stream",
     "text": [
      "john"
     ]
    }
   ],
   "source": [
    "#4 Assuming that we have some email addresses in the &quot;username@companyname.com&quot; format,\n",
    "#please write program to print the user name of a given email address. Both user names and\n",
    "#company names are composed of letters only.\n",
    "\n",
    "a = \"john@google.com\"\n",
    "\n",
    "def breaker(x):\n",
    "    \"\"\"Breaker at @\"\"\"\n",
    "    \n",
    "    try:\n",
    "        for i in a:\n",
    "            if i == '@':\n",
    "                break\n",
    "            else:\n",
    "                print(i,end = \"\")\n",
    "    except Exception as e:\n",
    "        print(e)\n",
    "        logging.error(\"{}\".format(e))\n",
    "        \n",
    "breaker(a)"
   ]
  },
  {
   "cell_type": "code",
   "execution_count": 70,
   "metadata": {},
   "outputs": [],
   "source": [
    "#5 Define a class named Shape and its subclass Square. The Square class has an init function\n",
    "#which takes a length as argument. Both classes have a area function which can print the area\n",
    "#of the shape where Shape&#39;s area is 0 by default.\n",
    "\n",
    "class Shape():\n",
    "    def area_shape(self):\n",
    "        return 0\n",
    "class Square(Shape):\n",
    "    def __init__(self,length):\n",
    "        self.length = length\n",
    "    def area(self):\n",
    "        return (self.length**2)"
   ]
  },
  {
   "cell_type": "code",
   "execution_count": 71,
   "metadata": {},
   "outputs": [],
   "source": [
    "a = Square(10)"
   ]
  },
  {
   "cell_type": "code",
   "execution_count": 73,
   "metadata": {},
   "outputs": [
    {
     "data": {
      "text/plain": [
       "100"
      ]
     },
     "execution_count": 73,
     "metadata": {},
     "output_type": "execute_result"
    }
   ],
   "source": [
    "a.area()"
   ]
  },
  {
   "cell_type": "code",
   "execution_count": 74,
   "metadata": {},
   "outputs": [
    {
     "data": {
      "text/plain": [
       "0"
      ]
     },
     "execution_count": 74,
     "metadata": {},
     "output_type": "execute_result"
    }
   ],
   "source": [
    "a.area_shape()"
   ]
  },
  {
   "cell_type": "code",
   "execution_count": null,
   "metadata": {},
   "outputs": [],
   "source": []
  }
 ],
 "metadata": {
  "kernelspec": {
   "display_name": "Python 3",
   "language": "python",
   "name": "python3"
  },
  "language_info": {
   "codemirror_mode": {
    "name": "ipython",
    "version": 3
   },
   "file_extension": ".py",
   "mimetype": "text/x-python",
   "name": "python",
   "nbconvert_exporter": "python",
   "pygments_lexer": "ipython3",
   "version": "3.8.3"
  }
 },
 "nbformat": 4,
 "nbformat_minor": 4
}
