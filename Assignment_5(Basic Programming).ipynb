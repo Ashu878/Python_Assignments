{
 "cells": [
  {
   "cell_type": "code",
   "execution_count": 3,
   "metadata": {},
   "outputs": [
    {
     "name": "stdout",
     "output_type": "stream",
     "text": [
      "Enter first number: 7\n",
      "Enter second number: 3\n",
      "21\n"
     ]
    }
   ],
   "source": [
    "#1. Write a Python Program to Find LCM?\n",
    "def LCM(x,y):\n",
    "    if x%y == 0:\n",
    "        return x\n",
    "    elif y%x == 0:\n",
    "        return y\n",
    "    else:\n",
    "        return x*y \n",
    "\n",
    "a=int(input(\"Enter first number: \"))\n",
    "b= int(input(\"Enter second number: \"))\n",
    "\n",
    "print(LCM(a,b))\n",
    "        \n",
    "        "
   ]
  },
  {
   "cell_type": "code",
   "execution_count": 60,
   "metadata": {},
   "outputs": [
    {
     "name": "stdout",
     "output_type": "stream",
     "text": [
      "Enter first: 18\n",
      "Enter second: 54\n",
      "Max common factor of 18 and 54: 18\n"
     ]
    }
   ],
   "source": [
    "#2. Write a Python Program to Find HCF?\n",
    "import itertools\n",
    "def HCF(x,y):\n",
    "    x_f = []\n",
    "    y_f = []\n",
    "    common = []\n",
    "\n",
    "    for i in range(1,x+1):\n",
    "        if x%i == 0:\n",
    "            x_f.append(i)\n",
    "    for j in range(1,y+1):\n",
    "        if y%j == 0:\n",
    "            y_f.append(j)\n",
    "    if y_f > x_f:\n",
    "        for i in y_f:\n",
    "            if i in x_f:\n",
    "                common.append(i)\n",
    "    elif x_f>y_f:\n",
    "        for j in x_f:\n",
    "            if j in y_f:\n",
    "                common.append(j)\n",
    "                \n",
    "\n",
    "    return max(common)\n",
    "\n",
    "\n",
    "a = int(input(\"Enter first: \"))\n",
    "b = int(input(\"Enter second: \"))\n",
    "print(\"Max common factor of {} and {}: {}\".format(a,b,HCF(a,b)))\n",
    "    "
   ]
  },
  {
   "cell_type": "code",
   "execution_count": 64,
   "metadata": {
    "scrolled": true
   },
   "outputs": [
    {
     "name": "stdout",
     "output_type": "stream",
     "text": [
      "Enter number2.0\n",
      "Binary,Octal and Hexadecimal respectively are: ('0b10', '0o2', '0x2')\n"
     ]
    }
   ],
   "source": [
    "#3. Write a Python Program to Convert Decimal to Binary, Octal and Hexadecimal?\n",
    "def con(x):\n",
    "    A = int(x)\n",
    "    return bin(A), oct(A), hex(A)\n",
    "a = float(input(\"Enter number\"))\n",
    "\n",
    "print(\"Binary,Octal and Hexadecimal respectively are: {}\".format(con(a)))"
   ]
  },
  {
   "cell_type": "code",
   "execution_count": 70,
   "metadata": {
    "scrolled": true
   },
   "outputs": [
    {
     "name": "stdout",
     "output_type": "stream",
     "text": [
      "Enter character:a\n",
      "97\n"
     ]
    }
   ],
   "source": [
    "#4 Write a Python Program To Find ASCII value of a character?\n",
    "a = input(\"Enter character:\")\n",
    "print(ord(a))"
   ]
  },
  {
   "cell_type": "code",
   "execution_count": 73,
   "metadata": {},
   "outputs": [],
   "source": [
    "#5. Write a Python Program to Make a Simple Calculator with 4 basic mathematical operations?\n",
    "from tkinter import *\n",
    "import parser\n",
    "\n",
    "root = Tk()\n",
    "root.title(\"Basic Calculator\")\n",
    "Label(root,text = \"Calculator\").grid(row = 0,columnspan = 5)\n",
    "Main = Entry(root)\n",
    "Main.grid(row = 1,columnspan = 5, sticky = N+E+W+S)\n",
    "\n",
    "#clear\n",
    "def clear():\n",
    "    Main.delete(0,END)\n",
    "#to set position on Main field \n",
    "i = 0\n",
    "def get_values(x):\n",
    "    global i\n",
    "    Main.insert(i,x)\n",
    "    i += 1\n",
    "\n",
    "def equal():\n",
    "    Expr = Main.get()\n",
    "    P = parser.expr(Expr).compile()\n",
    "    final = eval(P)\n",
    "    clear()\n",
    "    Main.insert(0,final)\n",
    "    \n",
    "Button(root, text = \"1\", command = lambda: get_values(1)).grid(row = 2, column = 0, sticky = N+E+W+S)\n",
    "Button(root, text = \"2\", command = lambda: get_values(2)).grid(row = 2, column = 1, sticky = N+E+W+S)\n",
    "Button(root, text = \"3\", command = lambda: get_values(3)).grid(row = 2, column = 2, sticky = N+E+W+S)\n",
    "Button(root, text = \"+\", command = lambda: get_values(\"+\")).grid(row = 2, column = 3, sticky = N+E+W+S)\n",
    "Button(root, text = \"-\", command = lambda: get_values(\"-\")).grid(row = 2, column = 4, sticky = N+E+W+S)\n",
    "Button(root, text = \"4\", command = lambda: get_values(4)).grid(row = 3, column = 0, sticky = N+E+W+S)\n",
    "Button(root, text = \"5\", command = lambda: get_values(5)).grid(row = 3, column = 1, sticky = N+E+W+S)\n",
    "Button(root, text = \"6\", command = lambda: get_values(6)).grid(row = 3, column = 2, sticky = N+E+W+S)\n",
    "Button(root, text = \"*\", command = lambda: get_values(\"*\")).grid(row = 3, column = 3,sticky = N+E+W+S)\n",
    "Button(root, text = \"/\", command = lambda: get_values(\"/\")).grid(row = 3, column = 4, sticky = N+E+W+S)\n",
    "Button(root, text = \"7\", command = lambda: get_values(7)).grid(row = 4, column = 0,sticky = N+E+W+S)\n",
    "Button(root, text = \"8\", command = lambda: get_values(8)).grid(row = 4, column = 1,sticky = N+E+W+S)\n",
    "Button(root, text = \"9\", command = lambda: get_values(9)).grid(row = 4, column = 2,sticky = N+E+W+S)\n",
    "Button(root,text = \"=\", command = equal).grid(row = 4, column = 3,sticky = N+E+W+S)\n",
    "\n",
    "Button(root,text = \"AC\", command = clear).grid(row = 4, column = 4,sticky = N+E+W+S)\n",
    "\n",
    "root.mainloop()\n",
    "\n"
   ]
  },
  {
   "cell_type": "code",
   "execution_count": null,
   "metadata": {},
   "outputs": [],
   "source": []
  }
 ],
 "metadata": {
  "kernelspec": {
   "display_name": "Python 3",
   "language": "python",
   "name": "python3"
  },
  "language_info": {
   "codemirror_mode": {
    "name": "ipython",
    "version": 3
   },
   "file_extension": ".py",
   "mimetype": "text/x-python",
   "name": "python",
   "nbconvert_exporter": "python",
   "pygments_lexer": "ipython3",
   "version": "3.8.3"
  }
 },
 "nbformat": 4,
 "nbformat_minor": 4
}
