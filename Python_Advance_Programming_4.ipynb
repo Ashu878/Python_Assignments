{
 "cells": [
  {
   "cell_type": "markdown",
   "id": "d1ab9c2c",
   "metadata": {},
   "source": [
    "#### 1. In mathematics, the Fibonacci numbers, commonly denoted Fn, form asequence, called the Fibonacci sequence, such that each number is the sum of the two preceding ones, starting from 0 and 1:"
   ]
  },
  {
   "cell_type": "code",
   "execution_count": 20,
   "id": "517b9e57",
   "metadata": {},
   "outputs": [],
   "source": [
    "import pandas as pd"
   ]
  },
  {
   "cell_type": "code",
   "execution_count": 34,
   "id": "6e226f3a",
   "metadata": {},
   "outputs": [
    {
     "name": "stdout",
     "output_type": "stream",
     "text": [
      "0\n",
      "1\n",
      "1\n",
      "2\n",
      "3\n",
      "5\n"
     ]
    },
    {
     "data": {
      "text/plain": [
       "5"
      ]
     },
     "execution_count": 34,
     "metadata": {},
     "output_type": "execute_result"
    }
   ],
   "source": [
    "a = 0\n",
    "b = 1\n",
    "l  = []\n",
    "for i in range(6):\n",
    "    print(a)\n",
    "    l.append(a)\n",
    "    a,b = b,a+b\n",
    "l[5]\n",
    "    "
   ]
  },
  {
   "cell_type": "code",
   "execution_count": 35,
   "id": "0ae2a9bd",
   "metadata": {},
   "outputs": [],
   "source": [
    "class ff:\n",
    "    \"\"\"Class to generate a fibonacci sequence number\"\"\"\n",
    "    def __init__(self,number):\n",
    "        try:\n",
    "            self.number = number\n",
    "            if type(self.number) != int:\n",
    "                raise Exception(\"Not an integer\")\n",
    "        except Exception as e:\n",
    "            print(e)\n",
    "    \n",
    "    def FastFibo(self):\n",
    "        \"\"\"Class instance to find \"\"\"\n",
    "        try:\n",
    "            l = []\n",
    "            a = 0\n",
    "            b = 1\n",
    "            for i in range(self.number+1):\n",
    "                l.append(a)\n",
    "                a,b = b,a+b\n",
    "            return l[self.number]\n",
    "        except Exception as e:\n",
    "            print(e)\n",
    "\n",
    "        "
   ]
  },
  {
   "cell_type": "code",
   "execution_count": 36,
   "id": "fe567c53",
   "metadata": {},
   "outputs": [],
   "source": [
    "a = ff(5)"
   ]
  },
  {
   "cell_type": "code",
   "execution_count": 37,
   "id": "b1c013dd",
   "metadata": {},
   "outputs": [
    {
     "data": {
      "text/plain": [
       "5"
      ]
     },
     "execution_count": 37,
     "metadata": {},
     "output_type": "execute_result"
    }
   ],
   "source": [
    "a.FastFibo()"
   ]
  },
  {
   "cell_type": "code",
   "execution_count": 38,
   "id": "48c2de10",
   "metadata": {},
   "outputs": [
    {
     "data": {
      "text/plain": [
       "55"
      ]
     },
     "execution_count": 38,
     "metadata": {},
     "output_type": "execute_result"
    }
   ],
   "source": [
    "a = ff(10)\n",
    "a.FastFibo()"
   ]
  },
  {
   "cell_type": "code",
   "execution_count": 39,
   "id": "1ae5f1b4",
   "metadata": {},
   "outputs": [
    {
     "data": {
      "text/plain": [
       "6765"
      ]
     },
     "execution_count": 39,
     "metadata": {},
     "output_type": "execute_result"
    }
   ],
   "source": [
    "a = ff(20)\n",
    "a.FastFibo()"
   ]
  },
  {
   "cell_type": "code",
   "execution_count": 40,
   "id": "cb1e0ee2",
   "metadata": {},
   "outputs": [
    {
     "data": {
      "text/plain": [
       "12586269025"
      ]
     },
     "execution_count": 40,
     "metadata": {},
     "output_type": "execute_result"
    }
   ],
   "source": [
    "a = ff(50)\n",
    "a.FastFibo()"
   ]
  },
  {
   "cell_type": "markdown",
   "id": "be3f1500",
   "metadata": {},
   "source": [
    "#### 2. Create a function that takes a strings characters as ASCII and returns each characters hexadecimal value as a string."
   ]
  },
  {
   "cell_type": "code",
   "execution_count": 8,
   "id": "cab34464",
   "metadata": {},
   "outputs": [],
   "source": [
    "class hexa:\n",
    "    \"\"\"Class to convert ascii letters to hexa\"\"\"\n",
    "    def __init__(self,sentence):\n",
    "        try:\n",
    "            self.sentence = sentence\n",
    "            if type(self.sentence) != str:\n",
    "                raise Exception(\"Incorrect Input\")\n",
    "        except Exception as e:\n",
    "            print(e)\n",
    "            \n",
    "    def convert_to_hex(self):\n",
    "        \"\"\"Class instantce to convert a letter\"\"\"\n",
    "        try:\n",
    "            l = []\n",
    "            a = []\n",
    "            for i in self.sentence:\n",
    "                if i.isalpha():\n",
    "                    l.append(ord(i))\n",
    "            for j in l:\n",
    "                a.append(hex(j))\n",
    "            \n",
    "            return \"\".join(a)\n",
    "        except Exception as e:\n",
    "            print(e)\n",
    "        \n",
    "                \n",
    "        \n",
    "                "
   ]
  },
  {
   "cell_type": "code",
   "execution_count": 11,
   "id": "0e68252b",
   "metadata": {},
   "outputs": [],
   "source": [
    "a = hexa('hello world')"
   ]
  },
  {
   "cell_type": "code",
   "execution_count": 12,
   "id": "4da49c62",
   "metadata": {},
   "outputs": [
    {
     "data": {
      "text/plain": [
       "'0x680x650x6c0x6c0x6f0x770x6f0x720x6c0x64'"
      ]
     },
     "execution_count": 12,
     "metadata": {},
     "output_type": "execute_result"
    }
   ],
   "source": [
    "a.convert_to_hex()"
   ]
  },
  {
   "cell_type": "markdown",
   "id": "9006d34b",
   "metadata": {},
   "source": [
    "#### 3. Given a censored string and a string of the censored vowels, return the original uncensored string."
   ]
  },
  {
   "cell_type": "code",
   "execution_count": 78,
   "id": "bda3d345",
   "metadata": {},
   "outputs": [],
   "source": [
    "class cv:\n",
    "    \"\"\"Class to find and replace censored words\"\"\"\n",
    "    def __init__(self,sent,vowels):\n",
    "        try:\n",
    "            self.sent = sent\n",
    "            self.vowels = vowels\n",
    "            if type(self.sent) != str and type(self.vowels) != str:\n",
    "                raise Exception(\"Incorrect output\")\n",
    "        except Exception as e:\n",
    "            print(e)\n",
    "    def uncensor(self):\n",
    "        \n",
    "        try:\n",
    "            vowels = [i for i in self.vowels]\n",
    "            sent = [i for i in self.sent]\n",
    "            n = 0\n",
    "            for i in range(len(sent)):\n",
    "                if sent[i] == '*':\n",
    "                    sent[i] = vowels[n]\n",
    "                    n += 1\n",
    "\n",
    "            return \"\".join(sent)\n",
    "        except Exception as e:\n",
    "            print(e)\n",
    "            \n",
    "    \n",
    "    \n",
    "                \n",
    "                \n",
    "                \n",
    "        \n",
    "            "
   ]
  },
  {
   "cell_type": "code",
   "execution_count": 79,
   "id": "a3b8afb2",
   "metadata": {},
   "outputs": [],
   "source": [
    "a = cv('Wh*r*','ee')"
   ]
  },
  {
   "cell_type": "code",
   "execution_count": 80,
   "id": "ccbdbc79",
   "metadata": {},
   "outputs": [
    {
     "data": {
      "text/plain": [
       "'Where'"
      ]
     },
     "execution_count": 80,
     "metadata": {},
     "output_type": "execute_result"
    }
   ],
   "source": [
    "a.uncensor()"
   ]
  },
  {
   "cell_type": "code",
   "execution_count": 81,
   "id": "0c58c0b3",
   "metadata": {},
   "outputs": [],
   "source": [
    "b = cv('Wh*r* d*d my v*w*ls g*?','eeioeo')"
   ]
  },
  {
   "cell_type": "code",
   "execution_count": 82,
   "id": "28cc7d6c",
   "metadata": {},
   "outputs": [
    {
     "data": {
      "text/plain": [
       "'Where did my vowels go?'"
      ]
     },
     "execution_count": 82,
     "metadata": {},
     "output_type": "execute_result"
    }
   ],
   "source": [
    "b.uncensor()"
   ]
  },
  {
   "cell_type": "code",
   "execution_count": 83,
   "id": "0857003a",
   "metadata": {},
   "outputs": [],
   "source": [
    "c = cv(\"*PP*RC*S*\",\"UEAE\")"
   ]
  },
  {
   "cell_type": "code",
   "execution_count": 84,
   "id": "ddff8180",
   "metadata": {},
   "outputs": [
    {
     "data": {
      "text/plain": [
       "'UPPERCASE'"
      ]
     },
     "execution_count": 84,
     "metadata": {},
     "output_type": "execute_result"
    }
   ],
   "source": [
    "c.uncensor()"
   ]
  },
  {
   "cell_type": "markdown",
   "id": "9e569fdb",
   "metadata": {},
   "source": [
    "#### 4. Write a function that takes an IP address and returns the domain name using PTR DNS records."
   ]
  },
  {
   "cell_type": "code",
   "execution_count": 91,
   "id": "b5de6352",
   "metadata": {},
   "outputs": [],
   "source": [
    "import socket\n",
    "def get_domain_name(ip_address):\n",
    "  result=socket.gethostbyaddr(ip_address)\n",
    "  return result[0]"
   ]
  },
  {
   "cell_type": "code",
   "execution_count": 92,
   "id": "bcee4e93",
   "metadata": {},
   "outputs": [
    {
     "data": {
      "text/plain": [
       "'dns.google'"
      ]
     },
     "execution_count": 92,
     "metadata": {},
     "output_type": "execute_result"
    }
   ],
   "source": [
    "get_domain_name('8.8.8.8')"
   ]
  },
  {
   "cell_type": "markdown",
   "id": "b3a6c65f",
   "metadata": {},
   "source": [
    "#### 5. Create a function that takes an integer n and returns the factorial of factorials. See below examples for a better understanding:"
   ]
  },
  {
   "cell_type": "code",
   "execution_count": 109,
   "id": "d44b4af2",
   "metadata": {},
   "outputs": [],
   "source": [
    "class ff:\n",
    "    \"\"\"Factorial of factorials\"\"\"\n",
    "    def __init__(self,n):\n",
    "        try:\n",
    "            self.n = n\n",
    "            if type(self.n) != int:\n",
    "                raise Exception(\"Not a int\")\n",
    "        except Exception as e:\n",
    "            print(e)\n",
    "    \n",
    "    def fact_of_fact(self):\n",
    "        try:\n",
    "            numbers = []\n",
    "            for i in range(self.n,0,-1):\n",
    "                out = 1\n",
    "                for j in range(1,i+1):\n",
    "                    out *= j\n",
    "                numbers.append(out)\n",
    "                \n",
    "            final = 1\n",
    "            for x in numbers:\n",
    "                final *= x\n",
    "            return final\n",
    "                    \n",
    "        except Exception as e:\n",
    "            print(e)\n",
    "                    \n",
    "                    \n",
    "                "
   ]
  },
  {
   "cell_type": "code",
   "execution_count": 110,
   "id": "3cb97637",
   "metadata": {},
   "outputs": [],
   "source": [
    "a = ff(4)"
   ]
  },
  {
   "cell_type": "code",
   "execution_count": 111,
   "id": "5ee64955",
   "metadata": {},
   "outputs": [
    {
     "data": {
      "text/plain": [
       "288"
      ]
     },
     "execution_count": 111,
     "metadata": {},
     "output_type": "execute_result"
    }
   ],
   "source": [
    "a.fact_of_fact()"
   ]
  },
  {
   "cell_type": "code",
   "execution_count": 112,
   "id": "476a9bf2",
   "metadata": {},
   "outputs": [
    {
     "data": {
      "text/plain": [
       "34560"
      ]
     },
     "execution_count": 112,
     "metadata": {},
     "output_type": "execute_result"
    }
   ],
   "source": [
    "a = ff(5)\n",
    "a.fact_of_fact()"
   ]
  },
  {
   "cell_type": "code",
   "execution_count": 113,
   "id": "3b75fdad",
   "metadata": {},
   "outputs": [
    {
     "data": {
      "text/plain": [
       "24883200"
      ]
     },
     "execution_count": 113,
     "metadata": {},
     "output_type": "execute_result"
    }
   ],
   "source": [
    "a = ff(6)\n",
    "a.fact_of_fact()"
   ]
  },
  {
   "cell_type": "code",
   "execution_count": null,
   "id": "90358ec7",
   "metadata": {},
   "outputs": [],
   "source": []
  }
 ],
 "metadata": {
  "kernelspec": {
   "display_name": "Python 3 (ipykernel)",
   "language": "python",
   "name": "python3"
  },
  "language_info": {
   "codemirror_mode": {
    "name": "ipython",
    "version": 3
   },
   "file_extension": ".py",
   "mimetype": "text/x-python",
   "name": "python",
   "nbconvert_exporter": "python",
   "pygments_lexer": "ipython3",
   "version": "3.9.7"
  }
 },
 "nbformat": 4,
 "nbformat_minor": 5
}
