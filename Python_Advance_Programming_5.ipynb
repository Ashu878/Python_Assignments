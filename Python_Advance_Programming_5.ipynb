{
 "cells": [
  {
   "cell_type": "code",
   "execution_count": 11,
   "id": "2a8a9dcf",
   "metadata": {},
   "outputs": [],
   "source": [
    "import logging"
   ]
  },
  {
   "cell_type": "code",
   "execution_count": 12,
   "id": "e3a6e64b",
   "metadata": {},
   "outputs": [],
   "source": [
    "logging.basicConfig(filename = 'test.log', level = logging.DEBUG, format = '%(asctime)s %(message)s')"
   ]
  },
  {
   "cell_type": "markdown",
   "id": "c1515b20",
   "metadata": {},
   "source": [
    "### 1. Create a function that takes a number n (integer greater than zero) as an argument, and returns 2 if n is odd and 8 if n is even."
   ]
  },
  {
   "cell_type": "code",
   "execution_count": 315,
   "id": "2b80d5a6",
   "metadata": {},
   "outputs": [],
   "source": [
    "def f(n):\n",
    "    if n % 2 == 0:\n",
    "        return 8\n",
    "    else:\n",
    "        return 2\n",
    "    "
   ]
  },
  {
   "cell_type": "code",
   "execution_count": 316,
   "id": "5cc1ef1e",
   "metadata": {},
   "outputs": [
    {
     "data": {
      "text/plain": [
       "8"
      ]
     },
     "execution_count": 316,
     "metadata": {},
     "output_type": "execute_result"
    }
   ],
   "source": [
    "f(8)"
   ]
  },
  {
   "cell_type": "code",
   "execution_count": 317,
   "id": "5c38367e",
   "metadata": {},
   "outputs": [
    {
     "data": {
      "text/plain": [
       "2"
      ]
     },
     "execution_count": 317,
     "metadata": {},
     "output_type": "execute_result"
    }
   ],
   "source": [
    "f(3)"
   ]
  },
  {
   "cell_type": "markdown",
   "id": "4a0ecffa",
   "metadata": {},
   "source": [
    "### 2. Create a function that returns the majority vote in a list. A majority vote is an element that occurs > N/2 times in a list (where N is the length of the list)."
   ]
  },
  {
   "cell_type": "code",
   "execution_count": 1,
   "id": "65f891e4",
   "metadata": {},
   "outputs": [],
   "source": [
    "import pandas as pd"
   ]
  },
  {
   "cell_type": "code",
   "execution_count": 9,
   "id": "efff64fb",
   "metadata": {},
   "outputs": [
    {
     "name": "stdout",
     "output_type": "stream",
     "text": [
      "2 a\n",
      "2 a\n",
      "2 b\n",
      "2 b\n"
     ]
    }
   ],
   "source": []
  },
  {
   "cell_type": "code",
   "execution_count": null,
   "id": "543d3ce0",
   "metadata": {},
   "outputs": [],
   "source": []
  },
  {
   "cell_type": "code",
   "execution_count": 21,
   "id": "9cd571ad",
   "metadata": {},
   "outputs": [],
   "source": [
    "class m:\n",
    "    \"\"\"Class to return majority vote\"\"\"\n",
    "    def __init__(self,li):\n",
    "        \"\"\"Accepting a list\"\"\"\n",
    "        try:\n",
    "            self.li = li\n",
    "            if type(self.li) != list:\n",
    "                raise Exception(\"Invalid Input expecting a list\")\n",
    "        except Exception as e:\n",
    "            print(e)\n",
    "            logging.error(e)\n",
    "            \n",
    "    def majority_vote(self):\n",
    "        \"\"\"Function to return majority vote\"\"\"\n",
    "        try:\n",
    "            no_of_votes = len(self.li)\n",
    "            for i in self.li:\n",
    "                count = self.li.count(i)\n",
    "                if count > no_of_votes//2:\n",
    "                    return i\n",
    "            else:\n",
    "                return 'None'\n",
    "        except Exception as e:\n",
    "            print(e)\n",
    "            logging.error(e)\n",
    "        "
   ]
  },
  {
   "cell_type": "code",
   "execution_count": 22,
   "id": "6173523a",
   "metadata": {},
   "outputs": [],
   "source": [
    "a = m(['A','A','A','B'])"
   ]
  },
  {
   "cell_type": "code",
   "execution_count": 23,
   "id": "ade2145f",
   "metadata": {},
   "outputs": [
    {
     "data": {
      "text/plain": [
       "'A'"
      ]
     },
     "execution_count": 23,
     "metadata": {},
     "output_type": "execute_result"
    }
   ],
   "source": [
    "a.majority_vote()"
   ]
  },
  {
   "cell_type": "code",
   "execution_count": 24,
   "id": "fa0b7aad",
   "metadata": {},
   "outputs": [],
   "source": [
    "a = m([\"A\", \"A\", \"A\", \"B\", \"C\", \"A\"]) "
   ]
  },
  {
   "cell_type": "code",
   "execution_count": 25,
   "id": "28275ceb",
   "metadata": {},
   "outputs": [
    {
     "data": {
      "text/plain": [
       "'A'"
      ]
     },
     "execution_count": 25,
     "metadata": {},
     "output_type": "execute_result"
    }
   ],
   "source": [
    "a.majority_vote()"
   ]
  },
  {
   "cell_type": "code",
   "execution_count": 26,
   "id": "5716bce1",
   "metadata": {},
   "outputs": [],
   "source": [
    "a = m([\"A\", \"B\", \"B\", \"A\", \"C\", \"C\"]) "
   ]
  },
  {
   "cell_type": "code",
   "execution_count": 27,
   "id": "f4f83af3",
   "metadata": {},
   "outputs": [
    {
     "data": {
      "text/plain": [
       "'None'"
      ]
     },
     "execution_count": 27,
     "metadata": {},
     "output_type": "execute_result"
    }
   ],
   "source": [
    "a.majority_vote()"
   ]
  },
  {
   "cell_type": "code",
   "execution_count": 28,
   "id": "5084a5b6",
   "metadata": {},
   "outputs": [],
   "source": [
    "a = m([\"B\",\"A\", \"A\", \"A\", \"B\", \"C\", \"A\"]) "
   ]
  },
  {
   "cell_type": "code",
   "execution_count": 29,
   "id": "9022d2a6",
   "metadata": {},
   "outputs": [
    {
     "data": {
      "text/plain": [
       "'A'"
      ]
     },
     "execution_count": 29,
     "metadata": {},
     "output_type": "execute_result"
    }
   ],
   "source": [
    "a.majority_vote()"
   ]
  },
  {
   "cell_type": "markdown",
   "id": "184fa6a1",
   "metadata": {},
   "source": [
    "### 3. Create a function that takes a string txt and censors any word from a given list lst. The text removed must be replaced by the given character char."
   ]
  },
  {
   "cell_type": "code",
   "execution_count": 145,
   "id": "15f4bc37",
   "metadata": {},
   "outputs": [],
   "source": [
    "def censor_string(sen,li_words,rep):\n",
    "    \"\"\"Function to change words in a sentence\"\"\"\n",
    "    logging.info(\"Execution of function\")\n",
    "    try:\n",
    "        #Finding common words and its indexes\n",
    "        li_sen = sen.split(\" \")\n",
    "        li_sen_set = set(li_sen)\n",
    "        common = list(li_sen_set.intersection(li_words))\n",
    "        indexes = [li_sen.index(i) for i in common]\n",
    "        \n",
    "        #creating a list which is to replaced in the main sentence\n",
    "        replacement = []\n",
    "        for i in common:\n",
    "            for j in i:\n",
    "                i = i.replace(j,rep)\n",
    "            replacement.append(i)\n",
    "        \n",
    "        for i,j in zip(indexes,replacement):\n",
    "            li_sen[i] = j\n",
    "        print(\" \".join(li_sen))\n",
    "        \n",
    "                \n",
    "    except Exception as e:\n",
    "        print(e)"
   ]
  },
  {
   "cell_type": "code",
   "execution_count": 146,
   "id": "7aee3625",
   "metadata": {},
   "outputs": [
    {
     "name": "stdout",
     "output_type": "stream",
     "text": [
      "----- is - Wednesday!\n"
     ]
    }
   ],
   "source": [
    "censor_string(\"Today is a Wednesday!\", [\"Today\", \"a\"], \"-\") "
   ]
  },
  {
   "cell_type": "code",
   "execution_count": 147,
   "id": "35062fd4",
   "metadata": {},
   "outputs": [
    {
     "name": "stdout",
     "output_type": "stream",
     "text": [
      "The *** jumped **** the moon.\n"
     ]
    }
   ],
   "source": [
    "censor_string(\"The cow jumped over the moon.\", [\"cow\", \"over\"], \"*\")"
   ]
  },
  {
   "cell_type": "code",
   "execution_count": 148,
   "id": "5c12da1d",
   "metadata": {},
   "outputs": [
    {
     "name": "stdout",
     "output_type": "stream",
     "text": [
      "Why did the ******* cross the road?\n"
     ]
    }
   ],
   "source": [
    "censor_string(\"Why did the chicken cross the road?\", [\"Did\", \"chicken\", \"road\"], \"*\") "
   ]
  },
  {
   "cell_type": "markdown",
   "id": "b4ce0c24",
   "metadata": {},
   "source": [
    "### 4. In mathematics a Polydivisible Number (or magic number) is a number in a given number base with digits abcde... that has the following properties:"
   ]
  },
  {
   "cell_type": "code",
   "execution_count": 254,
   "id": "c1ee9281",
   "metadata": {},
   "outputs": [],
   "source": [
    "class pl:\n",
    "    logging.info(\"Intitating a class of polydivisible numbers\")\n",
    "    def __init__(self,number):\n",
    "        try:\n",
    "            self.number = number\n",
    "            if type(self.number) != int:\n",
    "                raise Exception(\"Invalid Input\")\n",
    "        except Exception as e:\n",
    "            print(e)\n",
    "    def is_polydivisibe(self):\n",
    "        \"\"\"Class instance to find wether number is a polydivisble\"\"\"\n",
    "        try:\n",
    "            numbers = []\n",
    "            size = 0\n",
    "            length = len(str(self.number))\n",
    "            for i in range(1):\n",
    "                x = \"\"\n",
    "                for j in str(self.number):\n",
    "                    x = x + j\n",
    "                    num = int(x)\n",
    "                    numbers.append(num)\n",
    "            for i,j in zip(numbers,range(1,length+1)):\n",
    "                if i % j == 0:\n",
    "                    size += 1\n",
    "            if size == length:\n",
    "                return True\n",
    "            else:\n",
    "                return False\n",
    "                \n",
    "                \n",
    "        except Exception as e:\n",
    "            print(e)\n",
    "            \n",
    "                    \n",
    "                    \n",
    "            "
   ]
  },
  {
   "cell_type": "code",
   "execution_count": 255,
   "id": "98366e6d",
   "metadata": {},
   "outputs": [],
   "source": [
    "a = pl(123220)"
   ]
  },
  {
   "cell_type": "code",
   "execution_count": 256,
   "id": "64b5b226",
   "metadata": {},
   "outputs": [
    {
     "data": {
      "text/plain": [
       "False"
      ]
     },
     "execution_count": 256,
     "metadata": {},
     "output_type": "execute_result"
    }
   ],
   "source": [
    "a.is_polydivisibe()"
   ]
  },
  {
   "cell_type": "code",
   "execution_count": 257,
   "id": "a2b32b6a",
   "metadata": {},
   "outputs": [],
   "source": [
    "a = pl(1232)"
   ]
  },
  {
   "cell_type": "code",
   "execution_count": 258,
   "id": "20722fcf",
   "metadata": {},
   "outputs": [
    {
     "data": {
      "text/plain": [
       "True"
      ]
     },
     "execution_count": 258,
     "metadata": {},
     "output_type": "execute_result"
    }
   ],
   "source": [
    "a.is_polydivisibe()"
   ]
  },
  {
   "cell_type": "markdown",
   "id": "5ff875f1",
   "metadata": {},
   "source": [
    "### 5. Create a function that takes a list of numbers and returns the sum of all prime numbers in the list.\n",
    "\n"
   ]
  },
  {
   "cell_type": "code",
   "execution_count": 311,
   "id": "79a755ad",
   "metadata": {},
   "outputs": [],
   "source": [
    "def sum_prime(li):\n",
    "    \"\"\"Function to return sum of prime numbers from a list\"\"\"\n",
    "    logging.info(\"Initiating\")\n",
    "    \n",
    "    try:\n",
    "        if len(li) == 0:\n",
    "            print(\"None\")\n",
    "            \n",
    "        \n",
    "        #is_prime\n",
    "        def is_prime(n):\n",
    "            if n == 1:\n",
    "                return False\n",
    "            if n == 2:\n",
    "                return True\n",
    "            for i in range(2,n):\n",
    "                if n % i == 0:\n",
    "                    return False\n",
    "            else:\n",
    "                return True\n",
    "            \n",
    "        #filtering and finding it's sum\n",
    "        filtered =  list(filter(is_prime,li))\n",
    "        print(sum(filtered))\n",
    "        \n",
    "        if len(li) == 0:\n",
    "            return None\n",
    "            \n",
    "        \n",
    "        if sum(filtered) == 0 :\n",
    "            return None\n",
    "    \n",
    "    except Exception as e:\n",
    "        print(e)\n",
    "        logging.error(e)"
   ]
  },
  {
   "cell_type": "code",
   "execution_count": 312,
   "id": "284e67d1",
   "metadata": {},
   "outputs": [
    {
     "name": "stdout",
     "output_type": "stream",
     "text": [
      "17\n"
     ]
    }
   ],
   "source": [
    "sum_prime([1, 2, 3, 4, 5, 6, 7, 8, 9, 10])"
   ]
  },
  {
   "cell_type": "code",
   "execution_count": 313,
   "id": "aac5e73a",
   "metadata": {},
   "outputs": [
    {
     "name": "stdout",
     "output_type": "stream",
     "text": [
      "87\n"
     ]
    }
   ],
   "source": [
    "sum_prime([2, 3, 4, 11, 20, 50, 71]) "
   ]
  },
  {
   "cell_type": "code",
   "execution_count": 314,
   "id": "ece4505a",
   "metadata": {},
   "outputs": [
    {
     "name": "stdout",
     "output_type": "stream",
     "text": [
      "None\n",
      "0\n"
     ]
    }
   ],
   "source": [
    "sum_prime([]) "
   ]
  },
  {
   "cell_type": "code",
   "execution_count": null,
   "id": "e60ab7b5",
   "metadata": {},
   "outputs": [],
   "source": []
  },
  {
   "cell_type": "code",
   "execution_count": null,
   "id": "c1a50c64",
   "metadata": {},
   "outputs": [],
   "source": []
  }
 ],
 "metadata": {
  "kernelspec": {
   "display_name": "Python 3 (ipykernel)",
   "language": "python",
   "name": "python3"
  },
  "language_info": {
   "codemirror_mode": {
    "name": "ipython",
    "version": 3
   },
   "file_extension": ".py",
   "mimetype": "text/x-python",
   "name": "python",
   "nbconvert_exporter": "python",
   "pygments_lexer": "ipython3",
   "version": "3.9.7"
  }
 },
 "nbformat": 4,
 "nbformat_minor": 5
}
