{
 "cells": [
  {
   "cell_type": "code",
   "execution_count": null,
   "metadata": {},
   "outputs": [],
   "source": [
    "#1. Why are functions advantageous to have in your programs?\n",
    "#Function allows a block of code to be compacted in a single function therefore saving time when a user wants to use that set of \n",
    "#code again. Also when a user is a working in a different enviroment or file user can import the function into a different file."
   ]
  },
  {
   "cell_type": "code",
   "execution_count": 1,
   "metadata": {},
   "outputs": [
    {
     "name": "stdout",
     "output_type": "stream",
     "text": [
      "This function runs when it's name is called\n"
     ]
    }
   ],
   "source": [
    "#2. When does the code in a function run: when it&#39;s specified or when it&#39;s called?\n",
    "\n",
    "def test():\n",
    "    print(\"This function runs when it's name is called\")\n",
    "    \n",
    "test()"
   ]
  },
  {
   "cell_type": "code",
   "execution_count": 2,
   "metadata": {},
   "outputs": [
    {
     "name": "stdout",
     "output_type": "stream",
     "text": [
      "This function runs when it's name is called\n"
     ]
    }
   ],
   "source": [
    "def test():\n",
    "    return \"This function runs when it's name is called\"\n",
    "print(test())"
   ]
  },
  {
   "cell_type": "code",
   "execution_count": 4,
   "metadata": {},
   "outputs": [
    {
     "name": "stdout",
     "output_type": "stream",
     "text": [
      "Hello sire, Ashu\n"
     ]
    }
   ],
   "source": [
    "#3. What statement creates a function?\n",
    "#a def followerd by a name enclosed in a parenthesis with arguements and ended with a colon :\n",
    "#for ex\n",
    "\n",
    "def test(n):\n",
    "    return \"Hello sire, {}\".format(n)\n",
    "\n",
    "print(test(\"Ashu\")) #arguement called"
   ]
  },
  {
   "cell_type": "code",
   "execution_count": null,
   "metadata": {},
   "outputs": [],
   "source": [
    "#4. What is the difference between a function and a function call?\n",
    "\n",
    "#A function consist a bock of code which when runned allows a user to get certain results.\n",
    "\n",
    "#A function won't execute until and unless it is called, therefore only when we call the function it executes and returns a result."
   ]
  },
  {
   "cell_type": "code",
   "execution_count": null,
   "metadata": {},
   "outputs": [],
   "source": [
    "#5. How many global scopes are there in a Python program? How many local scopes?\n",
    "#There is only one global scope variable when it is assigned and it remains that way until and unless program terminates or names are\n",
    "#are edited by the user \n",
    "\n",
    "#There can be n number of local scopes as they are enclosed within a function therfore same variable name can be accessed with a different value\n"
   ]
  },
  {
   "cell_type": "code",
   "execution_count": 5,
   "metadata": {},
   "outputs": [],
   "source": [
    "#6. What happens to variables in a local scope when the function call returns?\n",
    "\n",
    "#After execution it results in a value which was detemined by the user after caling it reverts back tothe value which was previously assigned.\n"
   ]
  },
  {
   "cell_type": "code",
   "execution_count": null,
   "metadata": {},
   "outputs": [],
   "source": [
    "#7. What is the concept of a return value? Is it possible to have a return value in an expression?\n",
    "\n",
    "#Return value is a statemnt which is used to output the result of a fucntion. Expression written after return will not output also\n",
    "#return with no statement will result in none"
   ]
  },
  {
   "cell_type": "code",
   "execution_count": null,
   "metadata": {},
   "outputs": [],
   "source": [
    "#8. If a function does not have a return statement, what is the return value of a call to that function?\n",
    "#results in none"
   ]
  },
  {
   "cell_type": "code",
   "execution_count": 6,
   "metadata": {},
   "outputs": [
    {
     "name": "stdout",
     "output_type": "stream",
     "text": [
      "20\n"
     ]
    }
   ],
   "source": [
    "#9. How do you make a function variable refer to the global variable?\n",
    "x = 10 #our variable\n",
    "\n",
    "def test1():\n",
    "    global x #accesing variable\n",
    "    return x + 10 #adding a value to x\n",
    "\n",
    "\n",
    "print(test1())"
   ]
  },
  {
   "cell_type": "code",
   "execution_count": null,
   "metadata": {},
   "outputs": [],
   "source": [
    "#10. What is the data type of None?\n",
    "\n",
    "#None is a NoneType data object it is null value which can be assigned to a variable.\n",
    "\n"
   ]
  },
  {
   "cell_type": "code",
   "execution_count": 7,
   "metadata": {},
   "outputs": [
    {
     "ename": "ModuleNotFoundError",
     "evalue": "No module named 'areallyourpetsnamederic'",
     "output_type": "error",
     "traceback": [
      "\u001b[1;31m---------------------------------------------------------------------------\u001b[0m",
      "\u001b[1;31mModuleNotFoundError\u001b[0m                       Traceback (most recent call last)",
      "\u001b[1;32m<ipython-input-7-a0a6327c9cfb>\u001b[0m in \u001b[0;36m<module>\u001b[1;34m\u001b[0m\n\u001b[0;32m      1\u001b[0m \u001b[1;31m#11. What does the sentence import areallyourpetsnamederic do?\u001b[0m\u001b[1;33m\u001b[0m\u001b[1;33m\u001b[0m\u001b[1;33m\u001b[0m\u001b[0m\n\u001b[1;32m----> 2\u001b[1;33m \u001b[1;32mimport\u001b[0m \u001b[0mareallyourpetsnamederic\u001b[0m\u001b[1;33m\u001b[0m\u001b[1;33m\u001b[0m\u001b[0m\n\u001b[0m",
      "\u001b[1;31mModuleNotFoundError\u001b[0m: No module named 'areallyourpetsnamederic'"
     ]
    }
   ],
   "source": [
    "#11. What does the sentence import areallyourpetsnamederic do?\n",
    "import areallyourpetsnamederic "
   ]
  },
  {
   "cell_type": "code",
   "execution_count": null,
   "metadata": {},
   "outputs": [],
   "source": [
    "#if there exist a module named 'areallyourpetsnamederic' it would have executed and user would have been able to use function described in 'areallyourpetsnamederic'."
   ]
  },
  {
   "cell_type": "code",
   "execution_count": null,
   "metadata": {},
   "outputs": [],
   "source": [
    "#12. If you had a bacon() feature in a spam module, what would you call it after importing spam?\n",
    "#spam.bacon()"
   ]
  },
  {
   "cell_type": "code",
   "execution_count": 11,
   "metadata": {},
   "outputs": [],
   "source": [
    "#13. What can you do to save a programme from crashing if it encounters an error?\n",
    "#We can use try and except functions in order to handle a error\n",
    "\n",
    "#for ex\n",
    "\n",
    "def lol(n):\n",
    "    try:\n",
    "        return n**3\n",
    "    except:\n",
    "        return \"Enter Integer\""
   ]
  },
  {
   "cell_type": "code",
   "execution_count": 12,
   "metadata": {},
   "outputs": [
    {
     "name": "stdout",
     "output_type": "stream",
     "text": [
      "729\n"
     ]
    }
   ],
   "source": [
    "print(lol(9))"
   ]
  },
  {
   "cell_type": "code",
   "execution_count": 15,
   "metadata": {
    "scrolled": true
   },
   "outputs": [
    {
     "name": "stdout",
     "output_type": "stream",
     "text": [
      "Enter Integer\n"
     ]
    }
   ],
   "source": [
    "print(lol(\"a\"))"
   ]
  },
  {
   "cell_type": "code",
   "execution_count": 16,
   "metadata": {},
   "outputs": [],
   "source": [
    "#14. What is the purpose of the try clause? What is the purpose of the except clause?\n",
    "#purpose of a try is to normally execute a program but if a excpetion is occured it will directly transfer to except clause statement \n",
    "\n",
    "#Except statement handles the exception created from try function. \n",
    "\n",
    "def happy_number(n):\n",
    "    total = 0\n",
    "    try:\n",
    "        for i in str(n):\n",
    "            total += int(i)**2\n",
    "        if total == 1:\n",
    "            return \"Happy Number\"\n",
    "        else:\n",
    "            return happy_number(total)\n",
    "            \n",
    "            \n",
    "    except:\n",
    "            return \"Not a happy Number\"\n",
    "        \n",
    "        \n",
    "        \n",
    "        "
   ]
  },
  {
   "cell_type": "code",
   "execution_count": 17,
   "metadata": {},
   "outputs": [
    {
     "name": "stdout",
     "output_type": "stream",
     "text": [
      "Not a happy Number\n"
     ]
    }
   ],
   "source": [
    "print(happy_number(47)) #this result with exception handling"
   ]
  },
  {
   "cell_type": "code",
   "execution_count": 18,
   "metadata": {},
   "outputs": [
    {
     "name": "stdout",
     "output_type": "stream",
     "text": [
      "Happy Number\n"
     ]
    }
   ],
   "source": [
    "print(happy_number(49)) #this results with try handling"
   ]
  },
  {
   "cell_type": "code",
   "execution_count": null,
   "metadata": {},
   "outputs": [],
   "source": []
  }
 ],
 "metadata": {
  "kernelspec": {
   "display_name": "Python 3",
   "language": "python",
   "name": "python3"
  },
  "language_info": {
   "codemirror_mode": {
    "name": "ipython",
    "version": 3
   },
   "file_extension": ".py",
   "mimetype": "text/x-python",
   "name": "python",
   "nbconvert_exporter": "python",
   "pygments_lexer": "ipython3",
   "version": "3.8.3"
  }
 },
 "nbformat": 4,
 "nbformat_minor": 4
}
