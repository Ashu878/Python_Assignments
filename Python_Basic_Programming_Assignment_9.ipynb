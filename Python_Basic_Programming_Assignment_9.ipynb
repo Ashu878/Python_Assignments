{
 "cells": [
  {
   "cell_type": "code",
   "execution_count": 15,
   "metadata": {},
   "outputs": [
    {
     "name": "stdout",
     "output_type": "stream",
     "text": [
      "Enter Number: 175\n",
      "Number is a Disarium Number, Sum = 175\n"
     ]
    }
   ],
   "source": [
    "#1. Write a Python program to check if the given number is a Disarium Number?\n",
    "User = input(\"Enter Number: \")\n",
    "\n",
    "def dis(N):\n",
    "    a = 1\n",
    "    total = 0\n",
    "    for i in N:\n",
    "        total += int(i)**a\n",
    "        a += 1\n",
    "    if total == int(N):\n",
    "        return \"Number is a Disarium Number, Sum = {}\".format(total)\n",
    "    else:\n",
    "        return \"Not a Disarium Number, Sum = {}\".format(total)\n",
    "print(dis(User))\n"
   ]
  },
  {
   "cell_type": "code",
   "execution_count": 16,
   "metadata": {},
   "outputs": [
    {
     "name": "stdout",
     "output_type": "stream",
     "text": [
      "Enter Number: 123\n",
      "Not a Disarium Number, Sum = 32\n"
     ]
    }
   ],
   "source": [
    "User = input(\"Enter Number: \")\n",
    "\n",
    "def dis(N):\n",
    "    a = 1\n",
    "    total = 0\n",
    "    for i in N:\n",
    "        total += int(i)**a\n",
    "        a += 1\n",
    "    if total == int(N):\n",
    "        return \"Number is a Disarium Number, Sum = {}\".format(total)\n",
    "    else:\n",
    "        return \"Not a Disarium Number, Sum = {}\".format(total)\n",
    "print(dis(User))\n"
   ]
  },
  {
   "cell_type": "code",
   "execution_count": 24,
   "metadata": {},
   "outputs": [
    {
     "name": "stdout",
     "output_type": "stream",
     "text": [
      "Enter upper range: 100\n",
      "0\n",
      "1\n",
      "2\n",
      "3\n",
      "4\n",
      "5\n",
      "6\n",
      "7\n",
      "8\n",
      "9\n",
      "89\n"
     ]
    }
   ],
   "source": [
    "#2. Write a Python program to print all disarium numbers between 1 to 100?\n",
    "User = int(input(\"Enter upper range: \"))\n",
    "def dis(N):\n",
    "    a = 1\n",
    "    total = 0\n",
    "    for i in N:\n",
    "        total += int(i)**a\n",
    "        a += 1\n",
    "    if total == int(N):\n",
    "        return \"Disarium Number\"\n",
    "\n",
    "    \n",
    "for i in range(User):\n",
    "    if dis(str(i)) == \"Disarium Number\":\n",
    "        print(i)"
   ]
  },
  {
   "cell_type": "code",
   "execution_count": 39,
   "metadata": {},
   "outputs": [
    {
     "name": "stdout",
     "output_type": "stream",
     "text": [
      "Enter Number: 49\n",
      "Happy Number\n"
     ]
    }
   ],
   "source": [
    "#3. Write a Python program to check if the given number is Happy Number?\n",
    "N = input(\"Enter Number: \")\n",
    "\n",
    "def happy(x): #using recursion\n",
    "    total = 0\n",
    "    try: #in this code we recall the function with the output created inside the loop, as program will only stop when it reaches 1 exception block is created when a certain limit of trials is done \n",
    "        for i in x:\n",
    "            total += int(i) ** 2\n",
    "        if total == 1:\n",
    "            return \"Happy Number\"\n",
    "        return happy(str(total))\n",
    "    except:\n",
    "        return \"Not a Happy Number\"\n",
    "print(happy(N))"
   ]
  },
  {
   "cell_type": "code",
   "execution_count": 42,
   "metadata": {},
   "outputs": [
    {
     "name": "stdout",
     "output_type": "stream",
     "text": [
      "Enter Number: 78\n",
      "Not a Happy Number\n"
     ]
    }
   ],
   "source": [
    "N = input(\"Enter Number: \")\n",
    "def happy(x): #using recursion\n",
    "    total = 0\n",
    "    try: #in this code we recall the function with the output created inside the loop, as program will only stop when it reaches 1 exception block is created when a certain limit of trials is done \n",
    "        for i in x:\n",
    "            total += int(i) ** 2\n",
    "        if total == 1:\n",
    "            return \"Happy Number\"\n",
    "        return happy(str(total))\n",
    "    except:\n",
    "        return \"Not a Happy Number\"\n",
    "print(happy(N))"
   ]
  },
  {
   "cell_type": "code",
   "execution_count": 44,
   "metadata": {},
   "outputs": [
    {
     "name": "stdout",
     "output_type": "stream",
     "text": [
      "Enter Upper Range: 101\n",
      "1\n",
      "7\n",
      "10\n",
      "13\n",
      "19\n",
      "23\n",
      "28\n",
      "31\n",
      "32\n",
      "44\n",
      "49\n",
      "68\n",
      "70\n",
      "79\n",
      "82\n",
      "86\n",
      "91\n",
      "94\n",
      "97\n",
      "100\n"
     ]
    }
   ],
   "source": [
    "#4. Write a Python program to print all happy numbers between 1 and 100?\n",
    "def happy(x): #using recursion\n",
    "    total = 0\n",
    "    try: #in this code we recall the function with the output created inside the loop, as program will only stop when it reaches 1 exception block is created when a certain limit of trials is done \n",
    "        for i in x:\n",
    "            total += int(i) ** 2\n",
    "        if total == 1:\n",
    "            return \"Happy Number\"\n",
    "        return happy(str(total))\n",
    "    except:\n",
    "        return \"Not a Happy Number\"\n",
    "    \n",
    "User = int(input(\"Enter Upper Range: \"))\n",
    "for i in range(User):\n",
    "    if happy(str(i)) == \"Happy Number\":\n",
    "        print(i)\n",
    "        "
   ]
  },
  {
   "cell_type": "code",
   "execution_count": 53,
   "metadata": {},
   "outputs": [
    {
     "name": "stdout",
     "output_type": "stream",
     "text": [
      "Enter Number: 21\n",
      "('Harshad Number', 'Remainder =  0')\n"
     ]
    }
   ],
   "source": [
    "#5. Write a Python program to determine whether the given number is a Harshad Number?\n",
    "def harshad(x):\n",
    "    divisor = 0\n",
    "    for i in str(x):\n",
    "        divisor += int(i)\n",
    "    if int(x) % divisor == 0:\n",
    "        return \"Harshad Number\", \"Remainder =  {}\".format(int(x)%divisor)\n",
    "    else:\n",
    "        return \"Not a Harshad Number\", \"Remainder =  {}\".format(int(x)%divisor)\n",
    "user = input(\"Enter Number: \")\n",
    "print(harshad(user))"
   ]
  },
  {
   "cell_type": "code",
   "execution_count": 54,
   "metadata": {},
   "outputs": [
    {
     "name": "stdout",
     "output_type": "stream",
     "text": [
      "Enter Number: 78\n",
      "('Not a Harshad Number', 'Remainder =  3')\n"
     ]
    }
   ],
   "source": [
    "def harshad(x):\n",
    "    divisor = 0\n",
    "    for i in str(x):\n",
    "        divisor += int(i)\n",
    "    if int(x) % divisor == 0:\n",
    "        return \"Harshad Number\", \"Remainder =  {}\".format(int(x)%divisor)\n",
    "    else:\n",
    "        return \"Not a Harshad Number\", \"Remainder =  {}\".format(int(x)%divisor)\n",
    "user = input(\"Enter Number: \")\n",
    "print(harshad(user))"
   ]
  },
  {
   "cell_type": "code",
   "execution_count": 75,
   "metadata": {},
   "outputs": [
    {
     "name": "stdout",
     "output_type": "stream",
     "text": [
      "Enter Range: 100\n",
      "2\n",
      "6\n",
      "12\n",
      "20\n",
      "30\n",
      "42\n",
      "56\n",
      "72\n",
      "90\n"
     ]
    }
   ],
   "source": [
    "#6. Write a Python program to print all pronic numbers between 1 and 100?\n",
    "user = int(input(\"Enter Range: \"))\n",
    "\n",
    "def pronic(n):\n",
    "    factors = []\n",
    "    for i in range(1,n):\n",
    "        if n%i == 0:\n",
    "            factors.append(i)\n",
    "    for x in factors:\n",
    "        a = x\n",
    "        b = x+1\n",
    "        if a*b == n:\n",
    "            return \"Pronic Number\"\n",
    "for i in range(user+1):\n",
    "    if pronic(i) == \"Pronic Number\":\n",
    "        print(i)\n"
   ]
  },
  {
   "cell_type": "code",
   "execution_count": null,
   "metadata": {},
   "outputs": [],
   "source": []
  }
 ],
 "metadata": {
  "kernelspec": {
   "display_name": "Python 3",
   "language": "python",
   "name": "python3"
  },
  "language_info": {
   "codemirror_mode": {
    "name": "ipython",
    "version": 3
   },
   "file_extension": ".py",
   "mimetype": "text/x-python",
   "name": "python",
   "nbconvert_exporter": "python",
   "pygments_lexer": "ipython3",
   "version": "3.8.3"
  }
 },
 "nbformat": 4,
 "nbformat_minor": 4
}
