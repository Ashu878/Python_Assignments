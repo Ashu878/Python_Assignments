{
 "cells": [
  {
   "cell_type": "code",
   "execution_count": 1,
   "id": "ec3732bb",
   "metadata": {},
   "outputs": [],
   "source": [
    "import mysql.connector as curr"
   ]
  },
  {
   "cell_type": "code",
   "execution_count": 2,
   "id": "d88a76ba",
   "metadata": {},
   "outputs": [],
   "source": [
    "conn = curr.connect(user = 'root',password = 'admin', host = 'localhost')"
   ]
  },
  {
   "cell_type": "code",
   "execution_count": 3,
   "id": "8057cb13",
   "metadata": {},
   "outputs": [],
   "source": [
    "cursor = conn.cursor()"
   ]
  },
  {
   "cell_type": "code",
   "execution_count": 4,
   "id": "c9564aa8",
   "metadata": {},
   "outputs": [],
   "source": [
    "cursor.execute('USE main')"
   ]
  },
  {
   "cell_type": "code",
   "execution_count": 62,
   "id": "7c3f1c2d",
   "metadata": {},
   "outputs": [],
   "source": [
    "cursor.execute('SELECT * FROM WORKER_TABLE')"
   ]
  },
  {
   "cell_type": "code",
   "execution_count": 60,
   "id": "dcbf6549",
   "metadata": {},
   "outputs": [],
   "source": [
    "cursor.execute(\"INSERT INTO WORKER_TABLE VALUES(7,'AAAAAh',60,'A','ashh.com')\")"
   ]
  },
  {
   "cell_type": "code",
   "execution_count": 63,
   "id": "3c10f4e9",
   "metadata": {
    "scrolled": true
   },
   "outputs": [
    {
     "data": {
      "text/plain": [
       "[(1, 'Ashu', 60000, 'A', 'ashuchandrasingh18@gmail.com'),\n",
       " (2, 'Rashmi', 40000, 'B', 'rashmi@gmail.com'),\n",
       " (3, 'Sarthak', 30000, 'A', 'sarthak@gmail.com'),\n",
       " (4, 'Vipul', 44000, 'C', 'vipul@gmail.com'),\n",
       " (5, 'Satish', 12000, 'B', 'Satish@gmail.com'),\n",
       " (6, 'Sotu', 12000, 'B', 'Sadsagmailcom'),\n",
       " (7, 'AAAAAh', 60, 'A', 'ashh.com')]"
      ]
     },
     "execution_count": 63,
     "metadata": {},
     "output_type": "execute_result"
    }
   ],
   "source": [
    "cursor.fetchall()"
   ]
  },
  {
   "cell_type": "code",
   "execution_count": 64,
   "id": "01b55296",
   "metadata": {},
   "outputs": [],
   "source": [
    "conn.commit()"
   ]
  },
  {
   "cell_type": "code",
   "execution_count": 54,
   "id": "04d25860",
   "metadata": {},
   "outputs": [],
   "source": [
    "cursor.execute('DESCRIBE WORKER_TABLE')"
   ]
  },
  {
   "cell_type": "code",
   "execution_count": 55,
   "id": "bbb08dee",
   "metadata": {},
   "outputs": [
    {
     "data": {
      "text/plain": [
       "[('id', b'int', 'NO', 'PRI', None, ''),\n",
       " ('name', b'varchar(30)', 'YES', '', None, ''),\n",
       " ('SALARY', b'int', 'YES', '', None, ''),\n",
       " ('DEPARTMENT', b'varchar(1)', 'YES', '', None, ''),\n",
       " ('email', b'varchar(40)', 'YES', '', None, '')]"
      ]
     },
     "execution_count": 55,
     "metadata": {},
     "output_type": "execute_result"
    }
   ],
   "source": [
    "cursor.fetchall()"
   ]
  },
  {
   "cell_type": "code",
   "execution_count": 56,
   "id": "99d8c54f",
   "metadata": {},
   "outputs": [],
   "source": [
    "cursor.execute(\"SELECT * FROM WORKER_TABLE WHERE name IN ('Vipul','Satish') \")"
   ]
  },
  {
   "cell_type": "markdown",
   "id": "4f43b6d4",
   "metadata": {},
   "source": [
    "# Q-1. Write an SQL query to print details of workers excluding first names, “Vipul” and “Satish” from Worker table."
   ]
  },
  {
   "cell_type": "code",
   "execution_count": 58,
   "id": "3a9b0a7e",
   "metadata": {},
   "outputs": [],
   "source": [
    "cursor.execute(\"SELECT * FROM WORKER_TABLE WHERE name IN ('Vipul','Satish') \")"
   ]
  },
  {
   "cell_type": "code",
   "execution_count": 59,
   "id": "e11e050c",
   "metadata": {},
   "outputs": [
    {
     "data": {
      "text/plain": [
       "[(4, 'Vipul', 44000, 'C', 'vipul@gmail.com'),\n",
       " (5, 'Satish', 12000, 'B', 'Satish@gmail.com')]"
      ]
     },
     "execution_count": 59,
     "metadata": {},
     "output_type": "execute_result"
    }
   ],
   "source": [
    "cursor.fetchall()"
   ]
  },
  {
   "cell_type": "markdown",
   "id": "ae0e3f57",
   "metadata": {},
   "source": [
    "# Q-2. Write an SQL query to print details of the Workers whose FIRST_NAME ends with ‘h’ and contains six alphabets."
   ]
  },
  {
   "cell_type": "code",
   "execution_count": 65,
   "id": "72c7a3cc",
   "metadata": {},
   "outputs": [],
   "source": [
    "cursor.execute(\"SELECT * FROM WORKER_TABLE WHERE name LIKE ('%h') AND LENGTH(6) \")"
   ]
  },
  {
   "cell_type": "code",
   "execution_count": 66,
   "id": "da9fe3e8",
   "metadata": {},
   "outputs": [
    {
     "data": {
      "text/plain": [
       "[(5, 'Satish', 12000, 'B', 'Satish@gmail.com'),\n",
       " (7, 'AAAAAh', 60, 'A', 'ashh.com')]"
      ]
     },
     "execution_count": 66,
     "metadata": {},
     "output_type": "execute_result"
    }
   ],
   "source": [
    "cursor.fetchall()"
   ]
  },
  {
   "cell_type": "markdown",
   "id": "5d0f634c",
   "metadata": {},
   "source": [
    "# Q-3. Write a query to validate Email of Employee."
   ]
  },
  {
   "cell_type": "code",
   "execution_count": 69,
   "id": "a8cfb738",
   "metadata": {},
   "outputs": [],
   "source": [
    "cursor.execute(\"SELECT * FROM WORKER_TABLE WHERE email NOT LIKE ('%@%.%') \" )"
   ]
  },
  {
   "cell_type": "code",
   "execution_count": 70,
   "id": "6ee98096",
   "metadata": {},
   "outputs": [
    {
     "data": {
      "text/plain": [
       "[(6, 'Sotu', 12000, 'B', 'Sadsagmailcom'), (7, 'AAAAAh', 60, 'A', 'ashh.com')]"
      ]
     },
     "execution_count": 70,
     "metadata": {},
     "output_type": "execute_result"
    }
   ],
   "source": [
    "cursor.fetchall()"
   ]
  },
  {
   "cell_type": "code",
   "execution_count": null,
   "id": "88aaab92",
   "metadata": {},
   "outputs": [],
   "source": []
  }
 ],
 "metadata": {
  "kernelspec": {
   "display_name": "Python 3 (ipykernel)",
   "language": "python",
   "name": "python3"
  },
  "language_info": {
   "codemirror_mode": {
    "name": "ipython",
    "version": 3
   },
   "file_extension": ".py",
   "mimetype": "text/x-python",
   "name": "python",
   "nbconvert_exporter": "python",
   "pygments_lexer": "ipython3",
   "version": "3.9.7"
  }
 },
 "nbformat": 4,
 "nbformat_minor": 5
}
