{
 "cells": [
  {
   "cell_type": "raw",
   "metadata": {},
   "source": [
    "1. In the below elements which of them are values or an expression? eg:- values can be\n",
    "integer or string and expressions will be mathematical operators.\n",
    "\n",
    "Ans)       * = mathematical operator (multiplication)\n",
    "\n",
    "     'hello' = string\n",
    "\n",
    "      - 87.8 = float\n",
    "\n",
    "           - = mathematical operator (subtraction)\n",
    "\n",
    "           / = mathematical operator (float division)\n",
    " \n",
    "           + = mahematical operator (addition)\n",
    "\n",
    "\n"
   ]
  },
  {
   "cell_type": "raw",
   "metadata": {},
   "source": [
    "2. What is the difference between string and variable?\n",
    "\n",
    "Ans) 1) String is a combination of characters which is enclosed by a single or double quote, While variable is a memory location or entity which stores or holds a value, a character or combination of character is assigned to a value with '=' sign. \n",
    "\n",
    "2) A string can be stored in a variable but a string can't store a variable\n",
    "\n",
    "3) string can hold any character or expression or real/imaginary number inside it's quotes while variable has restrictions as it can hold only a character or list of characters or characters with some expressions.\n",
    "\n",
    "Example = 'a' , \"ashu\", \"Ashu !@#$%&((&)_/ 1511515\" are examples of String \n",
    "          a = 10 , ashu = input() , x = y + 2 , y = 4 \n",
    "\n"
   ]
  },
  {
   "cell_type": "code",
   "execution_count": null,
   "metadata": {},
   "outputs": [],
   "source": [
    "3. Describe three different data types.\n",
    "\n",
    "Ans)\n",
    "\n",
    "Int =  \"\"\"Int or integer is a data type which holds all the whole numbers from - infinity to + infinity, while type casting we use\n",
    "int(\"any numeric value\") to convert the data type\"\"\"\n",
    "\n",
    "    x = 4 #4 here is an integer\n",
    "    x = 4.0 #this is not an integer but a float\n",
    "    type(x) = int\n",
    "    \n",
    "    \n",
    "Float = \"All the numbers with it's decimal points are called as float numbers\"\n",
    "      #examples\n",
    "      y = 4.23 , ashu = - 1.1\n",
    "        type(y) = float        \n",
    "\n",
    "Complex = \"\"\"A complex number is a type of data which has combination of real and an Imaginary number in mathematical terms imaginary \n",
    "number is presented as i but in python it is presentated as j\"\"\"\n",
    "\n",
    "#examples \n",
    "x = 4 + 14j \n",
    "type(x) = complex\n",
    "        \n",
    "    \n",
    "\n",
    "\n",
    "        \n",
    "\n",
    "        \n",
    "      \n",
    "    \n",
    "    \n",
    "    "
   ]
  },
  {
   "cell_type": "raw",
   "metadata": {},
   "source": [
    "Q4. What is an expression made up of? What do all expressions do?\n",
    "\n",
    "Ans) Expressions are set of operators and operands which function together to output some value when attatched with a set of numbers.\n",
    "\n",
    "Types :-\n",
    "\n",
    "Addition :- '+' , 1 + 2 = 3\n",
    "\n",
    "Subtraction :- '-', 2 - 1 = 1\n",
    "\n",
    "Multiplication :- '*' , 2*2 = 4\n",
    "\n",
    "Integer Divion :- '//' , 5 // 2 = 2 #results in integers\n",
    "\n",
    "Float Division :- '/' , 5//2 = 2.5 #results in float\n",
    "\n",
    "Remainder Division :- '%' , 4//2 = 0 #remainder is 0 when 4 is divided by 2\n",
    "\n",
    "Exponent :- '**' , 2**2 = 4 , 2**3 = 8, #double astericks followed a number will raise it according to the number specified\n"
   ]
  },
  {
   "cell_type": "raw",
   "metadata": {},
   "source": [
    "Q5. This assignment statements, like spam = 10. What is the difference between an\n",
    "expression and a statement?\n",
    "\n",
    "Ans) Assignment statements are used to assign a value to variable whilst expressions are set of operators like  +, -, / , // , ** , % which are used to produce an output when it is treated by values. '=' is an assignment statement.\n",
    "\n",
    "x = 2 #assignment statement in which x is assigned to a value 2.\n",
    "\n",
    "2 + 3 = 5 #addition expression \n"
   ]
  },
  {
   "cell_type": "code",
   "execution_count": 1,
   "metadata": {},
   "outputs": [
    {
     "data": {
      "text/plain": [
       "23"
      ]
     },
     "execution_count": 1,
     "metadata": {},
     "output_type": "execute_result"
    }
   ],
   "source": [
    "#Q6. After running the following code, what does the variable bacon contain?\n",
    "bacon = 22\n",
    "bacon + 1"
   ]
  },
  {
   "cell_type": "code",
   "execution_count": null,
   "metadata": {},
   "outputs": [],
   "source": [
    "#Q7. What should the values of the following two terms be?\n",
    "\n",
    "x = 'spam' + 'spamspam'\n",
    "print(x)\n",
    "\n",
    "\n"
   ]
  },
  {
   "cell_type": "code",
   "execution_count": 2,
   "metadata": {},
   "outputs": [
    {
     "data": {
      "text/plain": [
       "'spamspamspam'"
      ]
     },
     "execution_count": 2,
     "metadata": {},
     "output_type": "execute_result"
    }
   ],
   "source": [
    "x = \"spam\"\n",
    "x*3"
   ]
  },
  {
   "cell_type": "raw",
   "metadata": {},
   "source": [
    "Q8. Why is eggs a valid variable name while 100 is invalid?\n",
    "\n"
   ]
  },
  {
   "cell_type": "code",
   "execution_count": 3,
   "metadata": {},
   "outputs": [
    {
     "ename": "SyntaxError",
     "evalue": "cannot assign to literal (<ipython-input-3-53c9b31c6023>, line 1)",
     "output_type": "error",
     "traceback": [
      "\u001b[1;36m  File \u001b[1;32m\"<ipython-input-3-53c9b31c6023>\"\u001b[1;36m, line \u001b[1;32m1\u001b[0m\n\u001b[1;33m    100 = 2\u001b[0m\n\u001b[1;37m    ^\u001b[0m\n\u001b[1;31mSyntaxError\u001b[0m\u001b[1;31m:\u001b[0m cannot assign to literal\n"
     ]
    }
   ],
   "source": [
    "100 = 2"
   ]
  },
  {
   "cell_type": "raw",
   "metadata": {},
   "source": [
    "As 100 is a literal value python cannot interpret it into a variable name therefore it can't be used as variable"
   ]
  },
  {
   "cell_type": "code",
   "execution_count": 4,
   "metadata": {},
   "outputs": [],
   "source": [
    "x = 10"
   ]
  },
  {
   "cell_type": "code",
   "execution_count": 5,
   "metadata": {},
   "outputs": [
    {
     "data": {
      "text/plain": [
       "10"
      ]
     },
     "execution_count": 5,
     "metadata": {},
     "output_type": "execute_result"
    }
   ],
   "source": [
    "x"
   ]
  },
  {
   "cell_type": "raw",
   "metadata": {},
   "source": [
    "X is a unique character which can be used to define a value"
   ]
  },
  {
   "cell_type": "raw",
   "metadata": {},
   "source": [
    "9. What three functions can be used to get the integer, floating-point number, or string\n",
    "version of a value?"
   ]
  },
  {
   "cell_type": "code",
   "execution_count": 6,
   "metadata": {},
   "outputs": [
    {
     "data": {
      "text/plain": [
       "'10'"
      ]
     },
     "execution_count": 6,
     "metadata": {},
     "output_type": "execute_result"
    }
   ],
   "source": [
    "str(10)"
   ]
  },
  {
   "cell_type": "code",
   "execution_count": 7,
   "metadata": {},
   "outputs": [
    {
     "data": {
      "text/plain": [
       "10.0"
      ]
     },
     "execution_count": 7,
     "metadata": {},
     "output_type": "execute_result"
    }
   ],
   "source": [
    "float(10)"
   ]
  },
  {
   "cell_type": "code",
   "execution_count": 8,
   "metadata": {},
   "outputs": [
    {
     "data": {
      "text/plain": [
       "10"
      ]
     },
     "execution_count": 8,
     "metadata": {},
     "output_type": "execute_result"
    }
   ],
   "source": [
    "int(10.0)"
   ]
  },
  {
   "cell_type": "raw",
   "metadata": {},
   "source": [
    "10. Why does this expression cause an error? How can you fix it?\n",
    "\n",
    "Expression causes an error because same quotes are placed within  same quotes."
   ]
  },
  {
   "cell_type": "code",
   "execution_count": 9,
   "metadata": {},
   "outputs": [
    {
     "data": {
      "text/plain": [
       "\"I have eaten ''+99+' burritos\""
      ]
     },
     "execution_count": 9,
     "metadata": {},
     "output_type": "execute_result"
    }
   ],
   "source": [
    "correct = \"\"\"I have eaten ''+99+' burritos\"\"\" #triple quotes\n",
    "correct"
   ]
  },
  {
   "cell_type": "code",
   "execution_count": null,
   "metadata": {},
   "outputs": [],
   "source": []
  }
 ],
 "metadata": {
  "kernelspec": {
   "display_name": "Python 3",
   "language": "python",
   "name": "python3"
  },
  "language_info": {
   "codemirror_mode": {
    "name": "ipython",
    "version": 3
   },
   "file_extension": ".py",
   "mimetype": "text/x-python",
   "name": "python",
   "nbconvert_exporter": "python",
   "pygments_lexer": "ipython3",
   "version": "3.8.3"
  }
 },
 "nbformat": 4,
 "nbformat_minor": 4
}
