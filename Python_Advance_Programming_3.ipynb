{
 "cells": [
  {
   "cell_type": "markdown",
   "id": "db673410",
   "metadata": {},
   "source": [
    "#### 1. Create a function to perform basic arithmetic operations that includes addition, subtraction, multiplication and division on a string number (e.g. \"12 + 24\" or \"23 - 21\" or \"12 // 12\" or \"12 * 21\")."
   ]
  },
  {
   "cell_type": "code",
   "execution_count": 1,
   "id": "cf8288c1",
   "metadata": {},
   "outputs": [],
   "source": [
    "class arthimetic_operation:\n",
    "    \"\"\"Cal without eval function\"\"\"\n",
    "    def __init__(self,str1):\n",
    "        try:\n",
    "            self.str1 = str1\n",
    "            if type(self.str1) != str:\n",
    "                raise Exception(\"Invalid input\")\n",
    "        except Exception as e:\n",
    "            print(e)\n",
    "            \n",
    "            \n",
    "    def solver(self):\n",
    "        \"\"\"Class instantce to solve\"\"\"\n",
    "        try:\n",
    "            main = self.str1.split()\n",
    "            \n",
    "            dump = []\n",
    "            for i in main:\n",
    "                if i in \"1234567890\":\n",
    "                    dump.append(int(i))\n",
    "                    print(i)\n",
    "            for i in main:\n",
    "                if i == \"+\":\n",
    "                    return sum(dump)\n",
    "                if i == \"*\":\n",
    "                    total = 1\n",
    "                    for i in dump:\n",
    "                        total *= i\n",
    "                    return total\n",
    "\n",
    "                if i == \"-\":\n",
    "\n",
    "                    return dump[0] - dump[1]\n",
    "                if i == '//':\n",
    "                    if dump[1] == 0:\n",
    "                        return -1\n",
    "                    else:\n",
    "                        return dump[0]//dump[1]\n",
    "        except Exception as e:\n",
    "            print(e)\n",
    "\n",
    "  \n",
    "            \n",
    "\n",
    "                    \n",
    "                    \n",
    "        "
   ]
  },
  {
   "cell_type": "code",
   "execution_count": 2,
   "id": "c8ea867e",
   "metadata": {},
   "outputs": [
    {
     "name": "stdout",
     "output_type": "stream",
     "text": [
      "12\n",
      "12\n"
     ]
    },
    {
     "data": {
      "text/plain": [
       "24"
      ]
     },
     "execution_count": 2,
     "metadata": {},
     "output_type": "execute_result"
    }
   ],
   "source": [
    "a = arthimetic_operation(\"12 + 12\")\n",
    "a.solver()"
   ]
  },
  {
   "cell_type": "code",
   "execution_count": 3,
   "id": "12e050ad",
   "metadata": {
    "scrolled": true
   },
   "outputs": [
    {
     "name": "stdout",
     "output_type": "stream",
     "text": [
      "12\n",
      "12\n"
     ]
    },
    {
     "data": {
      "text/plain": [
       "144"
      ]
     },
     "execution_count": 3,
     "metadata": {},
     "output_type": "execute_result"
    }
   ],
   "source": [
    "b = arthimetic_operation(\"12 * 12\")\n",
    "b.solver()"
   ]
  },
  {
   "cell_type": "code",
   "execution_count": 4,
   "id": "3d8bf7cb",
   "metadata": {
    "scrolled": true
   },
   "outputs": [
    {
     "name": "stdout",
     "output_type": "stream",
     "text": [
      "12\n",
      "12\n"
     ]
    },
    {
     "data": {
      "text/plain": [
       "1"
      ]
     },
     "execution_count": 4,
     "metadata": {},
     "output_type": "execute_result"
    }
   ],
   "source": [
    "c = arthimetic_operation(\"12 // 12\")\n",
    "c.solver()"
   ]
  },
  {
   "cell_type": "code",
   "execution_count": 5,
   "id": "81245f07",
   "metadata": {},
   "outputs": [
    {
     "name": "stdout",
     "output_type": "stream",
     "text": [
      "12\n",
      "12\n"
     ]
    },
    {
     "data": {
      "text/plain": [
       "0"
      ]
     },
     "execution_count": 5,
     "metadata": {},
     "output_type": "execute_result"
    }
   ],
   "source": [
    "d = arthimetic_operation(\"12 - 12\")\n",
    "d.solver()"
   ]
  },
  {
   "cell_type": "code",
   "execution_count": 6,
   "id": "f274c941",
   "metadata": {},
   "outputs": [
    {
     "name": "stdout",
     "output_type": "stream",
     "text": [
      "12\n",
      "0\n"
     ]
    },
    {
     "data": {
      "text/plain": [
       "-1"
      ]
     },
     "execution_count": 6,
     "metadata": {},
     "output_type": "execute_result"
    }
   ],
   "source": [
    "d1 = arthimetic_operation(\"12 // 0\")\n",
    "d1.solver()"
   ]
  },
  {
   "cell_type": "code",
   "execution_count": 7,
   "id": "1e84f5cd",
   "metadata": {},
   "outputs": [
    {
     "data": {
      "text/plain": [
       "[12]"
      ]
     },
     "execution_count": 7,
     "metadata": {},
     "output_type": "execute_result"
    }
   ],
   "source": [
    "a = [12,1]\n",
    "b = [2,1]\n",
    "list(set(a)-set(b))"
   ]
  },
  {
   "cell_type": "code",
   "execution_count": 8,
   "id": "d508a67f",
   "metadata": {},
   "outputs": [],
   "source": [
    "import numpy as np"
   ]
  },
  {
   "cell_type": "code",
   "execution_count": 9,
   "id": "7bce249d",
   "metadata": {},
   "outputs": [],
   "source": [
    "a = np.array([1,2,3])\n",
    "b = np.array([2,2,2])\n",
    "\n"
   ]
  },
  {
   "cell_type": "code",
   "execution_count": 10,
   "id": "cadd6eda",
   "metadata": {},
   "outputs": [
    {
     "data": {
      "text/plain": [
       "array([-1,  0,  1])"
      ]
     },
     "execution_count": 10,
     "metadata": {},
     "output_type": "execute_result"
    }
   ],
   "source": [
    "np.subtract(a,b)"
   ]
  },
  {
   "cell_type": "markdown",
   "id": "4e53f4a8",
   "metadata": {},
   "source": [
    "#### 2. Write a function that takes the coordinates of three points in the form of a 2d array and returns the perimeter of the triangle. The given points are the vertices of a triangle on a two-dimensional plane."
   ]
  },
  {
   "cell_type": "code",
   "execution_count": 11,
   "id": "d16c0072",
   "metadata": {},
   "outputs": [],
   "source": [
    "import numpy as np"
   ]
  },
  {
   "cell_type": "code",
   "execution_count": 12,
   "id": "9516f1d7",
   "metadata": {},
   "outputs": [],
   "source": [
    "class perimeter:\n",
    "    \n",
    "    def __init__(self,*args):\n",
    "        \n",
    "        try:\n",
    "            self.args = args\n",
    "            for i in self.args:\n",
    "                if type(i) != list:\n",
    "                    raise Exception(\"Invalid Input\")\n",
    "        except Exception as e:\n",
    "            print(e)\n",
    "            \n",
    "    def peri(self):\n",
    "        \"\"\"Class instance to find perimeter\"\"\"\n",
    "        try:\n",
    "            main = list(self.args)\n",
    "            for i in range(len(main)):\n",
    "                a = np.array(main[i])\n",
    "                b = np.array(main[i + 1])\n",
    "                c = np.array(main[i + 2])\n",
    "                break\n",
    "            perimeter = (sum((np.subtract(a,b))**2))**0.5 + (sum((np.subtract(b,c))**2))**0.5 + (sum((np.subtract(a,c))**2))**0.5\n",
    "            print(perimeter)\n",
    "            \n",
    "                \n",
    "        except Exception as e:\n",
    "            print(e)\n",
    "                \n",
    "            \n",
    "       \n",
    "        \n",
    "    \n",
    "        "
   ]
  },
  {
   "cell_type": "code",
   "execution_count": 13,
   "id": "c9c78ac8",
   "metadata": {},
   "outputs": [
    {
     "name": "stdout",
     "output_type": "stream",
     "text": [
      "47.07918859608948\n"
     ]
    }
   ],
   "source": [
    "a = perimeter( [15, 7], [5, 22], [11, 1]  )\n",
    "a.peri()"
   ]
  },
  {
   "cell_type": "code",
   "execution_count": 17,
   "id": "4da7c914",
   "metadata": {},
   "outputs": [
    {
     "name": "stdout",
     "output_type": "stream",
     "text": [
      "3.414213562373095\n"
     ]
    }
   ],
   "source": [
    "b = perimeter([0, 0], [0, 1], [1, 0])\n",
    "b.peri()\n"
   ]
  },
  {
   "cell_type": "code",
   "execution_count": 18,
   "id": "dbb51a21",
   "metadata": {},
   "outputs": [
    {
     "name": "stdout",
     "output_type": "stream",
     "text": [
      "68.2842712474619\n"
     ]
    }
   ],
   "source": [
    "c = perimeter([-10, -10], [10, 10 ], [-10, 10] )\n",
    "c.peri()"
   ]
  },
  {
   "cell_type": "markdown",
   "id": "3ae5dd4e",
   "metadata": {},
   "source": [
    "#### 3. A city skyline can be represented as a 2-D list with 1s representing buildings. In the example below, the height of the tallest building is 4 (second-most right column)."
   ]
  },
  {
   "cell_type": "code",
   "execution_count": 16,
   "id": "c6f1e656",
   "metadata": {},
   "outputs": [],
   "source": [
    "import pandas as pd"
   ]
  },
  {
   "cell_type": "code",
   "execution_count": 82,
   "id": "d57763be",
   "metadata": {},
   "outputs": [],
   "source": [
    "class tallest_skyscraper:\n",
    "    def __init__(self,li):\n",
    "        try:\n",
    "            self.li = li\n",
    "            if type(self.li) != list:\n",
    "                raise Exception(\"Invalid Input\")\n",
    "        except exception as e:\n",
    "            print(e)\n",
    "    \n",
    "    def out(self):\n",
    "        \"\"\"Class instance to check the tallest skyscraper\"\"\"\n",
    "        try:\n",
    "            main = pd.DataFrame(self.li)\n",
    "            dump = []\n",
    "            for i in main:\n",
    "                col_sum = main[i].sum()\n",
    "                dump.append(col_sum)\n",
    "                      \n",
    "                    \n",
    "            return max(dump)\n",
    "                  \n",
    "        except Exception as e:\n",
    "            print(e)\n",
    "            \n",
    "            "
   ]
  },
  {
   "cell_type": "code",
   "execution_count": 83,
   "id": "b3374ddf",
   "metadata": {},
   "outputs": [
    {
     "data": {
      "text/plain": [
       "3"
      ]
     },
     "execution_count": 83,
     "metadata": {},
     "output_type": "execute_result"
    }
   ],
   "source": [
    "a = tallest_skyscraper([[0, 0, 0, 0],\n",
    "  [0, 1, 0, 0],\n",
    "  [0, 1, 1, 0],\n",
    "  [1, 1, 1, 1]\n",
    "])\n",
    "a.out()"
   ]
  },
  {
   "cell_type": "code",
   "execution_count": 84,
   "id": "0cb4b114",
   "metadata": {},
   "outputs": [
    {
     "data": {
      "text/plain": [
       "4"
      ]
     },
     "execution_count": 84,
     "metadata": {},
     "output_type": "execute_result"
    }
   ],
   "source": [
    "b = tallest_skyscraper([[0, 1, 0, 0],\n",
    "  [0, 1, 0, 0],\n",
    "  [0, 1, 1, 0],\n",
    "  [1, 1, 1, 1]\n",
    "])\n",
    "b.out()"
   ]
  },
  {
   "cell_type": "code",
   "execution_count": 85,
   "id": "cef83239",
   "metadata": {},
   "outputs": [
    {
     "data": {
      "text/plain": [
       "2"
      ]
     },
     "execution_count": 85,
     "metadata": {},
     "output_type": "execute_result"
    }
   ],
   "source": [
    "c = tallest_skyscraper([  [0, 0, 0, 0],\n",
    "  [0, 0, 0, 0],\n",
    "  [1, 1, 1, 0],\n",
    "  [1, 1, 1, 1]\n",
    "])\n",
    "c.out()"
   ]
  },
  {
   "cell_type": "code",
   "execution_count": 88,
   "id": "34de493d",
   "metadata": {},
   "outputs": [
    {
     "data": {
      "text/plain": [
       "4"
      ]
     },
     "execution_count": 88,
     "metadata": {},
     "output_type": "execute_result"
    }
   ],
   "source": [
    "d = tallest_skyscraper(\n",
    "[[0, 0, 0, 0, 0, 0],\n",
    "[0, 0, 0, 0, 1, 0],\n",
    "[0, 0, 1, 0, 1, 0],\n",
    "[0, 1, 1, 1, 1, 0],\n",
    "[1, 1, 1, 1, 1, 1]]\n",
    ")\n",
    "d.out()"
   ]
  },
  {
   "cell_type": "markdown",
   "id": "8579942a",
   "metadata": {},
   "source": [
    "#### 4. A financial institution provides professional services to banks and claims charges from the customers based on the number of man-days provided. Internally, it has set a scheme to motivate and reward staff to meet and exceed targeted billable utilization and revenues by paying a bonus for each day claimed from customers in excess of a threshold target."
   ]
  },
  {
   "cell_type": "code",
   "execution_count": 1,
   "id": "46bd854f",
   "metadata": {},
   "outputs": [],
   "source": [
    "class bonus:\n",
    "    def __init__(self,days):\n",
    "        \n",
    "            \n",
    "            \n",
    "            \n",
    "                \n",
    "        \n",
    "        \n",
    "        "
   ]
  },
  {
   "cell_type": "code",
   "execution_count": 3,
   "id": "a356c164",
   "metadata": {
    "scrolled": true
   },
   "outputs": [],
   "source": [
    "bonus1(32)"
   ]
  },
  {
   "cell_type": "markdown",
   "id": "ada9c22c",
   "metadata": {},
   "source": [
    "#### 5. A number is said to be Disarium if the sum of its digits raised to their respective positions is the number itself. Create a function that determines whether a number is a Disarium or not\n"
   ]
  },
  {
   "cell_type": "code",
   "execution_count": 109,
   "id": "ba56af86",
   "metadata": {},
   "outputs": [],
   "source": [
    "class Disarium:\n",
    "    \"\"\"Class to identify if number is disarium or not\"\"\"\n",
    "    def __init__(self,number):\n",
    "        try:\n",
    "            self.number = number\n",
    "            if type(self.number) != int:\n",
    "                raise Exception(\"Invalid Input\")\n",
    "        except Exception as e:\n",
    "            print(e)\n",
    "            \n",
    "    def checker(self):\n",
    "        \"\"\"Checker\"\"\"\n",
    "        try:\n",
    "            total = 0\n",
    "            raiser = 1\n",
    "            for i in str(self.number):\n",
    "                total += int(i)**raiser\n",
    "                raiser += 1\n",
    "                \n",
    "            print(total)\n",
    "            \n",
    "            if total == self.number:\n",
    "                return True\n",
    "            else:\n",
    "                return False\n",
    "            \n",
    "        except Exception as e:\n",
    "            print(e)\n",
    "            \n",
    "            \n",
    "            \n",
    "        "
   ]
  },
  {
   "cell_type": "code",
   "execution_count": 110,
   "id": "d544c907",
   "metadata": {},
   "outputs": [],
   "source": [
    "a = Disarium(135)"
   ]
  },
  {
   "cell_type": "code",
   "execution_count": 111,
   "id": "20ff24af",
   "metadata": {},
   "outputs": [
    {
     "name": "stdout",
     "output_type": "stream",
     "text": [
      "135\n"
     ]
    },
    {
     "data": {
      "text/plain": [
       "True"
      ]
     },
     "execution_count": 111,
     "metadata": {},
     "output_type": "execute_result"
    }
   ],
   "source": [
    "a.checker()"
   ]
  },
  {
   "cell_type": "code",
   "execution_count": 112,
   "id": "6341c0c6",
   "metadata": {},
   "outputs": [
    {
     "name": "stdout",
     "output_type": "stream",
     "text": [
      "32\n"
     ]
    },
    {
     "data": {
      "text/plain": [
       "False"
      ]
     },
     "execution_count": 112,
     "metadata": {},
     "output_type": "execute_result"
    }
   ],
   "source": [
    "b = Disarium(75)\n",
    "b.checker()"
   ]
  },
  {
   "cell_type": "code",
   "execution_count": 113,
   "id": "1d07b21f",
   "metadata": {},
   "outputs": [
    {
     "name": "stdout",
     "output_type": "stream",
     "text": [
      "518\n"
     ]
    },
    {
     "data": {
      "text/plain": [
       "True"
      ]
     },
     "execution_count": 113,
     "metadata": {},
     "output_type": "execute_result"
    }
   ],
   "source": [
    "c = Disarium(518)\n",
    "c.checker()"
   ]
  },
  {
   "cell_type": "code",
   "execution_count": null,
   "id": "6756e628",
   "metadata": {},
   "outputs": [],
   "source": []
  }
 ],
 "metadata": {
  "kernelspec": {
   "display_name": "Python 3 (ipykernel)",
   "language": "python",
   "name": "python3"
  },
  "language_info": {
   "codemirror_mode": {
    "name": "ipython",
    "version": 3
   },
   "file_extension": ".py",
   "mimetype": "text/x-python",
   "name": "python",
   "nbconvert_exporter": "python",
   "pygments_lexer": "ipython3",
   "version": "3.9.7"
  }
 },
 "nbformat": 4,
 "nbformat_minor": 5
}
