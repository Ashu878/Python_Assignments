{
 "cells": [
  {
   "cell_type": "code",
   "execution_count": 1,
   "metadata": {},
   "outputs": [
    {
     "name": "stdout",
     "output_type": "stream",
     "text": [
      "Hello\n"
     ]
    }
   ],
   "source": [
    "#1. Write a Python program to print &quot;Hello Python&quot;?\n",
    "\n",
    "print(\"Hello\")"
   ]
  },
  {
   "cell_type": "code",
   "execution_count": 3,
   "metadata": {},
   "outputs": [
    {
     "name": "stdout",
     "output_type": "stream",
     "text": [
      "12 5.0\n"
     ]
    }
   ],
   "source": [
    "#2. Write a Python program to do arithmetical operations addition and division.?\n",
    "def add(x,y):\n",
    "    return x+y\n",
    "def div(x,y):\n",
    "    return x/y\n",
    "\n",
    "print(add(10,2),div(10,2))"
   ]
  },
  {
   "cell_type": "code",
   "execution_count": 10,
   "metadata": {},
   "outputs": [
    {
     "name": "stdout",
     "output_type": "stream",
     "text": [
      "1\n",
      "2\n",
      "3\n"
     ]
    },
    {
     "data": {
      "text/plain": [
       "3.0"
      ]
     },
     "execution_count": 10,
     "metadata": {},
     "output_type": "execute_result"
    }
   ],
   "source": [
    "#3. Write a Python program to find the area of a triangle?\n",
    "def area_of_triangle(l,b,h):\n",
    "    area = 1/2 * l * b * h\n",
    "    return area\n",
    "\n",
    "l = int(input())\n",
    "b = int(input())\n",
    "h = int(input())\n",
    "\n",
    "area_of_triangle(l,b,h)"
   ]
  },
  {
   "cell_type": "code",
   "execution_count": 13,
   "metadata": {
    "scrolled": true
   },
   "outputs": [
    {
     "name": "stdout",
     "output_type": "stream",
     "text": [
      "5\n",
      "12\n",
      "Value of a after swapping:12\n",
      "Value of b after swapping:5\n"
     ]
    }
   ],
   "source": [
    "#4. 4. Write a Python program to swap two variables?\n",
    "a = input()\n",
    "b = input()\n",
    "\n",
    "temp = a #storing inital value of a in a variable\n",
    "a = b #a gets swapped ie takes value \n",
    "b = temp #b takes the value which we initialised as a got changed\n",
    "\n",
    "print(\"Value of a after swapping:{}\".format(a))\n",
    "print(\"Value of b after swapping:{}\".format(b))"
   ]
  },
  {
   "cell_type": "code",
   "execution_count": 42,
   "metadata": {
    "scrolled": true
   },
   "outputs": [
    {
     "name": "stdout",
     "output_type": "stream",
     "text": [
      "Genrate random numbers from: 12\n",
      "Genrate random numbers to: 22\n",
      "15\n"
     ]
    }
   ],
   "source": [
    "#5 Write a Python program to generate a random number?\n",
    "import random\n",
    "user = int(input(\"Genrate random numbers from: \"))\n",
    "user1 = int(input(\"Genrate random numbers to: \"))\n",
    "\n",
    "try:\n",
    "    print(random.randint(user,user1))\n",
    "except:\n",
    "    print(\"ERROR FIRST OUTPUT GREATER THAN SECOND\")\n",
    "\n",
    "\n",
    "\n",
    "    "
   ]
  },
  {
   "cell_type": "code",
   "execution_count": null,
   "metadata": {},
   "outputs": [],
   "source": []
  }
 ],
 "metadata": {
  "kernelspec": {
   "display_name": "Python 3",
   "language": "python",
   "name": "python3"
  },
  "language_info": {
   "codemirror_mode": {
    "name": "ipython",
    "version": 3
   },
   "file_extension": ".py",
   "mimetype": "text/x-python",
   "name": "python",
   "nbconvert_exporter": "python",
   "pygments_lexer": "ipython3",
   "version": "3.8.3"
  }
 },
 "nbformat": 4,
 "nbformat_minor": 4
}
